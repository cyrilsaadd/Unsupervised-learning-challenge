{
 "cells": [
  {
   "cell_type": "markdown",
   "id": "57a1791c",
   "metadata": {},
   "source": [
    "**CHAMPIONS LEAGUE DATA UNSUPERVISED LEARNING**\n",
    "\n",
    "For soccer fans. Goals, Assists, Attack, Defence, Passing, Field Control, GK Data of the season 2021-22.\n",
    "\n",
    "The UEFA Champions League is an annual club football competition organised by the Union of European Football Associations and contested by top-division European clubs, deciding the competition winners through a round robin group stage to qualify for a double-legged knockout format, and a single leg final."
   ]
  },
  {
   "cell_type": "code",
   "execution_count": 2,
   "id": "aaa347cd",
   "metadata": {},
   "outputs": [],
   "source": [
    "import pandas as pd\n",
    "import numpy as np"
   ]
  },
  {
   "cell_type": "markdown",
   "id": "d135e0a1",
   "metadata": {},
   "source": [
    "**Step1: Collect Data**\n",
    "\n",
    "Here we start by reading the providing csv files which we will later prepare"
   ]
  },
  {
   "cell_type": "code",
   "execution_count": 3,
   "id": "47fa1f7e",
   "metadata": {},
   "outputs": [],
   "source": [
    "attack_ds = pd.read_csv('../data/attacking.csv', index_col=0)\n",
    "attempts_ds = pd.read_csv('../data/attempts.csv', index_col=0)\n",
    "defend_ds = pd.read_csv('../data/defending.csv', index_col=0)\n",
    "disciplinary_ds = pd.read_csv('../data/disciplinary.csv', index_col=0)\n",
    "distributon_ds = pd.read_csv('../data/distributon.csv', index_col=0)\n",
    "goalkeeping_ds = pd.read_csv('../data/goalkeeping.csv', index_col=0)\n",
    "goals_ds = pd.read_csv('../data/goals.csv', index_col=0)\n",
    "key_ds = pd.read_csv('../data/key_stats.csv', index_col=0)"
   ]
  },
  {
   "cell_type": "code",
   "execution_count": 4,
   "id": "3f2be697",
   "metadata": {},
   "outputs": [
    {
     "name": "stdout",
     "output_type": "stream",
     "text": [
      "<class 'pandas.core.frame.DataFrame'>\n",
      "Index: 176 entries, 1 to 64\n",
      "Data columns (total 8 columns):\n",
      " #   Column        Non-Null Count  Dtype \n",
      "---  ------        --------------  ----- \n",
      " 0   player_name   176 non-null    object\n",
      " 1   club          176 non-null    object\n",
      " 2   position      176 non-null    object\n",
      " 3   assists       176 non-null    int64 \n",
      " 4   corner_taken  176 non-null    int64 \n",
      " 5   offsides      176 non-null    int64 \n",
      " 6   dribbles      176 non-null    int64 \n",
      " 7   match_played  176 non-null    int64 \n",
      "dtypes: int64(5), object(3)\n",
      "memory usage: 12.4+ KB\n",
      "<class 'pandas.core.frame.DataFrame'>\n",
      "Index: 546 entries, 1 to 440\n",
      "Data columns (total 8 columns):\n",
      " #   Column          Non-Null Count  Dtype \n",
      "---  ------          --------------  ----- \n",
      " 0   player_name     546 non-null    object\n",
      " 1   club            546 non-null    object\n",
      " 2   position        546 non-null    object\n",
      " 3   total_attempts  546 non-null    int64 \n",
      " 4   on_target       546 non-null    int64 \n",
      " 5   off_target      546 non-null    int64 \n",
      " 6   blocked         546 non-null    int64 \n",
      " 7   match_played    546 non-null    int64 \n",
      "dtypes: int64(5), object(3)\n",
      "memory usage: 38.4+ KB\n",
      "<class 'pandas.core.frame.DataFrame'>\n",
      "Index: 627 entries, 1 to 578\n",
      "Data columns (total 9 columns):\n",
      " #   Column               Non-Null Count  Dtype \n",
      "---  ------               --------------  ----- \n",
      " 0   player_name          627 non-null    object\n",
      " 1   club                 627 non-null    object\n",
      " 2   position             627 non-null    object\n",
      " 3   balls_recoverd       627 non-null    int64 \n",
      " 4   tackles              627 non-null    int64 \n",
      " 5   t_won                627 non-null    int64 \n",
      " 6   t_lost               627 non-null    int64 \n",
      " 7   clearance_attempted  627 non-null    int64 \n",
      " 8   match_played         627 non-null    int64 \n",
      "dtypes: int64(6), object(3)\n",
      "memory usage: 49.0+ KB\n",
      "<class 'pandas.core.frame.DataFrame'>\n",
      "Index: 584 entries, 1 to 491\n",
      "Data columns (total 9 columns):\n",
      " #   Column           Non-Null Count  Dtype \n",
      "---  ------           --------------  ----- \n",
      " 0   player_name      584 non-null    object\n",
      " 1   club             584 non-null    object\n",
      " 2   position         584 non-null    object\n",
      " 3   fouls_committed  584 non-null    int64 \n",
      " 4   fouls_suffered   584 non-null    int64 \n",
      " 5   red              584 non-null    int64 \n",
      " 6   yellow           584 non-null    int64 \n",
      " 7   minutes_played   584 non-null    int64 \n",
      " 8   match_played     584 non-null    int64 \n",
      "dtypes: int64(6), object(3)\n",
      "memory usage: 45.6+ KB\n",
      "<class 'pandas.core.frame.DataFrame'>\n",
      "Index: 608 entries, 1 to 608\n",
      "Data columns (total 11 columns):\n",
      " #   Column           Non-Null Count  Dtype  \n",
      "---  ------           --------------  -----  \n",
      " 0   player_name      608 non-null    object \n",
      " 1   club             608 non-null    object \n",
      " 2   position         608 non-null    object \n",
      " 3   pass_accuracy    608 non-null    float64\n",
      " 4   pass_attempted   608 non-null    int64  \n",
      " 5   pass_completed   608 non-null    int64  \n",
      " 6   cross_accuracy   608 non-null    int64  \n",
      " 7   cross_attempted  608 non-null    int64  \n",
      " 8   cross_complted   608 non-null    int64  \n",
      " 9   freekicks_taken  608 non-null    int64  \n",
      " 10  match_played     608 non-null    int64  \n",
      "dtypes: float64(1), int64(7), object(3)\n",
      "memory usage: 57.0+ KB\n",
      "<class 'pandas.core.frame.DataFrame'>\n",
      "Index: 53 entries, 1 to 52\n",
      "Data columns (total 9 columns):\n",
      " #   Column           Non-Null Count  Dtype \n",
      "---  ------           --------------  ----- \n",
      " 0   player_name      53 non-null     object\n",
      " 1   club             53 non-null     object\n",
      " 2   position         53 non-null     object\n",
      " 3   saved            53 non-null     int64 \n",
      " 4   conceded         53 non-null     int64 \n",
      " 5   saved_penalties  53 non-null     int64 \n",
      " 6   cleansheets      53 non-null     int64 \n",
      " 7   punches made     53 non-null     int64 \n",
      " 8   match_played     53 non-null     int64 \n",
      "dtypes: int64(6), object(3)\n",
      "memory usage: 4.1+ KB\n",
      "<class 'pandas.core.frame.DataFrame'>\n",
      "Index: 183 entries, 1 to 73\n",
      "Data columns (total 12 columns):\n",
      " #   Column         Non-Null Count  Dtype \n",
      "---  ------         --------------  ----- \n",
      " 0   player_name    183 non-null    object\n",
      " 1   club           183 non-null    object\n",
      " 2   position       183 non-null    object\n",
      " 3   goals          183 non-null    int64 \n",
      " 4   right_foot     183 non-null    int64 \n",
      " 5   left_foot      183 non-null    int64 \n",
      " 6   headers        183 non-null    int64 \n",
      " 7   others         183 non-null    int64 \n",
      " 8   inside_area    183 non-null    int64 \n",
      " 9   outside_areas  183 non-null    int64 \n",
      " 10  penalties      183 non-null    int64 \n",
      " 11  match_played   183 non-null    int64 \n",
      "dtypes: int64(9), object(3)\n",
      "memory usage: 18.6+ KB\n",
      "<class 'pandas.core.frame.DataFrame'>\n",
      "Index: 747 entries, Courtois to Zesiger\n",
      "Data columns (total 7 columns):\n",
      " #   Column            Non-Null Count  Dtype \n",
      "---  ------            --------------  ----- \n",
      " 0   club              747 non-null    object\n",
      " 1   position          747 non-null    object\n",
      " 2   minutes_played    747 non-null    int64 \n",
      " 3   match_played      747 non-null    int64 \n",
      " 4   goals             747 non-null    int64 \n",
      " 5   assists           747 non-null    int64 \n",
      " 6   distance_covered  747 non-null    object\n",
      "dtypes: int64(4), object(3)\n",
      "memory usage: 46.7+ KB\n"
     ]
    }
   ],
   "source": [
    "attack_ds.info()\n",
    "attempts_ds.info()\n",
    "defend_ds.info()\n",
    "disciplinary_ds.info()\n",
    "distributon_ds.info()\n",
    "goalkeeping_ds.info()\n",
    "goals_ds.info()\n",
    "key_ds.info()"
   ]
  },
  {
   "cell_type": "markdown",
   "id": "b9725e81",
   "metadata": {},
   "source": [
    "**Merging the data sets**"
   ]
  },
  {
   "cell_type": "code",
   "execution_count": null,
   "id": "7283485c",
   "metadata": {},
   "outputs": [
    {
     "name": "stdout",
     "output_type": "stream",
     "text": [
      "<class 'pandas.core.frame.DataFrame'>\n",
      "RangeIndex: 721 entries, 0 to 720\n",
      "Data columns (total 43 columns):\n",
      " #   Column               Non-Null Count  Dtype  \n",
      "---  ------               --------------  -----  \n",
      " 0   player_name          721 non-null    object \n",
      " 1   club                 721 non-null    object \n",
      " 2   position             721 non-null    object \n",
      " 3   match_played         721 non-null    int64  \n",
      " 4   assists              176 non-null    float64\n",
      " 5   corner_taken         176 non-null    float64\n",
      " 6   offsides             176 non-null    float64\n",
      " 7   dribbles             176 non-null    float64\n",
      " 8   total_attempts       546 non-null    float64\n",
      " 9   on_target            546 non-null    float64\n",
      " 10  off_target           546 non-null    float64\n",
      " 11  blocked              546 non-null    float64\n",
      " 12  balls_recoverd       627 non-null    float64\n",
      " 13  tackles              627 non-null    float64\n",
      " 14  t_won                627 non-null    float64\n",
      " 15  t_lost               627 non-null    float64\n",
      " 16  clearance_attempted  627 non-null    float64\n",
      " 17  fouls_committed      584 non-null    float64\n",
      " 18  fouls_suffered       584 non-null    float64\n",
      " 19  red                  584 non-null    float64\n",
      " 20  yellow               584 non-null    float64\n",
      " 21  minutes_played       584 non-null    float64\n",
      " 22  pass_accuracy        608 non-null    float64\n",
      " 23  pass_attempted       608 non-null    float64\n",
      " 24  pass_completed       608 non-null    float64\n",
      " 25  cross_accuracy       608 non-null    float64\n",
      " 26  cross_attempted      608 non-null    float64\n",
      " 27  cross_complted       608 non-null    float64\n",
      " 28  freekicks_taken      608 non-null    float64\n",
      " 29  saved                53 non-null     float64\n",
      " 30  conceded             53 non-null     float64\n",
      " 31  saved_penalties      53 non-null     float64\n",
      " 32  cleansheets          53 non-null     float64\n",
      " 33  punches made         53 non-null     float64\n",
      " 34  goals                183 non-null    float64\n",
      " 35  right_foot           183 non-null    float64\n",
      " 36  left_foot            183 non-null    float64\n",
      " 37  headers              183 non-null    float64\n",
      " 38  others               183 non-null    float64\n",
      " 39  inside_area          183 non-null    float64\n",
      " 40  outside_areas        183 non-null    float64\n",
      " 41  penalties            183 non-null    float64\n",
      " 42  distance_covered     0 non-null      object \n",
      "dtypes: float64(38), int64(1), object(4)\n",
      "memory usage: 242.3+ KB\n"
     ]
    },
    {
     "data": {
      "text/plain": [
       "np.int64(0)"
      ]
     },
     "execution_count": 14,
     "metadata": {},
     "output_type": "execute_result"
    }
   ],
   "source": [
    "commun_col = ['player_name', 'club', 'position', 'match_played']\n",
    "dfs = [attack_ds, attempts_ds, defend_ds, disciplinary_ds, distributon_ds, goalkeeping_ds, goals_ds, key_ds]\n",
    "df = (pd.concat(dfs, ignore_index=True).groupby(commun_col, as_index=False).first())\n",
    "df.info()\n",
    "df.duplicated().sum()"
   ]
  },
  {
   "cell_type": "code",
   "execution_count": 7,
   "id": "cee3ab02",
   "metadata": {},
   "outputs": [
    {
     "data": {
      "text/plain": [
       "np.int64(19)"
      ]
     },
     "execution_count": 7,
     "metadata": {},
     "output_type": "execute_result"
    }
   ],
   "source": [
    "df['player_name'].duplicated().sum()"
   ]
  },
  {
   "cell_type": "markdown",
   "id": "aa39f15d",
   "metadata": {},
   "source": [
    "**DATA ANALYSIS**\n",
    "\n",
    "We will perform some qualitative and quantitative analysis on the resulting data set"
   ]
  },
  {
   "cell_type": "code",
   "execution_count": 17,
   "id": "d98a91b2",
   "metadata": {},
   "outputs": [
    {
     "name": "stdout",
     "output_type": "stream",
     "text": [
      "Index(['serial', 'player_name', 'club', 'position', 'assists', 'corner_taken',\n",
      "       'offsides', 'dribbles', 'match_played', 'total_attempts', 'on_target',\n",
      "       'off_target', 'blocked', 'balls_recoverd', 'tackles', 't_won', 't_lost',\n",
      "       'clearance_attempted', 'fouls_committed', 'fouls_suffered', 'red',\n",
      "       'yellow', 'minutes_played', 'pass_accuracy', 'pass_attempted',\n",
      "       'pass_completed', 'cross_accuracy', 'cross_attempted', 'cross_complted',\n",
      "       'freekicks_taken', 'saved', 'conceded', 'saved_penalties',\n",
      "       'cleansheets', 'punches made', 'goals', 'right_foot', 'left_foot',\n",
      "       'headers', 'others', 'inside_area', 'outside_areas', 'penalties',\n",
      "       'distance_covered'],\n",
      "      dtype='object')\n",
      "(3517, 44)\n",
      "serial                  747\n",
      "player_name               0\n",
      "club                      0\n",
      "position                  0\n",
      "assists                2594\n",
      "corner_taken           3341\n",
      "offsides               3341\n",
      "dribbles               3341\n",
      "match_played              0\n",
      "total_attempts         2971\n",
      "on_target              2971\n",
      "off_target             2971\n",
      "blocked                2971\n",
      "balls_recoverd         2890\n",
      "tackles                2890\n",
      "t_won                  2890\n",
      "t_lost                 2890\n",
      "clearance_attempted    2890\n",
      "fouls_committed        2933\n",
      "fouls_suffered         2933\n",
      "red                    2933\n",
      "yellow                 2933\n",
      "minutes_played         2186\n",
      "pass_accuracy          2909\n",
      "pass_attempted         2909\n",
      "pass_completed         2909\n",
      "cross_accuracy         2909\n",
      "cross_attempted        2909\n",
      "cross_complted         2909\n",
      "freekicks_taken        2909\n",
      "saved                  3464\n",
      "conceded               3464\n",
      "saved_penalties        3464\n",
      "cleansheets            3464\n",
      "punches made           3464\n",
      "goals                  2587\n",
      "right_foot             3334\n",
      "left_foot              3334\n",
      "headers                3334\n",
      "others                 3334\n",
      "inside_area            3334\n",
      "outside_areas          3334\n",
      "penalties              3334\n",
      "distance_covered       2770\n",
      "dtype: int64\n"
     ]
    }
   ],
   "source": [
    "print(df.columns)\n",
    "print(df.shape)\n",
    "print(df.isna().sum())"
   ]
  }
 ],
 "metadata": {
  "kernelspec": {
   "display_name": "Python 3",
   "language": "python",
   "name": "python3"
  },
  "language_info": {
   "codemirror_mode": {
    "name": "ipython",
    "version": 3
   },
   "file_extension": ".py",
   "mimetype": "text/x-python",
   "name": "python",
   "nbconvert_exporter": "python",
   "pygments_lexer": "ipython3",
   "version": "3.12.6"
  }
 },
 "nbformat": 4,
 "nbformat_minor": 5
}
