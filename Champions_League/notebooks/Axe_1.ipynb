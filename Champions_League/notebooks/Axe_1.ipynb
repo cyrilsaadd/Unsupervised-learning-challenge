{
 "cells": [
  {
   "cell_type": "markdown",
   "id": "51fd02a0",
   "metadata": {},
   "source": [
    "# UCL Offensive Profiles — Axe Attacking/Attempts/Goals/Discipline/Key Stats"
   ]
  },
  {
   "cell_type": "markdown",
   "id": "411ebcdc",
   "metadata": {},
   "source": [
    "## 1. Import libraries & load data"
   ]
  },
  {
   "cell_type": "code",
   "execution_count": 3,
   "id": "8ef7c11b",
   "metadata": {},
   "outputs": [
    {
     "name": "stdout",
     "output_type": "stream",
     "text": [
      "📂 Vérification des fichiers chargés :\n",
      "attacking       | ✅ existe | D:/Matthieu/IMT_ATLANTIQUE/DASCI_2025-2026/Unsupervised-learning-challenge/Champions_League/data/attacking.csv\n",
      "attempts        | ✅ existe | D:/Matthieu/IMT_ATLANTIQUE/DASCI_2025-2026/Unsupervised-learning-challenge/Champions_League/data/attempts.csv\n",
      "goals           | ✅ existe | D:/Matthieu/IMT_ATLANTIQUE/DASCI_2025-2026/Unsupervised-learning-challenge/Champions_League/data/goals.csv\n",
      "disciplinary    | ✅ existe | D:/Matthieu/IMT_ATLANTIQUE/DASCI_2025-2026/Unsupervised-learning-challenge/Champions_League/data/disciplinary.csv\n",
      "key_stats       | ✅ existe | D:/Matthieu/IMT_ATLANTIQUE/DASCI_2025-2026/Unsupervised-learning-challenge/Champions_League/data/key_stats.csv\n",
      "✅ attacking chargé – shape = (176, 9)\n",
      "✅ attempts chargé – shape = (546, 9)\n",
      "✅ goals chargé – shape = (183, 13)\n",
      "✅ disciplinary chargé – shape = (584, 10)\n",
      "✅ key_stats chargé – shape = (747, 8)\n",
      "🔄 Merge avec attempts sur clés : ['player_name', 'club', 'position']\n",
      "🔄 Merge avec goals sur clés : ['player_name', 'club', 'position']\n",
      "🔄 Merge avec disciplinary sur clés : ['player_name', 'club', 'position']\n",
      "🔄 Merge avec key_stats sur clés : ['player_name', 'club', 'position']\n",
      "\n",
      "✅ Merge terminé — Shape finale : (751, 37)\n"
     ]
    },
    {
     "data": {
      "text/html": [
       "<div>\n",
       "<style scoped>\n",
       "    .dataframe tbody tr th:only-of-type {\n",
       "        vertical-align: middle;\n",
       "    }\n",
       "\n",
       "    .dataframe tbody tr th {\n",
       "        vertical-align: top;\n",
       "    }\n",
       "\n",
       "    .dataframe thead th {\n",
       "        text-align: right;\n",
       "    }\n",
       "</style>\n",
       "<table border=\"1\" class=\"dataframe\">\n",
       "  <thead>\n",
       "    <tr style=\"text-align: right;\">\n",
       "      <th></th>\n",
       "      <th>serial_attacking</th>\n",
       "      <th>player_name</th>\n",
       "      <th>club</th>\n",
       "      <th>position</th>\n",
       "      <th>assists_attacking</th>\n",
       "      <th>corner_taken_attacking</th>\n",
       "      <th>offsides_attacking</th>\n",
       "      <th>dribbles_attacking</th>\n",
       "      <th>match_played_attacking</th>\n",
       "      <th>serial_attempts</th>\n",
       "      <th>...</th>\n",
       "      <th>fouls_suffered_disciplinary</th>\n",
       "      <th>red_disciplinary</th>\n",
       "      <th>yellow_disciplinary</th>\n",
       "      <th>minutes_played_disciplinary</th>\n",
       "      <th>match_played_disciplinary</th>\n",
       "      <th>minutes_played_key_stats</th>\n",
       "      <th>match_played_key_stats</th>\n",
       "      <th>goals_key_stats</th>\n",
       "      <th>assists_key_stats</th>\n",
       "      <th>distance_covered_key_stats</th>\n",
       "    </tr>\n",
       "  </thead>\n",
       "  <tbody>\n",
       "    <tr>\n",
       "      <th>0</th>\n",
       "      <td>24.0</td>\n",
       "      <td>Aaronson</td>\n",
       "      <td>Salzburg</td>\n",
       "      <td>Midfielder</td>\n",
       "      <td>2.0</td>\n",
       "      <td>4.0</td>\n",
       "      <td>5.0</td>\n",
       "      <td>9.0</td>\n",
       "      <td>8.0</td>\n",
       "      <td>98.0</td>\n",
       "      <td>...</td>\n",
       "      <td>13.0</td>\n",
       "      <td>0.0</td>\n",
       "      <td>0.0</td>\n",
       "      <td>715.0</td>\n",
       "      <td>8.0</td>\n",
       "      <td>715.0</td>\n",
       "      <td>8.0</td>\n",
       "      <td>0.0</td>\n",
       "      <td>2.0</td>\n",
       "      <td>103.5</td>\n",
       "    </tr>\n",
       "    <tr>\n",
       "      <th>1</th>\n",
       "      <td>NaN</td>\n",
       "      <td>Abubakari</td>\n",
       "      <td>Malmö</td>\n",
       "      <td>Forward</td>\n",
       "      <td>NaN</td>\n",
       "      <td>NaN</td>\n",
       "      <td>NaN</td>\n",
       "      <td>NaN</td>\n",
       "      <td>NaN</td>\n",
       "      <td>347.0</td>\n",
       "      <td>...</td>\n",
       "      <td>4.0</td>\n",
       "      <td>0.0</td>\n",
       "      <td>0.0</td>\n",
       "      <td>116.0</td>\n",
       "      <td>4.0</td>\n",
       "      <td>116.0</td>\n",
       "      <td>4.0</td>\n",
       "      <td>0.0</td>\n",
       "      <td>0.0</td>\n",
       "      <td>15.3</td>\n",
       "    </tr>\n",
       "    <tr>\n",
       "      <th>2</th>\n",
       "      <td>NaN</td>\n",
       "      <td>Acuña</td>\n",
       "      <td>Sevilla</td>\n",
       "      <td>Defender</td>\n",
       "      <td>NaN</td>\n",
       "      <td>NaN</td>\n",
       "      <td>NaN</td>\n",
       "      <td>NaN</td>\n",
       "      <td>NaN</td>\n",
       "      <td>NaN</td>\n",
       "      <td>...</td>\n",
       "      <td>6.0</td>\n",
       "      <td>0.0</td>\n",
       "      <td>0.0</td>\n",
       "      <td>379.0</td>\n",
       "      <td>5.0</td>\n",
       "      <td>379.0</td>\n",
       "      <td>5.0</td>\n",
       "      <td>0.0</td>\n",
       "      <td>0.0</td>\n",
       "      <td>43.2</td>\n",
       "    </tr>\n",
       "    <tr>\n",
       "      <th>3</th>\n",
       "      <td>NaN</td>\n",
       "      <td>Adams</td>\n",
       "      <td>Leipzig</td>\n",
       "      <td>Midfielder</td>\n",
       "      <td>NaN</td>\n",
       "      <td>NaN</td>\n",
       "      <td>NaN</td>\n",
       "      <td>NaN</td>\n",
       "      <td>NaN</td>\n",
       "      <td>NaN</td>\n",
       "      <td>...</td>\n",
       "      <td>2.0</td>\n",
       "      <td>4.0</td>\n",
       "      <td>0.0</td>\n",
       "      <td>292.0</td>\n",
       "      <td>5.0</td>\n",
       "      <td>292.0</td>\n",
       "      <td>5.0</td>\n",
       "      <td>0.0</td>\n",
       "      <td>0.0</td>\n",
       "      <td>38.9</td>\n",
       "    </tr>\n",
       "    <tr>\n",
       "      <th>4</th>\n",
       "      <td>NaN</td>\n",
       "      <td>Adamu</td>\n",
       "      <td>Salzburg</td>\n",
       "      <td>Forward</td>\n",
       "      <td>NaN</td>\n",
       "      <td>NaN</td>\n",
       "      <td>NaN</td>\n",
       "      <td>NaN</td>\n",
       "      <td>NaN</td>\n",
       "      <td>219.0</td>\n",
       "      <td>...</td>\n",
       "      <td>2.0</td>\n",
       "      <td>0.0</td>\n",
       "      <td>0.0</td>\n",
       "      <td>231.0</td>\n",
       "      <td>8.0</td>\n",
       "      <td>231.0</td>\n",
       "      <td>8.0</td>\n",
       "      <td>1.0</td>\n",
       "      <td>0.0</td>\n",
       "      <td>32.6</td>\n",
       "    </tr>\n",
       "  </tbody>\n",
       "</table>\n",
       "<p>5 rows × 37 columns</p>\n",
       "</div>"
      ],
      "text/plain": [
       "   serial_attacking player_name      club    position  assists_attacking  \\\n",
       "0              24.0    Aaronson  Salzburg  Midfielder                2.0   \n",
       "1               NaN   Abubakari     Malmö     Forward                NaN   \n",
       "2               NaN       Acuña   Sevilla    Defender                NaN   \n",
       "3               NaN       Adams   Leipzig  Midfielder                NaN   \n",
       "4               NaN       Adamu  Salzburg     Forward                NaN   \n",
       "\n",
       "   corner_taken_attacking  offsides_attacking  dribbles_attacking  \\\n",
       "0                     4.0                 5.0                 9.0   \n",
       "1                     NaN                 NaN                 NaN   \n",
       "2                     NaN                 NaN                 NaN   \n",
       "3                     NaN                 NaN                 NaN   \n",
       "4                     NaN                 NaN                 NaN   \n",
       "\n",
       "   match_played_attacking  serial_attempts  ...  fouls_suffered_disciplinary  \\\n",
       "0                     8.0             98.0  ...                         13.0   \n",
       "1                     NaN            347.0  ...                          4.0   \n",
       "2                     NaN              NaN  ...                          6.0   \n",
       "3                     NaN              NaN  ...                          2.0   \n",
       "4                     NaN            219.0  ...                          2.0   \n",
       "\n",
       "   red_disciplinary  yellow_disciplinary  minutes_played_disciplinary  \\\n",
       "0               0.0                  0.0                        715.0   \n",
       "1               0.0                  0.0                        116.0   \n",
       "2               0.0                  0.0                        379.0   \n",
       "3               4.0                  0.0                        292.0   \n",
       "4               0.0                  0.0                        231.0   \n",
       "\n",
       "   match_played_disciplinary  minutes_played_key_stats  \\\n",
       "0                        8.0                     715.0   \n",
       "1                        4.0                     116.0   \n",
       "2                        5.0                     379.0   \n",
       "3                        5.0                     292.0   \n",
       "4                        8.0                     231.0   \n",
       "\n",
       "   match_played_key_stats  goals_key_stats  assists_key_stats  \\\n",
       "0                     8.0              0.0                2.0   \n",
       "1                     4.0              0.0                0.0   \n",
       "2                     5.0              0.0                0.0   \n",
       "3                     5.0              0.0                0.0   \n",
       "4                     8.0              1.0                0.0   \n",
       "\n",
       "   distance_covered_key_stats  \n",
       "0                       103.5  \n",
       "1                        15.3  \n",
       "2                        43.2  \n",
       "3                        38.9  \n",
       "4                        32.6  \n",
       "\n",
       "[5 rows x 37 columns]"
      ]
     },
     "execution_count": 3,
     "metadata": {},
     "output_type": "execute_result"
    }
   ],
   "source": [
    "import pandas as pd\n",
    "import numpy as np\n",
    "from pathlib import Path\n",
    "\n",
    "# Define data root where CSVs are located\n",
    "data_root = Path(r\"D:/Matthieu/IMT_ATLANTIQUE/DASCI_2025-2026/Unsupervised-learning-challenge/Champions_League/data\")\n",
    "\n",
    "# --- Définition des fichiers source (Axe offensif uniquement)\n",
    "files = {\n",
    "    \"attacking\": \"D:/Matthieu/IMT_ATLANTIQUE/DASCI_2025-2026/Unsupervised-learning-challenge/Champions_League/data/attacking.csv\",\n",
    "    \"attempts\": \"D:/Matthieu/IMT_ATLANTIQUE/DASCI_2025-2026/Unsupervised-learning-challenge/Champions_League/data/attempts.csv\",\n",
    "    \"goals\": \"D:/Matthieu/IMT_ATLANTIQUE/DASCI_2025-2026/Unsupervised-learning-challenge/Champions_League/data/goals.csv\",\n",
    "    \"disciplinary\": \"D:/Matthieu/IMT_ATLANTIQUE/DASCI_2025-2026/Unsupervised-learning-challenge/Champions_League/data/disciplinary.csv\",\n",
    "    \"key_stats\": \"D:/Matthieu/IMT_ATLANTIQUE/DASCI_2025-2026/Unsupervised-learning-challenge/Champions_League/data/key_stats.csv\"\n",
    "}\n",
    "\n",
    "# --- Vérification des fichiers\n",
    "import os\n",
    "\n",
    "print(\"📂 Vérification des fichiers chargés :\")\n",
    "for name, path in files.items():\n",
    "    print(f\"{name:<15} | {'✅ existe' if os.path.exists(path) else '❌ introuvable'} | {path}\")\n",
    "\n",
    "# --- Chargement uniquement des fichiers existants\n",
    "dfs = {}\n",
    "for name, path in files.items():\n",
    "    if os.path.exists(path):\n",
    "        dfs[name] = pd.read_csv(path)\n",
    "        print(f\"✅ {name} chargé – shape = {dfs[name].shape}\")\n",
    "    else:\n",
    "        print(f\"⚠️ {name} ignoré (fichier manquant)\")\n",
    "\n",
    "# --- Merge robuste sur les clés stables (player_name, club, position)\n",
    "MERGE_KEYS = [\"player_name\", \"club\", \"position\"]\n",
    "\n",
    "df = None\n",
    "for name, ds in dfs.items():\n",
    "\n",
    "    # ✅ Renommer toutes les colonnes qui ne sont pas dans les MERGE_KEYS pour éviter les conflits (_attacking, _goals...)\n",
    "    rename_map = {col: f\"{col}_{name}\" for col in ds.columns if col not in MERGE_KEYS}\n",
    "    ds_renamed = ds.rename(columns=rename_map)\n",
    "\n",
    "    if df is None:\n",
    "        df = ds_renamed.copy()\n",
    "    else:\n",
    "        # ✅ On ne garde que les clés présentes dans les 2 datasets pour merge proprement\n",
    "        merge_keys_present = [k for k in MERGE_KEYS if k in df.columns and k in ds_renamed.columns]\n",
    "        print(f\"🔄 Merge avec {name} sur clés :\", merge_keys_present)\n",
    "\n",
    "        df = df.merge(ds_renamed, on=merge_keys_present, how=\"outer\")\n",
    "\n",
    "print(\"\\n✅ Merge terminé — Shape finale :\", df.shape)\n",
    "df.head()"
   ]
  },
  {
   "cell_type": "markdown",
   "id": "cd546a50",
   "metadata": {},
   "source": [
    "## 2. Feature Engineering offensif"
   ]
  },
  {
   "cell_type": "code",
   "execution_count": 4,
   "id": "aa9fe026",
   "metadata": {},
   "outputs": [
    {
     "name": "stdout",
     "output_type": "stream",
     "text": [
      "Shape after feature engineering: (751, 33)\n"
     ]
    },
    {
     "data": {
      "text/html": [
       "<div>\n",
       "<style scoped>\n",
       "    .dataframe tbody tr th:only-of-type {\n",
       "        vertical-align: middle;\n",
       "    }\n",
       "\n",
       "    .dataframe tbody tr th {\n",
       "        vertical-align: top;\n",
       "    }\n",
       "\n",
       "    .dataframe thead th {\n",
       "        text-align: right;\n",
       "    }\n",
       "</style>\n",
       "<table border=\"1\" class=\"dataframe\">\n",
       "  <thead>\n",
       "    <tr style=\"text-align: right;\">\n",
       "      <th></th>\n",
       "      <th>serial_attacking</th>\n",
       "      <th>assists_attacking</th>\n",
       "      <th>corner_taken_attacking</th>\n",
       "      <th>offsides_attacking</th>\n",
       "      <th>dribbles_attacking</th>\n",
       "      <th>match_played_attacking</th>\n",
       "      <th>serial_attempts</th>\n",
       "      <th>total_attempts_attempts</th>\n",
       "      <th>on_target_attempts</th>\n",
       "      <th>off_target_attempts</th>\n",
       "      <th>...</th>\n",
       "      <th>fouls_committed_disciplinary</th>\n",
       "      <th>fouls_suffered_disciplinary</th>\n",
       "      <th>red_disciplinary</th>\n",
       "      <th>yellow_disciplinary</th>\n",
       "      <th>minutes_played_disciplinary</th>\n",
       "      <th>match_played_disciplinary</th>\n",
       "      <th>minutes_played_key_stats</th>\n",
       "      <th>match_played_key_stats</th>\n",
       "      <th>goals_key_stats</th>\n",
       "      <th>assists_key_stats</th>\n",
       "    </tr>\n",
       "  </thead>\n",
       "  <tbody>\n",
       "    <tr>\n",
       "      <th>0</th>\n",
       "      <td>24.0</td>\n",
       "      <td>2.0</td>\n",
       "      <td>4.0</td>\n",
       "      <td>5.0</td>\n",
       "      <td>9.0</td>\n",
       "      <td>8.0</td>\n",
       "      <td>98.0</td>\n",
       "      <td>9.0</td>\n",
       "      <td>3.0</td>\n",
       "      <td>2.0</td>\n",
       "      <td>...</td>\n",
       "      <td>3.0</td>\n",
       "      <td>13.0</td>\n",
       "      <td>0.0</td>\n",
       "      <td>0.0</td>\n",
       "      <td>715.0</td>\n",
       "      <td>8.0</td>\n",
       "      <td>715.0</td>\n",
       "      <td>8.0</td>\n",
       "      <td>0.0</td>\n",
       "      <td>2.0</td>\n",
       "    </tr>\n",
       "    <tr>\n",
       "      <th>1</th>\n",
       "      <td>0.0</td>\n",
       "      <td>0.0</td>\n",
       "      <td>0.0</td>\n",
       "      <td>0.0</td>\n",
       "      <td>0.0</td>\n",
       "      <td>0.0</td>\n",
       "      <td>347.0</td>\n",
       "      <td>2.0</td>\n",
       "      <td>0.0</td>\n",
       "      <td>2.0</td>\n",
       "      <td>...</td>\n",
       "      <td>6.0</td>\n",
       "      <td>4.0</td>\n",
       "      <td>0.0</td>\n",
       "      <td>0.0</td>\n",
       "      <td>116.0</td>\n",
       "      <td>4.0</td>\n",
       "      <td>116.0</td>\n",
       "      <td>4.0</td>\n",
       "      <td>0.0</td>\n",
       "      <td>0.0</td>\n",
       "    </tr>\n",
       "    <tr>\n",
       "      <th>2</th>\n",
       "      <td>0.0</td>\n",
       "      <td>0.0</td>\n",
       "      <td>0.0</td>\n",
       "      <td>0.0</td>\n",
       "      <td>0.0</td>\n",
       "      <td>0.0</td>\n",
       "      <td>0.0</td>\n",
       "      <td>0.0</td>\n",
       "      <td>0.0</td>\n",
       "      <td>0.0</td>\n",
       "      <td>...</td>\n",
       "      <td>12.0</td>\n",
       "      <td>6.0</td>\n",
       "      <td>0.0</td>\n",
       "      <td>0.0</td>\n",
       "      <td>379.0</td>\n",
       "      <td>5.0</td>\n",
       "      <td>379.0</td>\n",
       "      <td>5.0</td>\n",
       "      <td>0.0</td>\n",
       "      <td>0.0</td>\n",
       "    </tr>\n",
       "    <tr>\n",
       "      <th>3</th>\n",
       "      <td>0.0</td>\n",
       "      <td>0.0</td>\n",
       "      <td>0.0</td>\n",
       "      <td>0.0</td>\n",
       "      <td>0.0</td>\n",
       "      <td>0.0</td>\n",
       "      <td>0.0</td>\n",
       "      <td>0.0</td>\n",
       "      <td>0.0</td>\n",
       "      <td>0.0</td>\n",
       "      <td>...</td>\n",
       "      <td>6.0</td>\n",
       "      <td>2.0</td>\n",
       "      <td>4.0</td>\n",
       "      <td>0.0</td>\n",
       "      <td>292.0</td>\n",
       "      <td>5.0</td>\n",
       "      <td>292.0</td>\n",
       "      <td>5.0</td>\n",
       "      <td>0.0</td>\n",
       "      <td>0.0</td>\n",
       "    </tr>\n",
       "    <tr>\n",
       "      <th>4</th>\n",
       "      <td>0.0</td>\n",
       "      <td>0.0</td>\n",
       "      <td>0.0</td>\n",
       "      <td>0.0</td>\n",
       "      <td>0.0</td>\n",
       "      <td>0.0</td>\n",
       "      <td>219.0</td>\n",
       "      <td>4.0</td>\n",
       "      <td>2.0</td>\n",
       "      <td>0.0</td>\n",
       "      <td>...</td>\n",
       "      <td>10.0</td>\n",
       "      <td>2.0</td>\n",
       "      <td>0.0</td>\n",
       "      <td>0.0</td>\n",
       "      <td>231.0</td>\n",
       "      <td>8.0</td>\n",
       "      <td>231.0</td>\n",
       "      <td>8.0</td>\n",
       "      <td>1.0</td>\n",
       "      <td>0.0</td>\n",
       "    </tr>\n",
       "  </tbody>\n",
       "</table>\n",
       "<p>5 rows × 33 columns</p>\n",
       "</div>"
      ],
      "text/plain": [
       "   serial_attacking  assists_attacking  corner_taken_attacking  \\\n",
       "0              24.0                2.0                     4.0   \n",
       "1               0.0                0.0                     0.0   \n",
       "2               0.0                0.0                     0.0   \n",
       "3               0.0                0.0                     0.0   \n",
       "4               0.0                0.0                     0.0   \n",
       "\n",
       "   offsides_attacking  dribbles_attacking  match_played_attacking  \\\n",
       "0                 5.0                 9.0                     8.0   \n",
       "1                 0.0                 0.0                     0.0   \n",
       "2                 0.0                 0.0                     0.0   \n",
       "3                 0.0                 0.0                     0.0   \n",
       "4                 0.0                 0.0                     0.0   \n",
       "\n",
       "   serial_attempts  total_attempts_attempts  on_target_attempts  \\\n",
       "0             98.0                      9.0                 3.0   \n",
       "1            347.0                      2.0                 0.0   \n",
       "2              0.0                      0.0                 0.0   \n",
       "3              0.0                      0.0                 0.0   \n",
       "4            219.0                      4.0                 2.0   \n",
       "\n",
       "   off_target_attempts  ...  fouls_committed_disciplinary  \\\n",
       "0                  2.0  ...                           3.0   \n",
       "1                  2.0  ...                           6.0   \n",
       "2                  0.0  ...                          12.0   \n",
       "3                  0.0  ...                           6.0   \n",
       "4                  0.0  ...                          10.0   \n",
       "\n",
       "   fouls_suffered_disciplinary  red_disciplinary  yellow_disciplinary  \\\n",
       "0                         13.0               0.0                  0.0   \n",
       "1                          4.0               0.0                  0.0   \n",
       "2                          6.0               0.0                  0.0   \n",
       "3                          2.0               4.0                  0.0   \n",
       "4                          2.0               0.0                  0.0   \n",
       "\n",
       "   minutes_played_disciplinary  match_played_disciplinary  \\\n",
       "0                        715.0                        8.0   \n",
       "1                        116.0                        4.0   \n",
       "2                        379.0                        5.0   \n",
       "3                        292.0                        5.0   \n",
       "4                        231.0                        8.0   \n",
       "\n",
       "   minutes_played_key_stats  match_played_key_stats  goals_key_stats  \\\n",
       "0                     715.0                     8.0              0.0   \n",
       "1                     116.0                     4.0              0.0   \n",
       "2                     379.0                     5.0              0.0   \n",
       "3                     292.0                     5.0              0.0   \n",
       "4                     231.0                     8.0              1.0   \n",
       "\n",
       "   assists_key_stats  \n",
       "0                2.0  \n",
       "1                0.0  \n",
       "2                0.0  \n",
       "3                0.0  \n",
       "4                0.0  \n",
       "\n",
       "[5 rows x 33 columns]"
      ]
     },
     "execution_count": 4,
     "metadata": {},
     "output_type": "execute_result"
    }
   ],
   "source": [
    "# Sélection des colonnes numériques\n",
    "numeric_df = df.select_dtypes(include=[np.number]).copy()\n",
    "\n",
    "# Normalisation par 90 minutes si 'minutes_played' dispo\n",
    "if 'minutes_played' in df.columns:\n",
    "    for col in numeric_df.columns:\n",
    "        if col not in ['minutes_played'] and numeric_df[col].notna().sum() > 0:\n",
    "            numeric_df[col + \"_per90\"] = numeric_df[col] / (df['minutes_played'] / 90)\n",
    "\n",
    "# Ratios offensifs utiles\n",
    "if 'shots_on_target' in numeric_df.columns and 'total_shots' in numeric_df.columns:\n",
    "    numeric_df['shot_accuracy'] = numeric_df['shots_on_target'] / (numeric_df['total_shots'] + 1e-9)\n",
    "\n",
    "if 'yellow_cards' in numeric_df.columns and 'red_cards' in numeric_df.columns and 'match_played' in df.columns:\n",
    "    numeric_df['discipline_per_match'] = (numeric_df['yellow_cards'] + 2 * numeric_df['red_cards']) / df['match_played']\n",
    "\n",
    "# Nettoyage NA\n",
    "numeric_df = numeric_df.fillna(0)\n",
    "\n",
    "print(\"Shape after feature engineering:\", numeric_df.shape)\n",
    "numeric_df.head()"
   ]
  },
  {
   "cell_type": "markdown",
   "id": "c3dabd86",
   "metadata": {},
   "source": [
    "## 3. Méthode du coude (Elbow Method) pour sélectionner K"
   ]
  },
  {
   "cell_type": "code",
   "execution_count": 5,
   "id": "e184381d",
   "metadata": {},
   "outputs": [
    {
     "data": {
      "image/png": "[encoded data removed]",
      "text/plain": [
       "<Figure size 600x400 with 1 Axes>"
      ]
     },
     "metadata": {},
     "output_type": "display_data"
    }
   ],
   "source": [
    "from sklearn.preprocessing import StandardScaler\n",
    "from sklearn.cluster import KMeans\n",
    "import matplotlib.pyplot as plt\n",
    "\n",
    "# Standardisation\n",
    "X = numeric_df.copy()\n",
    "scaler = StandardScaler()\n",
    "X_scaled = scaler.fit_transform(X)\n",
    "\n",
    "# Calcul de l'inertie pour différents K\n",
    "inertia = []\n",
    "K_range = range(2, 11)\n",
    "\n",
    "for k in K_range:\n",
    "    km = KMeans(n_clusters=k, random_state=42, n_init='auto')\n",
    "    km.fit(X_scaled)\n",
    "    inertia.append(km.inertia_)\n",
    "\n",
    "plt.figure(figsize=(6,4))\n",
    "plt.plot(K_range, inertia, marker='o')\n",
    "plt.xlabel(\"Nombre de clusters (K)\")\n",
    "plt.ylabel(\"Inertie (Inertia)\")\n",
    "plt.title(\"Méthode du coude pour déterminer le K optimal\")\n",
    "plt.grid(True)\n",
    "plt.show()"
   ]
  },
  {
   "cell_type": "code",
   "execution_count": 6,
   "id": "897eca85",
   "metadata": {},
   "outputs": [
    {
     "name": "stdout",
     "output_type": "stream",
     "text": [
      "📊 Nombre de colonnes numériques avant engineering : 33\n",
      "✅ Minutes détectées : minutes_played_disciplinary — Normalisation per90 appliquée\n",
      "✅ Feature Engineering terminé — Colonnes finales : 71\n"
     ]
    },
    {
     "data": {
      "text/html": [
       "<div>\n",
       "<style scoped>\n",
       "    .dataframe tbody tr th:only-of-type {\n",
       "        vertical-align: middle;\n",
       "    }\n",
       "\n",
       "    .dataframe tbody tr th {\n",
       "        vertical-align: top;\n",
       "    }\n",
       "\n",
       "    .dataframe thead th {\n",
       "        text-align: right;\n",
       "    }\n",
       "</style>\n",
       "<table border=\"1\" class=\"dataframe\">\n",
       "  <thead>\n",
       "    <tr style=\"text-align: right;\">\n",
       "      <th></th>\n",
       "      <th>serial_attacking</th>\n",
       "      <th>assists_attacking</th>\n",
       "      <th>corner_taken_attacking</th>\n",
       "      <th>offsides_attacking</th>\n",
       "      <th>dribbles_attacking</th>\n",
       "      <th>match_played_attacking</th>\n",
       "      <th>serial_attempts</th>\n",
       "      <th>total_attempts_attempts</th>\n",
       "      <th>on_target_attempts</th>\n",
       "      <th>off_target_attempts</th>\n",
       "      <th>...</th>\n",
       "      <th>minutes_played_key_stats_per90</th>\n",
       "      <th>match_played_key_stats_per90</th>\n",
       "      <th>goals_key_stats_per90</th>\n",
       "      <th>assists_key_stats_per90</th>\n",
       "      <th>fouls_suffered_disciplinary_per_match</th>\n",
       "      <th>red_disciplinary_per_match</th>\n",
       "      <th>yellow_disciplinary_per_match</th>\n",
       "      <th>fouls_suffered_disciplinary_per90_per_match</th>\n",
       "      <th>red_disciplinary_per90_per_match</th>\n",
       "      <th>yellow_disciplinary_per90_per_match</th>\n",
       "    </tr>\n",
       "  </thead>\n",
       "  <tbody>\n",
       "    <tr>\n",
       "      <th>0</th>\n",
       "      <td>24.0</td>\n",
       "      <td>2.0</td>\n",
       "      <td>4.0</td>\n",
       "      <td>5.0</td>\n",
       "      <td>9.0</td>\n",
       "      <td>8.0</td>\n",
       "      <td>98.0</td>\n",
       "      <td>9.0</td>\n",
       "      <td>3.0</td>\n",
       "      <td>2.0</td>\n",
       "      <td>...</td>\n",
       "      <td>90.0</td>\n",
       "      <td>1.006993</td>\n",
       "      <td>0.00000</td>\n",
       "      <td>0.251748</td>\n",
       "      <td>1.625</td>\n",
       "      <td>0.0</td>\n",
       "      <td>0.0</td>\n",
       "      <td>0.204545</td>\n",
       "      <td>0.0</td>\n",
       "      <td>0.0</td>\n",
       "    </tr>\n",
       "    <tr>\n",
       "      <th>1</th>\n",
       "      <td>0.0</td>\n",
       "      <td>0.0</td>\n",
       "      <td>0.0</td>\n",
       "      <td>0.0</td>\n",
       "      <td>0.0</td>\n",
       "      <td>0.0</td>\n",
       "      <td>347.0</td>\n",
       "      <td>2.0</td>\n",
       "      <td>0.0</td>\n",
       "      <td>2.0</td>\n",
       "      <td>...</td>\n",
       "      <td>90.0</td>\n",
       "      <td>3.103448</td>\n",
       "      <td>0.00000</td>\n",
       "      <td>0.000000</td>\n",
       "      <td>0.000</td>\n",
       "      <td>0.0</td>\n",
       "      <td>0.0</td>\n",
       "      <td>0.000000</td>\n",
       "      <td>0.0</td>\n",
       "      <td>0.0</td>\n",
       "    </tr>\n",
       "    <tr>\n",
       "      <th>2</th>\n",
       "      <td>0.0</td>\n",
       "      <td>0.0</td>\n",
       "      <td>0.0</td>\n",
       "      <td>0.0</td>\n",
       "      <td>0.0</td>\n",
       "      <td>0.0</td>\n",
       "      <td>0.0</td>\n",
       "      <td>0.0</td>\n",
       "      <td>0.0</td>\n",
       "      <td>0.0</td>\n",
       "      <td>...</td>\n",
       "      <td>90.0</td>\n",
       "      <td>1.187335</td>\n",
       "      <td>0.00000</td>\n",
       "      <td>0.000000</td>\n",
       "      <td>0.000</td>\n",
       "      <td>0.0</td>\n",
       "      <td>0.0</td>\n",
       "      <td>0.000000</td>\n",
       "      <td>0.0</td>\n",
       "      <td>0.0</td>\n",
       "    </tr>\n",
       "    <tr>\n",
       "      <th>3</th>\n",
       "      <td>0.0</td>\n",
       "      <td>0.0</td>\n",
       "      <td>0.0</td>\n",
       "      <td>0.0</td>\n",
       "      <td>0.0</td>\n",
       "      <td>0.0</td>\n",
       "      <td>0.0</td>\n",
       "      <td>0.0</td>\n",
       "      <td>0.0</td>\n",
       "      <td>0.0</td>\n",
       "      <td>...</td>\n",
       "      <td>90.0</td>\n",
       "      <td>1.541096</td>\n",
       "      <td>0.00000</td>\n",
       "      <td>0.000000</td>\n",
       "      <td>0.000</td>\n",
       "      <td>0.0</td>\n",
       "      <td>0.0</td>\n",
       "      <td>0.000000</td>\n",
       "      <td>0.0</td>\n",
       "      <td>0.0</td>\n",
       "    </tr>\n",
       "    <tr>\n",
       "      <th>4</th>\n",
       "      <td>0.0</td>\n",
       "      <td>0.0</td>\n",
       "      <td>0.0</td>\n",
       "      <td>0.0</td>\n",
       "      <td>0.0</td>\n",
       "      <td>0.0</td>\n",
       "      <td>219.0</td>\n",
       "      <td>4.0</td>\n",
       "      <td>2.0</td>\n",
       "      <td>0.0</td>\n",
       "      <td>...</td>\n",
       "      <td>90.0</td>\n",
       "      <td>3.116883</td>\n",
       "      <td>0.38961</td>\n",
       "      <td>0.000000</td>\n",
       "      <td>0.000</td>\n",
       "      <td>0.0</td>\n",
       "      <td>0.0</td>\n",
       "      <td>0.000000</td>\n",
       "      <td>0.0</td>\n",
       "      <td>0.0</td>\n",
       "    </tr>\n",
       "  </tbody>\n",
       "</table>\n",
       "<p>5 rows × 71 columns</p>\n",
       "</div>"
      ],
      "text/plain": [
       "   serial_attacking  assists_attacking  corner_taken_attacking  \\\n",
       "0              24.0                2.0                     4.0   \n",
       "1               0.0                0.0                     0.0   \n",
       "2               0.0                0.0                     0.0   \n",
       "3               0.0                0.0                     0.0   \n",
       "4               0.0                0.0                     0.0   \n",
       "\n",
       "   offsides_attacking  dribbles_attacking  match_played_attacking  \\\n",
       "0                 5.0                 9.0                     8.0   \n",
       "1                 0.0                 0.0                     0.0   \n",
       "2                 0.0                 0.0                     0.0   \n",
       "3                 0.0                 0.0                     0.0   \n",
       "4                 0.0                 0.0                     0.0   \n",
       "\n",
       "   serial_attempts  total_attempts_attempts  on_target_attempts  \\\n",
       "0             98.0                      9.0                 3.0   \n",
       "1            347.0                      2.0                 0.0   \n",
       "2              0.0                      0.0                 0.0   \n",
       "3              0.0                      0.0                 0.0   \n",
       "4            219.0                      4.0                 2.0   \n",
       "\n",
       "   off_target_attempts  ...  minutes_played_key_stats_per90  \\\n",
       "0                  2.0  ...                            90.0   \n",
       "1                  2.0  ...                            90.0   \n",
       "2                  0.0  ...                            90.0   \n",
       "3                  0.0  ...                            90.0   \n",
       "4                  0.0  ...                            90.0   \n",
       "\n",
       "   match_played_key_stats_per90  goals_key_stats_per90  \\\n",
       "0                      1.006993                0.00000   \n",
       "1                      3.103448                0.00000   \n",
       "2                      1.187335                0.00000   \n",
       "3                      1.541096                0.00000   \n",
       "4                      3.116883                0.38961   \n",
       "\n",
       "   assists_key_stats_per90  fouls_suffered_disciplinary_per_match  \\\n",
       "0                 0.251748                                  1.625   \n",
       "1                 0.000000                                  0.000   \n",
       "2                 0.000000                                  0.000   \n",
       "3                 0.000000                                  0.000   \n",
       "4                 0.000000                                  0.000   \n",
       "\n",
       "   red_disciplinary_per_match  yellow_disciplinary_per_match  \\\n",
       "0                         0.0                            0.0   \n",
       "1                         0.0                            0.0   \n",
       "2                         0.0                            0.0   \n",
       "3                         0.0                            0.0   \n",
       "4                         0.0                            0.0   \n",
       "\n",
       "   fouls_suffered_disciplinary_per90_per_match  \\\n",
       "0                                     0.204545   \n",
       "1                                     0.000000   \n",
       "2                                     0.000000   \n",
       "3                                     0.000000   \n",
       "4                                     0.000000   \n",
       "\n",
       "   red_disciplinary_per90_per_match  yellow_disciplinary_per90_per_match  \n",
       "0                               0.0                                  0.0  \n",
       "1                               0.0                                  0.0  \n",
       "2                               0.0                                  0.0  \n",
       "3                               0.0                                  0.0  \n",
       "4                               0.0                                  0.0  \n",
       "\n",
       "[5 rows x 71 columns]"
      ]
     },
     "execution_count": 6,
     "metadata": {},
     "output_type": "execute_result"
    }
   ],
   "source": [
    "# --- FEATURE ENGINEERING OFFENSIF\n",
    "\n",
    "# 1. Sélectionner uniquement les colonnes numériques\n",
    "numeric_df = df.select_dtypes(include=[np.number]).copy()\n",
    "\n",
    "print(f\"📊 Nombre de colonnes numériques avant engineering : {numeric_df.shape[1]}\")\n",
    "\n",
    "# 2. Normalisation par 90 minutes SI minutes jouées dispo dans au moins 1 dataset\n",
    "min_col_candidates = [col for col in numeric_df.columns if \"minutes\" in col.lower()]\n",
    "if min_col_candidates:\n",
    "    minutes_col = min_col_candidates[0]  # On prend la première colonne minutes trouvée\n",
    "    print(f\"✅ Minutes détectées : {minutes_col} — Normalisation per90 appliquée\")\n",
    "    \n",
    "    for col in numeric_df.columns:\n",
    "        if col != minutes_col:\n",
    "            numeric_df[col + \"_per90\"] = numeric_df[col] / (numeric_df[minutes_col] / 90 + 1e-9)\n",
    "else:\n",
    "    print(\"⚠️ Aucune colonne liée au temps de jeu détectée — pas de per90 applied\")\n",
    "\n",
    "# 3. Création de ratios offensifs SI colonnes dispo\n",
    "if \"shots_on_target_attacking\" in numeric_df.columns and \"total_shots_attacking\" in numeric_df.columns:\n",
    "    numeric_df[\"shot_accuracy\"] = numeric_df[\"shots_on_target_attacking\"] / (numeric_df[\"total_shots_attacking\"] + 1e-9)\n",
    "\n",
    "if \"goals_goals\" in numeric_df.columns and \"total_shots_attacking\" in numeric_df.columns:\n",
    "    numeric_df[\"goals_per_shot\"] = numeric_df[\"goals_goals\"] / (numeric_df[\"total_shots_attacking\"] + 1e-9)\n",
    "\n",
    "# 4. Discipline ratio (cartons / match)\n",
    "match_cols = [c for c in df.columns if \"match\" in c.lower()]\n",
    "if match_cols:\n",
    "    match_col = match_cols[0]\n",
    "    disc_cols = [c for c in numeric_df.columns if \"yellow\" in c.lower() or \"red\" in c.lower()]\n",
    "    for c in disc_cols:\n",
    "        numeric_df[c + \"_per_match\"] = numeric_df[c] / (df[match_col] + 1e-9)\n",
    "\n",
    "# 5. Remplacement des NaN et Inf\n",
    "numeric_df = numeric_df.replace([np.inf, -np.inf], np.nan).fillna(0)\n",
    "\n",
    "print(f\"✅ Feature Engineering terminé — Colonnes finales : {numeric_df.shape[1]}\")\n",
    "numeric_df.head()"
   ]
  },
  {
   "cell_type": "code",
   "execution_count": 7,
   "id": "ead231d5",
   "metadata": {},
   "outputs": [
    {
     "name": "stdout",
     "output_type": "stream",
     "text": [
      "✅ Clustering terminé — Répartition des joueurs par cluster :\n",
      "cluster_offensive\n",
      "3    380\n",
      "0    205\n",
      "2    133\n",
      "1     33\n",
      "Name: count, dtype: int64\n",
      "\n",
      "🎯 Top variables qui caractérisent chaque cluster :\n",
      "\n",
      "--- Cluster 0 ---\n",
      "minutes_played_disciplinary     →  0.786\n",
      "match_played_disciplinary       →  0.707\n",
      "fouls_committed_disciplinary    →  0.691\n",
      "red_disciplinary                →  0.681\n",
      "match_played_attempts           →  0.655\n",
      "minutes_played_key_stats        →  0.618\n",
      "match_played_key_stats          →  0.556\n",
      "fouls_suffered_disciplinary     →  0.540\n",
      "\n",
      "--- Cluster 1 ---\n",
      "on_target_attempts              →  3.402\n",
      "goals_key_stats                 →  3.375\n",
      "goals_goals                     →  3.360\n",
      "inside_area_goals               →  3.272\n",
      "total_attempts_attempts         →  3.168\n",
      "offsides_attacking              →  2.835\n",
      "left_foot_goals                 →  2.785\n",
      "off_target_attempts             →  2.454\n",
      "\n",
      "--- Cluster 2 ---\n",
      "serial_goals                    →  1.832\n",
      "match_played_goals              →  1.600\n",
      "match_played_attempts           →  0.739\n",
      "goals_goals                     →  0.718\n",
      "goals_key_stats                 →  0.711\n",
      "match_played_disciplinary       →  0.680\n",
      "inside_area_goals               →  0.676\n",
      "match_played_key_stats          →  0.617\n",
      "\n",
      "--- Cluster 3 ---\n",
      "match_played_disciplinary       →  -0.749\n",
      "match_played_attempts           →  -0.743\n",
      "minutes_played_disciplinary     →  -0.741\n",
      "match_played_key_stats          →  -0.648\n",
      "fouls_committed_disciplinary    →  -0.619\n",
      "minutes_played_key_stats        →  -0.603\n",
      "fouls_suffered_disciplinary     →  -0.590\n",
      "total_attempts_attempts         →  -0.508\n",
      "\n",
      "✅ Fichier exporté : ucl_offensive_clusters.csv\n"
     ]
    }
   ],
   "source": [
    "# --- CLUSTERING AVEC K = 4\n",
    "from sklearn.cluster import KMeans\n",
    "\n",
    "K = 4  # fixé selon la méthode du coude\n",
    "kmeans = KMeans(n_clusters=K, random_state=42, n_init='auto')\n",
    "clusters = kmeans.fit_predict(X_scaled)\n",
    "\n",
    "# Ajout des clusters au dataframe original\n",
    "df_clusters = df.copy()\n",
    "df_clusters[\"cluster_offensive\"] = clusters\n",
    "\n",
    "print(\"✅ Clustering terminé — Répartition des joueurs par cluster :\")\n",
    "print(df_clusters[\"cluster_offensive\"].value_counts())\n",
    "\n",
    "# --- INTERPRÉTATION DES CENTROÏDES\n",
    "centroids = kmeans.cluster_centers_\n",
    "feature_names = numeric_df.columns\n",
    "\n",
    "print(\"\\n🎯 Top variables qui caractérisent chaque cluster :\")\n",
    "for i in range(K):\n",
    "    print(f\"\\n--- Cluster {i} ---\")\n",
    "    centroid_values = centroids[i]\n",
    "    top_indices = np.argsort(np.abs(centroid_values))[::-1][:8]  # top 8 features significatives\n",
    "    for idx in top_indices:\n",
    "        print(f\"{feature_names[idx]:<30}  →  {centroid_values[idx]:.3f}\")\n",
    "\n",
    "# --- EXPORT CSV\n",
    "df_clusters.to_csv(\"ucl_offensive_clusters.csv\", index=False)\n",
    "print(\"\\n✅ Fichier exporté : ucl_offensive_clusters.csv\")\n"
   ]
  },
  {
   "cell_type": "code",
   "execution_count": 8,
   "id": "91871bf6",
   "metadata": {},
   "outputs": [
    {
     "data": {
      "application/vnd.plotly.v1+json": {
       "config": {
        "plotlyServerURL": "https://plot.ly"
       },
       "data": [
        {
         "customdata": [
          [
           "Aaronson",
           "Salzburg"
          ],
          [
           "Abubakari",
           "Malmö"
          ],
          [
           "Acuña",
           "Sevilla"
          ],
          [
           "Adams",
           "Leipzig"
          ],
          [
           "Adamu",
           "Salzburg"
          ],
          [
           "Addo",
           "Sheriff"
          ],
          [
           "Adeyemi",
           "Salzburg"
          ],
          [
           "Adán",
           "Sporting CP"
          ],
          [
           "Aebischer",
           "Young Boys"
          ],
          [
           "Agüero",
           "Barcelona"
          ],
          [
           "Ahmedhodžić",
           "Malmö"
          ],
          [
           "Akanji",
           "Dortmund"
          ],
          [
           "Aké",
           "Man. City"
          ],
          [
           "Al. Miranchuk",
           "Atalanta"
          ],
          [
           "Alaba",
           "Real Madrid"
          ],
          [
           "Alan Patrick",
           "Shakhtar Donetsk"
          ],
          [
           "Albiol",
           "Villarreal"
          ],
          [
           "Alcácer",
           "Villarreal"
          ],
          [
           "Alex Sandro",
           "Juventus"
          ],
          [
           "Alex Teixeira",
           "Beşiktaş"
          ],
          [
           "Alex Telles",
           "Man. United"
          ],
          [
           "Alexander-Arnold",
           "Liverpool"
          ],
          [
           "Alexis Sánchez",
           "Inter"
          ],
          [
           "Alisson Becker",
           "Liverpool"
          ],
          [
           "Alonso",
           "Chelsea"
          ],
          [
           "Andriyevskiy",
           "Dynamo Kyiv"
          ],
          [
           "André",
           "LOSC"
          ],
          [
           "André Almeida",
           "Benfica"
          ],
          [
           "André Silva",
           "Leipzig"
          ],
          [
           "Angeliño",
           "Leipzig"
          ],
          [
           "Antony",
           "Ajax"
          ],
          [
           "Arboleda",
           "Sheriff"
          ],
          [
           "Arnold",
           "Wolfsburg"
          ],
          [
           "Arthur",
           "Juventus"
          ],
          [
           "Asensio",
           "Real Madrid"
          ],
          [
           "Athanasiadis",
           "Sheriff"
          ],
          [
           "Augustinsson",
           "Sevilla"
          ],
          [
           "Aurier",
           "Villarreal"
          ],
          [
           "Azmoun",
           "Zenit"
          ],
          [
           "Azpilicueta",
           "Chelsea"
          ],
          [
           "Bailly",
           "Man. United"
          ],
          [
           "Bakayoko",
           "Milan"
          ],
          [
           "Baku",
           "Wolfsburg"
          ],
          [
           "Balanta",
           "Club Brugge"
          ],
          [
           "Balde",
           "Barcelona"
          ],
          [
           "Bale",
           "Real Madrid"
          ],
          [
           "Ballo",
           "Milan"
          ],
          [
           "Bamba",
           "LOSC"
          ],
          [
           "Barella",
           "Inter"
          ],
          [
           "Barkley",
           "Chelsea"
          ],
          [
           "Barrios",
           "Zenit"
          ],
          [
           "Bastoni",
           "Inter"
          ],
          [
           "Batshuayi",
           "Beşiktaş"
          ],
          [
           "Bellingham",
           "Dortmund"
          ],
          [
           "Ben Arfa",
           "LOSC"
          ],
          [
           "Bennacer",
           "Milan"
          ],
          [
           "Bentancur",
           "Juventus"
          ],
          [
           "Benzema",
           "Real Madrid"
          ],
          [
           "Berget",
           "Malmö"
          ],
          [
           "Berghuis",
           "Ajax"
          ],
          [
           "Berkay Vardar",
           "Beşiktaş"
          ],
          [
           "Bernardeschi",
           "Juventus"
          ],
          [
           "Bernardo",
           "Salzburg"
          ],
          [
           "Bernardo Silva",
           "Man. City"
          ],
          [
           "Birmančević",
           "Malmö"
          ],
          [
           "Blanco",
           "Real Madrid"
          ],
          [
           "Blind",
           "Ajax"
          ],
          [
           "Bondar",
           "Shakhtar Donetsk"
          ],
          [
           "Bondarenko",
           "Shakhtar Donetsk"
          ],
          [
           "Bonnah",
           "Leipzig"
          ],
          [
           "Bonucci",
           "Juventus"
          ],
          [
           "Bornauw",
           "Wolfsburg"
          ],
          [
           "Botman",
           "LOSC"
          ],
          [
           "Bounou",
           "Sevilla"
          ],
          [
           "Boyko",
           "Dynamo Kyiv"
          ],
          [
           "Bozdoğan",
           "Beşiktaş"
          ],
          [
           "Bradarić",
           "LOSC"
          ],
          [
           "Bradley",
           "Liverpool"
          ],
          [
           "Brahim Díaz",
           "Milan"
          ],
          [
           "Brandt",
           "Dortmund"
          ],
          [
           "Brobbey",
           "Ajax"
          ],
          [
           "Brobbey",
           "Leipzig"
          ],
          [
           "Brooks",
           "Wolfsburg"
          ],
          [
           "Brorsson",
           "Malmö"
          ],
          [
           "Brozović",
           "Inter"
          ],
          [
           "Bruno",
           "Sheriff"
          ],
          [
           "Bruno Costa",
           "Porto"
          ],
          [
           "Bruno Fernandes",
           "Man. United"
          ],
          [
           "Bruno Tabata",
           "Sporting CP"
          ],
          [
           "Burak Yilmaz",
           "LOSC"
          ],
          [
           "Burak Yılmaz",
           "LOSC"
          ],
          [
           "Bushchan",
           "Dynamo Kyiv"
          ],
          [
           "Buyalskiy",
           "Dynamo Kyiv"
          ],
          [
           "Bürgy",
           "Young Boys"
          ],
          [
           "C. Martins Pereira",
           "Young Boys"
          ],
          [
           "Calabria",
           "Milan"
          ],
          [
           "Camara",
           "Salzburg"
          ],
          [
           "Camara",
           "Young Boys"
          ],
          [
           "Camavinga",
           "Real Madrid"
          ],
          [
           "Capaldo",
           "Salzburg"
          ],
          [
           "Capoue",
           "Villarreal"
          ],
          [
           "Carrasco",
           "Atlético"
          ],
          [
           "Carson",
           "Man. City"
          ],
          [
           "Carvajal",
           "Real Madrid"
          ],
          [
           "Casemiro",
           "Real Madrid"
          ],
          [
           "Castañeda",
           "Sheriff"
          ],
          [
           "Casteels",
           "Wolfsburg"
          ],
          [
           "Cavani",
           "Man. United"
          ],
          [
           "Ceballos",
           "Real Madrid"
          ],
          [
           "Celeadnic",
           "Sheriff"
          ],
          [
           "Chalobah",
           "Chelsea"
          ],
          [
           "Chiellini",
           "Juventus"
          ],
          [
           "Chiesa",
           "Juventus"
          ],
          [
           "Chilwell",
           "Chelsea"
          ],
          [
           "Chistiakov",
           "Zenit"
          ],
          [
           "Choupo-Moting",
           "Bayern"
          ],
          [
           "Christensen",
           "Chelsea"
          ],
          [
           "Christiansen",
           "Malmö"
          ],
          [
           "Chukwueze",
           "Villarreal"
          ],
          [
           "Claudinho",
           "Zenit"
          ],
          [
           "Clinton Mata",
           "Club Brugge"
          ],
          [
           "Coates",
           "Sporting CP"
          ],
          [
           "Cojocari",
           "Sheriff"
          ],
          [
           "Cojocaru",
           "Sheriff"
          ],
          [
           "Coman",
           "Bayern"
          ],
          [
           "Coquelin",
           "Villarreal"
          ],
          [
           "Corona",
           "Porto"
          ],
          [
           "Correa",
           "Atlético"
          ],
          [
           "Correa",
           "Inter"
          ],
          [
           "Courtois",
           "Real Madrid"
          ],
          [
           "Coutinho",
           "Barcelona"
          ],
          [
           "Cristiano",
           "Sheriff"
          ],
          [
           "Cuadrado",
           "Juventus"
          ],
          [
           "D'Ambrosio",
           "Inter"
          ],
          [
           "Da Graca",
           "Juventus"
          ],
          [
           "Dahlin",
           "Malmö"
          ],
          [
           "Dahoud",
           "Dortmund"
          ],
          [
           "Dalot",
           "Man. United"
          ],
          [
           "Daniel Bragança",
           "Sporting CP"
          ],
          [
           "Danilo",
           "Juventus"
          ],
          [
           "Danilo",
           "Paris"
          ],
          [
           "Danjuma",
           "Villarreal"
          ],
          [
           "Daramy",
           "Ajax"
          ],
          [
           "Darmian",
           "Inter"
          ],
          [
           "David",
           "LOSC"
          ],
          [
           "Davies",
           "Bayern"
          ],
          [
           "De Bruyne",
           "Man. City"
          ],
          [
           "De Gea",
           "Man. United"
          ],
          [
           "De Ketelaere",
           "Club Brugge"
          ],
          [
           "De Ligt",
           "Juventus"
          ],
          [
           "De Paul",
           "Atlético"
          ],
          [
           "De Pena",
           "Dynamo Kyiv"
          ],
          [
           "De Roon",
           "Atalanta"
          ],
          [
           "De Sciglio",
           "Juventus"
          ],
          [
           "De Vrij",
           "Inter"
          ],
          [
           "De Winter",
           "Juventus"
          ],
          [
           "Delaney",
           "Sevilla"
          ],
          [
           "Delap",
           "Man. City"
          ],
          [
           "Dembélé",
           "Barcelona"
          ],
          [
           "Demir",
           "Barcelona"
          ],
          [
           "Demiral",
           "Atalanta"
          ],
          [
           "Dentinho",
           "Shakhtar Donetsk"
          ],
          [
           "Depay",
           "Barcelona"
          ],
          [
           "Dest",
           "Barcelona"
          ],
          [
           "Di María",
           "Paris"
          ],
          [
           "Dia",
           "Villarreal"
          ],
          [
           "Diallo",
           "Man. United"
          ],
          [
           "Diallo",
           "Paris"
          ],
          [
           "Diawara",
           "Malmö"
          ],
          [
           "Diego Carlos",
           "Sevilla"
          ],
          [
           "Dimarco",
           "Inter"
          ],
          [
           "Dina Ebimbe",
           "Paris"
          ],
          [
           "Diogo Costa",
           "Porto"
          ],
          [
           "Diogo Gonçalves",
           "Benfica"
          ],
          [
           "Diogo Jota",
           "Liverpool"
          ],
          [
           "Djimsiti",
           "Atalanta"
          ],
          [
           "Dodô",
           "Shakhtar Donetsk"
          ],
          [
           "Donnarumma",
           "Paris"
          ],
          [
           "Dost",
           "Club Brugge"
          ],
          [
           "Douglas Santos",
           "Zenit"
          ],
          [
           "Draxler",
           "Paris"
          ],
          [
           "Dulanto",
           "Sheriff"
          ],
          [
           "Dumfries",
           "Inter"
          ],
          [
           "Dybala",
           "Juventus"
          ],
          [
           "Dzyuba",
           "Zenit"
          ],
          [
           "Dário Essugo",
           "Sporting CP"
          ],
          [
           "Džeko",
           "Inter"
          ],
          [
           "E. Hazard",
           "Real Madrid"
          ],
          [
           "Ederson",
           "Man. City"
          ],
          [
           "Edwards",
           "Sporting CP"
          ],
          [
           "Egan-Riley",
           "Man. City"
          ],
          [
           "Eile",
           "Malmö"
          ],
          [
           "Elanga",
           "Man. United"
          ],
          [
           "Elia",
           "Young Boys"
          ],
          [
           "Elliott",
           "Liverpool"
          ],
          [
           "Emre Can",
           "Dortmund"
          ],
          [
           "En-Nesyri",
           "Sevilla"
          ],
          [
           "Eric García",
           "Barcelona"
          ],
          [
           "Eric Ramirez",
           "Dynamo Kyiv"
          ],
          [
           "Erokhin",
           "Zenit"
          ],
          [
           "Ersin Destanoğlu",
           "Beşiktaş"
          ],
          [
           "Esteves",
           "Sporting CP"
          ],
          [
           "Estupiñán",
           "Villarreal"
          ],
          [
           "Evanilson",
           "Porto"
          ],
          [
           "Everton",
           "Benfica"
          ],
          [
           "F. Nmecha",
           "Wolfsburg"
          ],
          [
           "F. de Jong",
           "Barcelona"
          ],
          [
           "Fabinho",
           "Liverpool"
          ],
          [
           "Faivre",
           "Young Boys"
          ],
          [
           "Fassnacht",
           "Young Boys"
          ],
          [
           "Fati",
           "Barcelona"
          ],
          [
           "Feddal",
           "Sporting CP"
          ],
          [
           "Felipe",
           "Atlético"
          ],
          [
           "Fernandinho",
           "Man. City"
          ],
          [
           "Fernando",
           "Sevilla"
          ],
          [
           "Fernando",
           "Shakhtar Donetsk"
          ],
          [
           "Fernando Costanza",
           "Sheriff"
          ],
          [
           "Ferran Torres",
           "Man. City"
          ],
          [
           "Firmino",
           "Liverpool"
          ],
          [
           "Florenzi",
           "Milan"
          ],
          [
           "Flávio Nazinho",
           "Sporting CP"
          ],
          [
           "Foden",
           "Man. City"
          ],
          [
           "Fonte",
           "LOSC"
          ],
          [
           "Forsberg",
           "Leipzig"
          ],
          [
           "Foyth",
           "Villarreal"
          ],
          [
           "Francisco Conceição",
           "Porto"
          ],
          [
           "Fred",
           "Man. United"
          ],
          [
           "Freuler",
           "Atalanta"
          ],
          [
           "Fábio Cardoso",
           "Porto"
          ],
          [
           "Fábio Vieira",
           "Porto"
          ],
          [
           "Gagliardini",
           "Inter"
          ],
          [
           "Garcia",
           "Young Boys"
          ],
          [
           "Garmash",
           "Dynamo Kyiv"
          ],
          [
           "Gavi",
           "Barcelona"
          ],
          [
           "Gerard Moreno",
           "Villarreal"
          ],
          [
           "Gerhardt",
           "Wolfsburg"
          ],
          [
           "Ghezzal",
           "Beşiktaş"
          ],
          [
           "Gil Dias",
           "Benfica"
          ],
          [
           "Gilberto",
           "Benfica"
          ],
          [
           "Giménez",
           "Atlético"
          ],
          [
           "Ginczek",
           "Wolfsburg"
          ],
          [
           "Giroud",
           "Milan"
          ],
          [
           "Gnabry",
           "Bayern"
          ],
          [
           "Gomes",
           "LOSC"
          ],
          [
           "Gomez",
           "Liverpool"
          ],
          [
           "Gonçalo Inácio",
           "Sporting CP"
          ],
          [
           "Gonçalo Ramos",
           "Benfica"
          ],
          [
           "Goretzka",
           "Bayern"
          ],
          [
           "Gosens",
           "Atalanta"
          ],
          [
           "Gravenberch",
           "Ajax"
          ],
          [
           "Grbić",
           "LOSC"
          ],
          [
           "Grealish",
           "Man. City"
          ],
          [
           "Greenwood",
           "Man. United"
          ],
          [
           "Griezmann",
           "Atlético"
          ],
          [
           "Grimaldo",
           "Benfica"
          ],
          [
           "Grujić",
           "Porto"
          ],
          [
           "Gudmundsson",
           "LOSC"
          ],
          [
           "Guerreiro",
           "Dortmund"
          ],
          [
           "Gueye",
           "Paris"
          ],
          [
           "Guilavogui",
           "Wolfsburg"
          ],
          [
           "Guindo",
           "Salzburg"
          ],
          [
           "Gulácsi",
           "Leipzig"
          ],
          [
           "Gvardiol",
           "Leipzig"
          ],
          [
           "Gómez",
           "Sevilla"
          ],
          [
           "Gökhan Töre",
           "Beşiktaş"
          ],
          [
           "Gündoğan",
           "Man. City"
          ],
          [
           "Günok",
           "Beşiktaş"
          ],
          [
           "Haaland",
           "Dortmund"
          ],
          [
           "Haidara",
           "Leipzig"
          ],
          [
           "Hakan Çalhanoğlu",
           "Inter"
          ],
          [
           "Hakimi",
           "Paris"
          ],
          [
           "Haller",
           "Ajax"
          ],
          [
           "Handanovič",
           "Inter"
          ],
          [
           "Hateboer",
           "Atalanta"
          ],
          [
           "Havertz",
           "Chelsea"
          ],
          [
           "Heaton",
           "Man. United"
          ],
          [
           "Hefti",
           "Young Boys"
          ],
          [
           "Henderson",
           "Liverpool"
          ],
          [
           "Henderson",
           "Man. United"
          ],
          [
           "Hendry",
           "Club Brugge"
          ],
          [
           "Henrichs",
           "Leipzig"
          ],
          [
           "Hermoso",
           "Atlético"
          ],
          [
           "Herrera",
           "Atlético"
          ],
          [
           "Herrera",
           "Paris"
          ],
          [
           "Hudson-Odoi",
           "Chelsea"
          ],
          [
           "Hummels",
           "Dortmund"
          ],
          [
           "Hutchinson",
           "Beşiktaş"
          ],
          [
           "Iborra",
           "Villarreal"
          ],
          [
           "Ibrahimović",
           "Milan"
          ],
          [
           "Icardi",
           "Paris"
          ],
          [
           "Ikoné",
           "LOSC"
          ],
          [
           "Iličić",
           "Atalanta"
          ],
          [
           "Innocent",
           "Malmö"
          ],
          [
           "Iqbal",
           "Man. United"
          ],
          [
           "Ismaily",
           "Shakhtar Donetsk"
          ],
          [
           "Iván Romero",
           "Sevilla"
          ],
          [
           "Izquierdo",
           "Club Brugge"
          ],
          [
           "J. Timber",
           "Ajax"
          ],
          [
           "James",
           "Chelsea"
          ],
          [
           "Javi Serrano",
           "Atlético"
          ],
          [
           "Jesus",
           "Man. City"
          ],
          [
           "Jesús Navas",
           "Sevilla"
          ],
          [
           "Jones",
           "Liverpool"
          ],
          [
           "Jordi Alba",
           "Barcelona"
          ],
          [
           "Jordán",
           "Sevilla"
          ],
          [
           "Jorginho",
           "Chelsea"
          ],
          [
           "Jovane Cabral",
           "Sporting CP"
          ],
          [
           "Jović",
           "Real Madrid"
          ],
          [
           "João Cancelo",
           "Man. City"
          ],
          [
           "João Félix",
           "Atlético"
          ],
          [
           "João Mário",
           "Benfica"
          ],
          [
           "João Mário",
           "Porto"
          ],
          [
           "João Palhinha",
           "Sporting CP"
          ],
          [
           "João Virginia",
           "Sporting CP"
          ],
          [
           "Julien",
           "Sheriff"
          ],
          [
           "Kalulu",
           "Milan"
          ],
          [
           "Kampl",
           "Leipzig"
          ],
          [
           "Kanga",
           "Young Boys"
          ],
          [
           "Kanté",
           "Chelsea"
          ],
          [
           "Karavaev",
           "Dynamo Kyiv"
          ],
          [
           "Karavaev",
           "Zenit"
          ],
          [
           "Kean",
           "Juventus"
          ],
          [
           "Kehrer",
           "Paris"
          ],
          [
           "Kenan Karaman",
           "Beşiktaş"
          ],
          [
           "Kepa",
           "Chelsea"
          ],
          [
           "Kessié",
           "Milan"
          ],
          [
           "Keïta",
           "Liverpool"
          ],
          [
           "Kimmich",
           "Bayern"
          ],
          [
           "Kimpembe",
           "Paris"
          ],
          [
           "Kjær",
           "Milan"
          ],
          [
           "Kjærgaard",
           "Salzburg"
          ],
          [
           "Klaassen",
           "Ajax"
          ],
          [
           "Klostermann",
           "Leipzig"
          ],
          [
           "Knauff",
           "Dortmund"
          ],
          [
           "Kobel",
           "Dortmund"
          ],
          [
           "Koke",
           "Atlético"
          ],
          [
           "Kolarov",
           "Inter"
          ],
          [
           "Kolovos",
           "Sheriff"
          ],
          [
           "Konaté",
           "Liverpool"
          ],
          [
           "Kondogbia",
           "Atlético"
          ],
          [
           "Koopmeiners",
           "Atalanta"
          ],
          [
           "Korniienko",
           "Shakhtar Donetsk"
          ],
          [
           "Koundé",
           "Sevilla"
          ],
          [
           "Kovačić",
           "Chelsea"
          ],
          [
           "Kravtsov",
           "Zenit"
          ],
          [
           "Kristensen",
           "Salzburg"
          ],
          [
           "Kritsyuk",
           "Zenit"
          ],
          [
           "Kroos",
           "Real Madrid"
          ],
          [
           "Krugovoi",
           "Zenit"
          ],
          [
           "Krunić",
           "Milan"
          ],
          [
           "Kryvtsov",
           "Shakhtar Donetsk"
          ],
          [
           "Kudus",
           "Ajax"
          ],
          [
           "Kulusevski",
           "Juventus"
          ],
          [
           "Kuznetsov",
           "Zenit"
          ],
          [
           "Kuzyaev",
           "Zenit"
          ],
          [
           "Köhn",
           "Salzburg"
          ],
          [
           "Kędziora",
           "Dynamo Kyiv"
          ],
          [
           "L. Hernández",
           "Bayern"
          ],
          [
           "L. Nielsen",
           "Malmö"
          ],
          [
           "L. Nmecha",
           "Wolfsburg"
          ],
          [
           "L. de Jong",
           "Barcelona"
          ],
          [
           "Lacroix",
           "Wolfsburg"
          ],
          [
           "Laimer",
           "Leipzig"
          ],
          [
           "Lamela",
           "Sevilla"
          ],
          [
           "Lang",
           "Club Brugge"
          ],
          [
           "Laporte",
           "Man. City"
          ],
          [
           "Larin",
           "Beşiktaş"
          ],
          [
           "Larsson",
           "Malmö"
          ],
          [
           "Lauper",
           "Young Boys"
          ],
          [
           "Lednev",
           "Dynamo Kyiv"
          ],
          [
           "Lefort",
           "Young Boys"
          ],
          [
           "Lemar",
           "Atlético"
          ],
          [
           "Lenglet",
           "Barcelona"
          ],
          [
           "Leo Jardim",
           "LOSC"
          ],
          [
           "Lewandowski",
           "Bayern"
          ],
          [
           "Lewicki",
           "Malmö"
          ],
          [
           "Lihadji",
           "LOSC"
          ],
          [
           "Lindelöf",
           "Man. United"
          ],
          [
           "Lingard",
           "Man. United"
          ],
          [
           "Lo Celso",
           "Villarreal"
          ],
          [
           "Locatelli",
           "Juventus"
          ],
          [
           "Loftus-Cheek",
           "Chelsea"
          ],
          [
           "Lovato",
           "Atalanta"
          ],
          [
           "Lovren",
           "Zenit"
          ],
          [
           "Luca Pellegrini",
           "Juventus"
          ],
          [
           "Lucas Vázquez",
           "Real Madrid"
          ],
          [
           "Luis Díaz",
           "Liverpool"
          ],
          [
           "Luis Díaz",
           "Porto"
          ],
          [
           "Luis Suárez",
           "Atlético"
          ],
          [
           "Lukaku",
           "Chelsea"
          ],
          [
           "Lukebakio",
           "Wolfsburg"
          ],
          [
           "Lustenberger",
           "Young Boys"
          ],
          [
           "Luís Neto",
           "Sporting CP"
          ],
          [
           "Lázaro",
           "Benfica"
          ],
          [
           "M. Kerzhakov",
           "Zenit"
          ],
          [
           "M. Olsson",
           "Malmö"
          ],
          [
           "Maceiras",
           "Young Boys"
          ],
          [
           "Maguire",
           "Man. United"
          ],
          [
           "Mahrez",
           "Man. City"
          ],
          [
           "Maier",
           "Young Boys"
          ],
          [
           "Maignan",
           "Milan"
          ],
          [
           "Malcom",
           "Zenit"
          ],
          [
           "Maldini",
           "Milan"
          ],
          [
           "Malen",
           "Dortmund"
          ],
          [
           "Malinovskyi",
           "Atalanta"
          ],
          [
           "Mambimbi",
           "Young Boys"
          ],
          [
           "Mandi",
           "Villarreal"
          ],
          [
           "Mané",
           "Liverpool"
          ],
          [
           "Maouassa",
           "Club Brugge"
          ],
          [
           "Marc Roca",
           "Bayern"
          ],
          [
           "Marcano",
           "Porto"
          ],
          [
           "Marcelo",
           "Real Madrid"
          ],
          [
           "Marcos Antônio",
           "Shakhtar Donetsk"
          ],
          [
           "Marcos Llorente",
           "Atlético"
          ],
          [
           "Mariano Díaz",
           "Real Madrid"
          ],
          [
           "Mario Gaspar",
           "Villarreal"
          ],
          [
           "Marlon",
           "Shakhtar Donetsk"
          ],
          [
           "Marlos",
           "Shakhtar Donetsk"
          ],
          [
           "Marquinhos",
           "Paris"
          ],
          [
           "Martial",
           "Man. United"
          ],
          [
           "Martínez",
           "Ajax"
          ],
          [
           "Martínez",
           "Inter"
          ],
          [
           "Martínez",
           "Leipzig"
          ],
          [
           "Mata",
           "Man. United"
          ],
          [
           "Matheus Cunha",
           "Atlético"
          ],
          [
           "Matheus Nunes",
           "Sporting CP"
          ],
          [
           "Matheus Reis",
           "Sporting CP"
          ],
          [
           "Matip",
           "Liverpool"
          ],
          [
           "Matić",
           "Man. United"
          ],
          [
           "Matviyenko",
           "Shakhtar Donetsk"
          ],
          [
           "Maycon",
           "Shakhtar Donetsk"
          ],
          [
           "Mazraoui",
           "Ajax"
          ],
          [
           "Mbabu",
           "Wolfsburg"
          ],
          [
           "Mbamba-Muanda",
           "Club Brugge"
          ],
          [
           "Mbappé",
           "Paris"
          ],
          [
           "Mbemba",
           "Porto"
          ],
          [
           "Mbete",
           "Man. City"
          ],
          [
           "McAtee",
           "Man. City"
          ],
          [
           "McKennie",
           "Juventus"
          ],
          [
           "McTominay",
           "Man. United"
          ],
          [
           "Mechele",
           "Club Brugge"
          ],
          [
           "Mehmet Topal",
           "Beşiktaş"
          ],
          [
           "Meite",
           "Benfica"
          ],
          [
           "Mendy",
           "Chelsea"
          ],
          [
           "Mendy",
           "Real Madrid"
          ],
          [
           "Mengi",
           "Man. United"
          ],
          [
           "Meraş",
           "Beşiktaş"
          ],
          [
           "Messi",
           "Paris"
          ],
          [
           "Messias Junior",
           "Milan"
          ],
          [
           "Meunier",
           "Dortmund"
          ],
          [
           "Mignolet",
           "Club Brugge"
          ],
          [
           "Miguel Gutiérrez",
           "Real Madrid"
          ],
          [
           "Milner",
           "Liverpool"
          ],
          [
           "Minamino",
           "Liverpool"
          ],
          [
           "Mingueza",
           "Barcelona"
          ],
          [
           "Miretti",
           "Juventus"
          ],
          [
           "Modrić",
           "Real Madrid"
          ],
          [
           "Moi Gómez",
           "Villarreal"
          ],
          [
           "Moisander",
           "Malmö"
          ],
          [
           "Montero",
           "Beşiktaş"
          ],
          [
           "Montiel",
           "Sevilla"
          ],
          [
           "Morata",
           "Juventus"
          ],
          [
           "Morato",
           "Benfica"
          ],
          [
           "Moreno",
           "Villarreal"
          ],
          [
           "Moriba",
           "Leipzig"
          ],
          [
           "Morton",
           "Liverpool"
          ],
          [
           "Mostovoy",
           "Zenit"
          ],
          [
           "Moukoko",
           "Dortmund"
          ],
          [
           "Moumi Ngamaleu",
           "Young Boys"
          ],
          [
           "Mount",
           "Chelsea"
          ],
          [
           "Mudryk",
           "Shakhtar Donetsk"
          ],
          [
           "Mukiele",
           "Leipzig"
          ],
          [
           "Munir",
           "Sevilla"
          ],
          [
           "Muriel",
           "Atalanta"
          ],
          [
           "Musiala",
           "Bayern"
          ],
          [
           "Musso",
           "Atalanta"
          ],
          [
           "Mykolenko",
           "Dynamo Kyiv"
          ],
          [
           "Mæhle",
           "Atalanta"
          ],
          [
           "Müller",
           "Bayern"
          ],
          [
           "N'Koudou",
           "Beşiktaş"
          ],
          [
           "N'Sakala",
           "Beşiktaş"
          ],
          [
           "N. Williams",
           "Liverpool"
          ],
          [
           "Nacho",
           "Real Madrid"
          ],
          [
           "Nalić",
           "Malmö"
          ],
          [
           "Nanasi",
           "Malmö"
          ],
          [
           "Navas",
           "Paris"
          ],
          [
           "Necip Uysal",
           "Beşiktaş"
          ],
          [
           "Neres",
           "Ajax"
          ],
          [
           "Neuer",
           "Bayern"
          ],
          [
           "Neymar",
           "Paris"
          ],
          [
           "Nianzou",
           "Bayern"
          ],
          [
           "Nico González",
           "Barcelona"
          ],
          [
           "Nikolov",
           "Sheriff"
          ],
          [
           "Nkunku",
           "Leipzig"
          ],
          [
           "Novoa",
           "Leipzig"
          ],
          [
           "Nsoki",
           "Club Brugge"
          ],
          [
           "Nuno Mendes",
           "Paris"
          ],
          [
           "Nuno Santos",
           "Sporting CP"
          ],
          [
           "Núñez",
           "Benfica"
          ],
          [
           "Oblak",
           "Atlético"
          ],
          [
           "Ocampos",
           "Sevilla"
          ],
          [
           "Okafor",
           "Salzburg"
          ],
          [
           "Olmo",
           "Leipzig"
          ],
          [
           "Onana",
           "Ajax"
          ],
          [
           "Onana",
           "LOSC"
          ],
          [
           "Onguéné",
           "Salzburg"
          ],
          [
           "Orbán",
           "Leipzig"
          ],
          [
           "Origi",
           "Liverpool"
          ],
          [
           "Otamendi",
           "Benfica"
          ],
          [
           "Otávio",
           "Porto"
          ],
          [
           "Oxlade-Chamberlain",
           "Liverpool"
          ],
          [
           "Ozdoev",
           "Zenit"
          ],
          [
           "Oğuzhan Özyakup",
           "Beşiktaş"
          ],
          [
           "Palmer",
           "Man. City"
          ],
          [
           "Palomino",
           "Atalanta"
          ],
          [
           "Paredes",
           "Paris"
          ],
          [
           "Parejo",
           "Villarreal"
          ],
          [
           "Passlack",
           "Dortmund"
          ],
          [
           "Pasveer",
           "Ajax"
          ],
          [
           "Pau Torres",
           "Villarreal"
          ],
          [
           "Paulinho",
           "Sporting CP"
          ],
          [
           "Paulo Bernardo",
           "Benfica"
          ],
          [
           "Paulo Otávio",
           "Wolfsburg"
          ],
          [
           "Pavard",
           "Bayern"
          ],
          [
           "Pašalić",
           "Atalanta"
          ],
          [
           "Pedraza",
           "Villarreal"
          ],
          [
           "Pedri",
           "Barcelona"
          ],
          [
           "Pedrinho",
           "Shakhtar Donetsk"
          ],
          [
           "Pedro Gonçalves",
           "Sporting CP"
          ],
          [
           "Pedro Porro",
           "Sporting CP"
          ],
          [
           "Pepe",
           "Porto"
          ],
          [
           "Pepê",
           "Porto"
          ],
          [
           "Perin",
           "Juventus"
          ],
          [
           "Perišić",
           "Inter"
          ],
          [
           "Pervan",
           "Wolfsburg"
          ],
          [
           "Pessina",
           "Atalanta"
          ],
          [
           "Pezzella",
           "Atalanta"
          ],
          [
           "Peña",
           "Malmö"
          ],
          [
           "Peña",
           "Villarreal"
          ],
          [
           "Philipp",
           "Wolfsburg"
          ],
          [
           "Phillips",
           "Liverpool"
          ],
          [
           "Pino",
           "Villarreal"
          ],
          [
           "Piqué",
           "Barcelona"
          ],
          [
           "Pizzi",
           "Benfica"
          ],
          [
           "Piątkowski",
           "Salzburg"
          ],
          [
           "Pjanic",
           "Beşiktaş"
          ],
          [
           "Pogba",
           "Man. United"
          ],
          [
           "Pongračić",
           "Dortmund"
          ],
          [
           "Poulsen",
           "Leipzig"
          ],
          [
           "Pulišić",
           "Chelsea"
          ],
          [
           "Pyatov",
           "Shakhtar Donetsk"
          ],
          [
           "Raba",
           "Villarreal"
          ],
          [
           "Rabiot",
           "Juventus"
          ],
          [
           "Radeljić",
           "Sheriff"
          ],
          [
           "Radonjić",
           "Benfica"
          ],
          [
           "Rafa Mir",
           "Sevilla"
          ],
          [
           "Rafa Silva",
           "Benfica"
          ],
          [
           "Rafael Leão",
           "Milan"
          ],
          [
           "Rakip",
           "Malmö"
          ],
          [
           "Rakitić",
           "Sevilla"
          ],
          [
           "Rakitskyy",
           "Zenit"
          ],
          [
           "Ramsey",
           "Juventus"
          ],
          [
           "Ranocchia",
           "Inter"
          ],
          [
           "Rashford",
           "Man. United"
          ],
          [
           "Rebić",
           "Milan"
          ],
          [
           "Reinier",
           "Dortmund"
          ],
          [
           "Reinildo",
           "Atlético"
          ],
          [
           "Reinildo",
           "LOSC"
          ],
          [
           "Rekik",
           "Sevilla"
          ],
          [
           "Renan Lodi",
           "Atlético"
          ],
          [
           "Renato Sanches",
           "LOSC"
          ],
          [
           "Rensch",
           "Ajax"
          ],
          [
           "Reus",
           "Dortmund"
          ],
          [
           "Ricard Puig",
           "Barcelona"
          ],
          [
           "Ricardo Esgaio",
           "Sporting CP"
          ],
          [
           "Ricca",
           "Club Brugge"
          ],
          [
           "Richards",
           "Bayern"
          ],
          [
           "Rieder",
           "Young Boys"
          ],
          [
           "Rieks",
           "Malmö"
          ],
          [
           "Rits",
           "Club Brugge"
          ],
          [
           "Robertson",
           "Liverpool"
          ],
          [
           "Rodri",
           "Man. City"
          ],
          [
           "Rodrigo Ribeiro",
           "Sporting CP"
          ],
          [
           "Rodrygo",
           "Real Madrid"
          ],
          [
           "Romagnoli",
           "Milan"
          ],
          [
           "Ronald Araújo",
           "Barcelona"
          ],
          [
           "Ronaldo",
           "Man. United"
          ],
          [
           "Rosier",
           "Beşiktaş"
          ],
          [
           "Roussillon",
           "Wolfsburg"
          ],
          [
           "Rugani",
           "Juventus"
          ],
          [
           "Rulli",
           "Villarreal"
          ],
          [
           "Rúben Dias",
           "Man. City"
          ],
          [
           "Rúben Vinagre",
           "Sporting CP"
          ],
          [
           "Rüdiger",
           "Chelsea"
          ],
          [
           "Rıdvan Yılmaz",
           "Beşiktaş"
          ],
          [
           "S. Thill",
           "Sheriff"
          ],
          [
           "Sabitzer",
           "Bayern"
          ],
          [
           "Saelemaekers",
           "Milan"
          ],
          [
           "Salah",
           "Liverpool"
          ],
          [
           "Salih Uçan",
           "Beşiktaş"
          ],
          [
           "Sancho",
           "Man. United"
          ],
          [
           "Sandra",
           "Club Brugge"
          ],
          [
           "Sané",
           "Bayern"
          ],
          [
           "Sarabia",
           "Sporting CP"
          ],
          [
           "Sarr",
           "Bayern"
          ],
          [
           "Sarr",
           "Chelsea"
          ],
          [
           "Savage",
           "Man. United"
          ],
          [
           "Savić",
           "Atlético"
          ],
          [
           "Saúl Ñíguez",
           "Chelsea"
          ],
          [
           "Schulz",
           "Dortmund"
          ],
          [
           "Schuurs",
           "Ajax"
          ],
          [
           "Seferović",
           "Benfica"
          ],
          [
           "Seiwald",
           "Salzburg"
          ],
          [
           "Sensi",
           "Inter"
          ],
          [
           "Serdar Saatçı",
           "Beşiktaş"
          ],
          [
           "Sergi Roberto",
           "Barcelona"
          ],
          [
           "Sergio Busquets",
           "Barcelona"
          ],
          [
           "Shabanov",
           "Dynamo Kyiv"
          ],
          [
           "Shaparenko",
           "Dynamo Kyiv"
          ],
          [
           "Shaw",
           "Man. United"
          ],
          [
           "Shepeliev",
           "Dynamo Kyiv"
          ],
          [
           "Shevchenko",
           "Shakhtar Donetsk"
          ],
          [
           "Shkurin",
           "Dynamo Kyiv"
          ],
          [
           "Shoretire",
           "Man. United"
          ],
          [
           "Siebatcheu",
           "Young Boys"
          ],
          [
           "Sierro",
           "Young Boys"
          ],
          [
           "Simakan",
           "Leipzig"
          ],
          [
           "Slimani",
           "Sporting CP"
          ],
          [
           "Sobol",
           "Club Brugge"
          ],
          [
           "Solet",
           "Salzburg"
          ],
          [
           "Solomon",
           "Shakhtar Donetsk"
          ],
          [
           "Souza",
           "Beşiktaş"
          ],
          [
           "Sowah",
           "Club Brugge"
          ],
          [
           "Spielmann",
           "Young Boys"
          ],
          [
           "Stanišić",
           "Bayern"
          ],
          [
           "Steffen",
           "Man. City"
          ],
          [
           "Steffen",
           "Wolfsburg"
          ],
          [
           "Stepanenko",
           "Shakhtar Donetsk"
          ],
          [
           "Sterling",
           "Man. City"
          ],
          [
           "Stones",
           "Man. City"
          ],
          [
           "Sudakov",
           "Shakhtar Donetsk"
          ],
          [
           "Sulejmani",
           "Young Boys"
          ],
          [
           "Supryaha",
           "Dynamo Kyiv"
          ],
          [
           "Suso",
           "Sevilla"
          ],
          [
           "Sutormin",
           "Zenit"
          ],
          [
           "Sučić",
           "Salzburg"
          ],
          [
           "Sydorchuk",
           "Dynamo Kyiv"
          ],
          [
           "Syrota",
           "Dynamo Kyiv"
          ],
          [
           "Szczęsny",
           "Juventus"
          ],
          [
           "Szoboszlai",
           "Leipzig"
          ],
          [
           "Sérgio Oliveira",
           "Porto"
          ],
          [
           "Süle",
           "Bayern"
          ],
          [
           "T. Hazard",
           "Dortmund"
          ],
          [
           "T. Hernández",
           "Milan"
          ],
          [
           "Taarabt",
           "Benfica"
          ],
          [
           "Tadić",
           "Ajax"
          ],
          [
           "Tagliafico",
           "Ajax"
          ],
          [
           "Taremi",
           "Porto"
          ],
          [
           "Taylor",
           "Ajax"
          ],
          [
           "Ter Stegen",
           "Barcelona"
          ],
          [
           "Tetê",
           "Shakhtar Donetsk"
          ],
          [
           "Thiago Alcántara",
           "Liverpool"
          ],
          [
           "Thiago Silva",
           "Chelsea"
          ],
          [
           "Tiago Djaló",
           "LOSC"
          ],
          [
           "Tiago Tomás",
           "Sporting CP"
          ],
          [
           "Tigges",
           "Dortmund"
          ],
          [
           "Tijani",
           "Salzburg"
          ],
          [
           "Tillman",
           "Bayern"
          ],
          [
           "Tolisso",
           "Bayern"
          ],
          [
           "Tolói",
           "Atalanta"
          ],
          [
           "Tomori",
           "Milan"
          ],
          [
           "Tonali",
           "Milan"
          ],
          [
           "Toni Martínez",
           "Porto"
          ],
          [
           "Traore",
           "Sheriff"
          ],
          [
           "Traoré",
           "Shakhtar Donetsk"
          ],
          [
           "Trigueros",
           "Villarreal"
          ],
          [
           "Trippier",
           "Atlético"
          ],
          [
           "Trubin",
           "Shakhtar Donetsk"
          ],
          [
           "Tsimikas",
           "Liverpool"
          ],
          [
           "Tsygankov",
           "Dynamo Kyiv"
          ],
          [
           "Tymchyk",
           "Dynamo Kyiv"
          ],
          [
           "Tătăruşanu",
           "Milan"
          ],
          [
           "Ugarte",
           "Sporting CP"
          ],
          [
           "Ulmer",
           "Salzburg"
          ],
          [
           "Ulreich",
           "Bayern"
          ],
          [
           "Upamecano",
           "Bayern"
          ],
          [
           "Uribe",
           "Porto"
          ],
          [
           "Vallejo",
           "Real Madrid"
          ],
          [
           "Valverde",
           "Real Madrid"
          ],
          [
           "Van Der Brempt",
           "Club Brugge"
          ],
          [
           "Van Dijk",
           "Liverpool"
          ],
          [
           "Van de Beek",
           "Man. United"
          ],
          [
           "Vanaken",
           "Club Brugge"
          ],
          [
           "Varane",
           "Man. United"
          ],
          [
           "Vecino",
           "Inter"
          ],
          [
           "Verbič",
           "Dynamo Kyiv"
          ],
          [
           "Verissimo",
           "Benfica"
          ],
          [
           "Verratti",
           "Paris"
          ],
          [
           "Vertonghen",
           "Benfica"
          ],
          [
           "Vida",
           "Beşiktaş"
          ],
          [
           "Vidal",
           "Inter"
          ],
          [
           "Vinícius Júnior",
           "Real Madrid"
          ],
          [
           "Vitinha",
           "Porto"
          ],
          [
           "Vitinho",
           "Dynamo Kyiv"
          ],
          [
           "Vitão",
           "Shakhtar Donetsk"
          ],
          [
           "Vlachodimos",
           "Benfica"
          ],
          [
           "Vlahović",
           "Juventus"
          ],
          [
           "Von Ballmoos",
           "Young Boys"
          ],
          [
           "Vormer",
           "Club Brugge"
          ],
          [
           "Vranckx",
           "Wolfsburg"
          ],
          [
           "Vrsaljko",
           "Atlético"
          ],
          [
           "Waldschmidt",
           "Wolfsburg"
          ],
          [
           "Walker",
           "Man. City"
          ],
          [
           "Wan-Bissaka",
           "Man. United"
          ],
          [
           "Weah",
           "LOSC"
          ],
          [
           "Weghorst",
           "Wolfsburg"
          ],
          [
           "Weigl",
           "Benfica"
          ],
          [
           "Welinton",
           "Beşiktaş"
          ],
          [
           "Wendel",
           "Zenit"
          ],
          [
           "Wendell",
           "Porto"
          ],
          [
           "Werner",
           "Chelsea"
          ],
          [
           "Wesley",
           "Club Brugge"
          ],
          [
           "Wijnaldum",
           "Paris"
          ],
          [
           "Witsel",
           "Dortmund"
          ],
          [
           "Wolf",
           "Dortmund"
          ],
          [
           "Woltman",
           "Liverpool"
          ],
          [
           "Wöber",
           "Salzburg"
          ],
          [
           "Xeka",
           "LOSC"
          ],
          [
           "Yakhshiboev",
           "Sheriff"
          ],
          [
           "Yansané",
           "Sheriff"
          ],
          [
           "Yaremchuk",
           "Benfica"
          ],
          [
           "Yusuf Yazıcı",
           "LOSC"
          ],
          [
           "Zabarnyi",
           "Dynamo Kyiv"
          ],
          [
           "Zagadou",
           "Dortmund"
          ],
          [
           "Zaidu",
           "Porto"
          ],
          [
           "Zakaria",
           "Juventus"
          ],
          [
           "Zapata",
           "Atalanta"
          ],
          [
           "Zappacosta",
           "Atalanta"
          ],
          [
           "Zeki Çelik",
           "LOSC"
          ],
          [
           "Zesiger",
           "Young Boys"
          ],
          [
           "Zhegrova",
           "LOSC"
          ],
          [
           "Zinchenko",
           "Man. City"
          ],
          [
           "Ziyech",
           "Chelsea"
          ],
          [
           "Álvarez",
           "Ajax"
          ],
          [
           "Éder Militão",
           "Real Madrid"
          ],
          [
           "Óliver Torres",
           "Sevilla"
          ],
          [
           "Óscar Rodríguez",
           "Sevilla"
          ],
          [
           "Čolak",
           "Malmö"
          ],
          [
           "Šeško",
           "Salzburg"
          ],
          [
           "Šimić",
           "Salzburg"
          ],
          [
           "Škriniar",
           "Inter"
          ]
         ],
         "hovertemplate": "PC1=%{x}<br>PC2=%{y}<br>player_name=%{customdata[0]}<br>club=%{customdata[1]}<br>cluster=%{marker.color}<extra></extra>",
         "legendgroup": "",
         "marker": {
          "color": [
           0,
           3,
           3,
           0,
           2,
           0,
           1,
           3,
           0,
           3,
           3,
           3,
           2,
           3,
           2,
           0,
           0,
           3,
           2,
           3,
           2,
           0,
           2,
           3,
           0,
           3,
           0,
           3,
           1,
           0,
           1,
           0,
           0,
           0,
           2,
           3,
           3,
           3,
           2,
           2,
           3,
           3,
           2,
           0,
           3,
           3,
           3,
           0,
           0,
           3,
           0,
           0,
           0,
           2,
           3,
           0,
           0,
           1,
           3,
           2,
           3,
           0,
           3,
           1,
           0,
           3,
           2,
           3,
           3,
           3,
           3,
           3,
           3,
           3,
           3,
           3,
           3,
           3,
           2,
           3,
           3,
           3,
           3,
           3,
           2,
           0,
           3,
           0,
           2,
           3,
           2,
           3,
           0,
           3,
           0,
           3,
           0,
           3,
           0,
           0,
           1,
           0,
           3,
           0,
           0,
           3,
           3,
           3,
           3,
           3,
           3,
           3,
           2,
           3,
           0,
           3,
           2,
           3,
           2,
           2,
           0,
           2,
           3,
           3,
           1,
           2,
           3,
           2,
           3,
           3,
           3,
           0,
           0,
           3,
           3,
           3,
           0,
           3,
           3,
           0,
           0,
           1,
           3,
           3,
           2,
           0,
           1,
           3,
           0,
           0,
           2,
           3,
           0,
           3,
           2,
           3,
           3,
           3,
           3,
           3,
           2,
           3,
           0,
           3,
           0,
           2,
           3,
           3,
           3,
           0,
           0,
           3,
           3,
           3,
           2,
           3,
           0,
           3,
           3,
           0,
           3,
           0,
           0,
           2,
           0,
           3,
           1,
           3,
           3,
           3,
           3,
           3,
           3,
           2,
           3,
           3,
           3,
           0,
           3,
           3,
           3,
           3,
           0,
           0,
           0,
           3,
           0,
           2,
           3,
           3,
           3,
           3,
           0,
           0,
           0,
           2,
           0,
           3,
           2,
           3,
           3,
           1,
           0,
           2,
           0,
           3,
           0,
           2,
           3,
           3,
           3,
           0,
           2,
           0,
           1,
           0,
           2,
           3,
           2,
           0,
           3,
           0,
           2,
           2,
           3,
           0,
           2,
           0,
           3,
           0,
           3,
           2,
           2,
           1,
           0,
           0,
           3,
           3,
           2,
           0,
           3,
           3,
           0,
           3,
           3,
           0,
           3,
           2,
           3,
           0,
           0,
           1,
           3,
           3,
           1,
           3,
           2,
           2,
           3,
           0,
           3,
           0,
           3,
           2,
           2,
           0,
           3,
           3,
           3,
           3,
           2,
           2,
           0,
           3,
           3,
           3,
           3,
           0,
           2,
           3,
           2,
           3,
           0,
           0,
           2,
           2,
           3,
           3,
           2,
           2,
           0,
           3,
           0,
           3,
           3,
           0,
           3,
           3,
           0,
           3,
           0,
           2,
           3,
           3,
           3,
           0,
           2,
           0,
           0,
           3,
           3,
           2,
           3,
           3,
           3,
           0,
           3,
           0,
           2,
           0,
           0,
           3,
           0,
           0,
           3,
           0,
           3,
           2,
           3,
           3,
           3,
           3,
           2,
           3,
           2,
           3,
           3,
           0,
           0,
           2,
           3,
           0,
           0,
           3,
           0,
           0,
           2,
           0,
           0,
           3,
           3,
           0,
           3,
           3,
           1,
           3,
           3,
           3,
           3,
           0,
           0,
           0,
           3,
           3,
           3,
           0,
           2,
           0,
           2,
           2,
           3,
           3,
           3,
           3,
           3,
           3,
           3,
           2,
           1,
           3,
           3,
           0,
           3,
           2,
           2,
           3,
           3,
           1,
           3,
           3,
           3,
           3,
           3,
           0,
           3,
           3,
           0,
           3,
           0,
           3,
           0,
           2,
           3,
           3,
           3,
           0,
           0,
           0,
           0,
           3,
           0,
           0,
           0,
           3,
           1,
           0,
           3,
           3,
           0,
           0,
           3,
           3,
           3,
           3,
           0,
           3,
           3,
           1,
           3,
           0,
           3,
           3,
           0,
           3,
           3,
           3,
           0,
           0,
           3,
           2,
           3,
           2,
           3,
           2,
           3,
           3,
           3,
           3,
           2,
           2,
           3,
           2,
           3,
           2,
           2,
           3,
           3,
           0,
           1,
           3,
           3,
           3,
           0,
           3,
           3,
           3,
           3,
           2,
           3,
           0,
           3,
           3,
           2,
           1,
           3,
           3,
           0,
           2,
           1,
           3,
           2,
           2,
           3,
           3,
           0,
           3,
           3,
           2,
           0,
           0,
           0,
           3,
           3,
           3,
           2,
           0,
           2,
           3,
           3,
           2,
           1,
           3,
           3,
           0,
           2,
           0,
           3,
           0,
           1,
           2,
           0,
           3,
           3,
           0,
           3,
           3,
           3,
           3,
           3,
           3,
           3,
           2,
           2,
           3,
           3,
           0,
           0,
           3,
           0,
           2,
           3,
           3,
           0,
           3,
           3,
           2,
           2,
           2,
           0,
           2,
           2,
           3,
           3,
           2,
           3,
           3,
           0,
           3,
           3,
           2,
           0,
           3,
           1,
           3,
           0,
           3,
           3,
           2,
           3,
           2,
           0,
           0,
           3,
           1,
           3,
           3,
           1,
           3,
           0,
           3,
           3,
           0,
           3,
           2,
           3,
           2,
           3,
           0,
           1,
           3,
           2,
           3,
           1,
           2,
           3,
           3,
           3,
           3,
           3,
           3,
           3,
           3,
           0,
           3,
           3,
           3,
           0,
           3,
           0,
           0,
           3,
           3,
           3,
           3,
           2,
           2,
           0,
           3,
           0,
           3,
           3,
           0,
           3,
           3,
           3,
           3,
           2,
           3,
           1,
           0,
           3,
           3,
           3,
           0,
           2,
           2,
           0,
           3,
           3,
           2,
           2,
           0,
           3,
           0,
           0,
           2,
           3,
           2,
           3,
           3,
           0,
           2,
           0,
           0,
           3,
           3,
           3,
           3,
           0,
           3,
           2,
           0,
           3,
           2,
           3,
           2,
           3,
           3,
           0,
           0,
           3,
           3,
           3,
           0,
           3,
           0,
           0,
           3,
           0,
           3,
           0,
           3,
           2,
           3,
           3,
           3,
           3,
           0,
           0,
           3,
           2,
           1,
           0,
           3,
           3,
           3,
           3,
           3,
           3,
           3,
           0,
           3,
           2,
           0,
           3,
           0,
           0,
           3,
           2,
           3,
           2,
           3,
           2,
           0,
           3,
           3,
           2,
           0,
           3,
           3,
           2,
           3,
           0,
           3,
           0,
           3,
           1,
           0,
           0,
           3,
           3,
           0,
           2,
           0,
           0,
           3,
           3,
           0,
           3,
           3,
           2
          ],
          "coloraxis": "coloraxis",
          "opacity": 0.8,
          "symbol": "circle"
         },
         "mode": "markers",
         "name": "",
         "orientation": "v",
         "showlegend": false,
         "type": "scatter",
         "x": [
          3.9427854476035176,
          -1.7812078777824534,
          -1.34362008843659,
          -1.5322659500144222,
          1.2155120104608597,
          -0.38819718284070703,
          8.617158009381427,
          -2.3536922884355334,
          1.8144830533939613,
          -3.1539700579380674,
          -1.6783074995575484,
          -1.3280869916030935,
          0.8331225611191885,
          -2.017928810399215,
          4.022052371332831,
          0.5006581989867481,
          1.5925297591058036,
          -0.8449288585496623,
          2.0849696126109816,
          -2.1194111351595537,
          0.0242503725932682,
          5.788677941168503,
          1.6987359499095198,
          -1.5149877145519723,
          1.6517986880109807,
          -3.116788755119085,
          0.7881099584084587,
          -2.0068592451650944,
          7.8681731469292915,
          1.5113593747776466,
          9.69566657809147,
          -1.1288724289293954,
          2.48796379206877,
          -1.141301414885572,
          2.8802422710907685,
          -2.633260479730054,
          -2.5247165884991443,
          -0.9624941373553483,
          2.648128201372896,
          3.4775112370646317,
          -2.6363226222379073,
          -2.1738642320348083,
          0.3101136909166998,
          -0.8508313091848579,
          -2.879068923691237,
          -3.181710975990142,
          -2.7756834810841964,
          0.1482558111215552,
          -0.006026766584005004,
          -2.500646031695146,
          -0.5590644341027001,
          0.2575433384395282,
          0.08554327012718332,
          5.658730610197479,
          -2.7228757975697864,
          -0.657399938190444,
          -0.020722709616857234,
          25.35658252101035,
          -1.6908803234160934,
          6.921653107033321,
          -3.246871829256877,
          1.151251067203658,
          -2.291748808069145,
          8.130366427096376,
          1.186995621992366,
          -3.2550803859187347,
          3.4387927099567888,
          -2.9688940944581406,
          -2.525301908968393,
          -3.252095456223514,
          -2.3910039096257956,
          -2.0503571592034744,
          -1.1140918686558638,
          -1.648510899738557,
          -3.1923968623190944,
          -1.4854102866860566,
          -3.1627480649213853,
          -3.258811548037761,
          2.6016280068591904,
          -1.056837028850904,
          -3.0061212515168436,
          -2.239435917545593,
          -1.8098478578372814,
          -1.5037244001382613,
          2.9307640926772613,
          -0.8138995026193003,
          -3.251349223799709,
          5.525127260240109,
          1.158928170305275,
          0.7150068259898248,
          2.986427148877328,
          -2.633260479730054,
          -0.40613908916143737,
          -2.460667160234035,
          -0.49395200848909465,
          -1.8436684630732452,
          1.3486307882228592,
          -1.6769191851748115,
          1.5955493793016953,
          -0.28597410751889935,
          9.23305510890265,
          -0.018855347866102216,
          -3.246871829256877,
          3.936859018024727,
          3.382041730287643,
          -0.8733355445402761,
          -2.633260479730054,
          -2.2174442121081652,
          -2.94145447076162,
          -3.1923968623190944,
          -0.6860195316279488,
          -3.1721431790009103,
          2.4938582693690314,
          -1.041948635735918,
          -0.46315807940434855,
          -0.5288330942512441,
          2.8755030156416175,
          -1.0438733764336745,
          1.9242369035350457,
          3.3625584632922503,
          -0.354930705536096,
          2.2869156656394227,
          -3.258811548037761,
          -2.9342103780124247,
          9.89946450141686,
          1.7673076790505602,
          -2.09497016294157,
          3.1778513494657386,
          -2.0591087441211187,
          -1.4702137691236576,
          -1.666493456790062,
          1.4935464787178994,
          -0.1943687878669621,
          -2.055864060105353,
          -3.258811548037761,
          -2.188841482623687,
          0.5032396197731243,
          -1.5909880455951595,
          -1.3300117705371666,
          0.08423596699428235,
          -0.6605926515607127,
          14.067525558506441,
          -2.534257745632793,
          -1.6382141011267797,
          5.12917427056069,
          2.1486453664177088,
          10.053399022774343,
          -2.3536922884355334,
          3.1617116462728783,
          -0.5561340516662623,
          4.063544684489524,
          -1.7125754123405186,
          -0.5798021061141494,
          -0.9561795355905384,
          0.8356680444520468,
          -2.8756782234654636,
          -1.786793669111105,
          -3.1321580986138353,
          -1.9327086360225008,
          -2.3453086269538237,
          0.5398800752194883,
          -3.0892413495311284,
          -0.05659221789003026,
          -1.5043489341448075,
          0.9579148473616916,
          1.1738278946333656,
          -2.7778722327500325,
          -2.661957549208247,
          -2.9464091300958097,
          -0.47987298256124894,
          -0.3910854639188239,
          -3.1599399173285097,
          -2.4934763840827934,
          -2.3836744857135264,
          7.420537926219901,
          -2.0979578996538613,
          0.1860938518418288,
          -2.633260479730054,
          -2.3554308216575497,
          1.1702562298606385,
          -2.625625356480108,
          -0.4617052194615921,
          1.7800558809410956,
          5.147534644076654,
          0.7259008458458729,
          -3.2528416886473193,
          7.635653095593485,
          -2.1363705318154884,
          -1.7848548843370247,
          -3.1672366121941,
          -3.042177434234146,
          -3.2573190831901506,
          -0.5462784426810466,
          2.013678119891783,
          -3.215530067457057,
          -2.873780141479701,
          -1.8617619741848093,
          -1.407668974593754,
          -3.020243912175382,
          -1.2903884779428407,
          -2.633260479730054,
          -2.8888321155962546,
          0.27991561738007525,
          -0.553232168456644,
          1.1550926710268918,
          -2.946141579061902,
          -0.43145028044663036,
          4.308527327356592,
          -2.912828671024574,
          -1.0809844008497447,
          -0.40015693166944805,
          -2.171383504107378,
          -0.5445575999422666,
          1.4927014314451288,
          -1.0977849871561904,
          2.3697365820631475,
          -0.347834293943689,
          -2.635178834694107,
          5.356214454513409,
          -2.0001521802070603,
          -3.036278755460097,
          10.29203015958003,
          0.4549342619631327,
          4.97021723758117,
          1.3291042146350764,
          -2.7421732985527028,
          -0.1418407144190696,
          2.306883505904408,
          -2.9347911458225835,
          -1.7346394415396902,
          -2.39814683503601,
          -0.4578245827886817,
          2.0544004592524363,
          0.08588154549122456,
          8.128020180207544,
          -0.7037188158834683,
          1.6771804184901147,
          -3.258811548037761,
          2.8770719383559795,
          0.007355744505357943,
          -3.258065315613956,
          -0.8518956113273072,
          6.164326660333778,
          0.8047977479481717,
          -1.5250244655596776,
          0.48077001415006476,
          3.6534103226703523,
          1.3612921633278046,
          -1.1573741005511826,
          4.176175494891131,
          -2.4934763840827934,
          5.5462880290389895,
          1.4058278022539217,
          7.235667441158475,
          3.884623080149703,
          1.0880888268185658,
          -1.5101423645694734,
          -2.5912986649850667,
          1.4705004820709482,
          -0.7852196254849798,
          -3.256572850766345,
          -2.633260479730054,
          -0.6446364523236,
          -0.8960877911575521,
          -2.985720816161809,
          4.678835244115511,
          -3.1923968623190944,
          2.2568469373122877,
          -2.0950353636127934,
          -0.462324339316463,
          -0.0198252662339474,
          16.422095543443984,
          -2.213908192788273,
          -3.1923968623190944,
          7.456103143847667,
          -3.243140667137851,
          2.0885977740218435,
          6.292036881874221,
          -3.20881397564281,
          -0.8660268387803121,
          -2.2605442340200055,
          -0.7982292509348103,
          -1.685751958833393,
          0.7582216658906606,
          2.82118475261645,
          -1.0694981153499472,
          -1.5324858688996927,
          -3.1674456219611478,
          -1.7359152421710702,
          -2.8795669784203852,
          3.6466260693382315,
          1.8044687084748312,
          -0.541037607920859,
          -3.258811548037761,
          -1.2527130577483856,
          -3.2446331319854615,
          -3.159193684904704,
          0.2372774914693893,
          2.402236072497444,
          -3.2483642941044875,
          6.420747777890731,
          -1.4615169394186283,
          0.4223489325339848,
          0.022507657577111474,
          1.0760159269663938,
          5.066089666805246,
          -2.7422376859004647,
          -1.8164166344505144,
          7.686850031713524,
          5.773260418685615,
          2.992975729573275,
          -2.048929039929162,
          0.9855329934803888,
          -3.1923968623190944,
          -2.880677425371666,
          -0.5393106112110474,
          -1.9459871726401077,
          -1.9580669077551436,
          0.6752956649015858,
          -1.367012185438761,
          -0.44806309220497037,
          1.1497506919956062,
          -2.57247530753763,
          -1.4732502683523638,
          -3.1923968623190944,
          0.5309381993593527,
          5.999124474608188,
          1.440019299346741,
          -0.5658960837643856,
          -2.0391286476468706,
          -0.9517788742438885,
          1.4268392919300965,
          -1.9012561217070565,
          -2.462104744625045,
          -2.4934763840827934,
          2.189946121396278,
          -3.25582661834254,
          -0.8321276598345791,
          3.3607935776787876,
          1.0111092270550592,
          0.12317446632665555,
          -2.988519880336561,
          -0.7014944121735013,
          -0.5357495737294174,
          -3.176487349023505,
          3.488348223916699,
          -2.773044575377314,
          6.235199718762613,
          -1.8916579404561058,
          -1.519512656248364,
          -1.665614798751901,
          -3.0325475933410706,
          -0.3488662623589564,
          -3.1629248470237306,
          -0.03231791369580002,
          -2.213908192788273,
          -1.8464069785521247,
          0.820925436050239,
          -1.1541225720320722,
          2.582506865583227,
          -1.6097146805179041,
          -0.4950484058699665,
          1.0236326618060745,
          -1.5347937948596744,
          3.4663056301202246,
          0.7554818545584778,
          1.8373181583040692,
          -1.3928461199326312,
          -0.9430338883912994,
          -3.2528416886473193,
          -2.2399072800392217,
          1.254329982726652,
          -1.2109105221956085,
          -3.0526127666718343,
          21.378123103896453,
          -3.0951480148287334,
          -3.0971480797044695,
          -1.6685578244544605,
          -1.4761964134561814,
          0.5799684367096081,
          0.5998996491595697,
          1.9022271030426408,
          -3.02504140332104,
          -1.7968255485993452,
          -3.2573190831901506,
          0.3048269450581406,
          4.293635415019907,
          4.409358191438019,
          2.1520135024243285,
          2.340974448756085,
          -1.0603249333079412,
          -3.119113522543089,
          -2.621828360977296,
          -2.2312277804694496,
          -3.0526127666718343,
          -1.4525880862184797,
          -2.4453075433739335,
          1.1896746842834331,
          18.81068720610361,
          -3.184035743414145,
          -2.912828671024574,
          2.624127700856754,
          -3.0993867769758854,
          3.3266941224938518,
          1.9938694205233036,
          -2.2667823430159055,
          -3.1690250247854523,
          13.383617592553495,
          -3.258811548037761,
          -2.5225735119488797,
          -3.0929093175573175,
          -2.3746682264475325,
          -1.583880747327282,
          0.9224476395830966,
          -3.2506029913759034,
          -2.6849523898814773,
          -1.0686834205670446,
          -2.0370611630177975,
          0.3786073218650291,
          -3.136937030561827,
          2.167588912994494,
          5.844252812349692,
          -3.1923968623190944,
          -2.6814271588930385,
          -1.22423761371662,
          1.4093437183473123,
          0.3059647334750119,
          0.06400575525457455,
          -1.011149788311048,
          -1.6067890676456105,
          -0.4590607692947896,
          3.203526873575456,
          -1.0415732223770524,
          -3.073268642142702,
          13.615350404543042,
          -0.9704456311549574,
          -3.2550803859187347,
          -3.0270702174671253,
          -0.3953382301564859,
          -0.6761404048930374,
          -3.016554977933503,
          -1.8669277224507925,
          -2.16561531390861,
          -2.0517371244268556,
          2.876793290948162,
          -3.2379170401712143,
          -2.425759737964439,
          9.395806121847313,
          -1.1822173470614985,
          0.45451375869196625,
          -2.4934763840827934,
          -3.1370231007144147,
          1.09058237724376,
          -1.7913756239807501,
          -2.0000808673617683,
          -3.258811548037761,
          6.657690538663102,
          0.08222876694614176,
          -2.484291892511401,
          -0.12941343223285973,
          -2.04724185725919,
          4.3546871713117214,
          -1.2931290219938896,
          0.940932050182505,
          -2.1905095658878406,
          -2.720658841153299,
          -1.7822442683064088,
          -2.7618265032544493,
          4.949821678943746,
          4.449597656708503,
          -1.0189057882177783,
          2.6350076415505814,
          -1.1502191935237474,
          0.8712209867878274,
          4.423062700724687,
          -2.4934763840827934,
          -1.1416706718649126,
          0.6221012682330073,
          10.176036259449699,
          -3.0980026261526743,
          -2.692046251521401,
          -1.7874949425047346,
          0.11776966173424774,
          -2.907127779266579,
          -2.9629315894033152,
          -2.912828671024574,
          -2.527208641594108,
          0.3428060878276298,
          -0.7261873206756737,
          3.3683420576041234,
          -2.058138892976298,
          -1.3082642000729525,
          -0.1674380503627046,
          7.970991381844612,
          -2.330950139740983,
          -1.3169387271185602,
          0.045011455166116585,
          0.259744639895011,
          8.133684624150522,
          -1.934340001493753,
          4.568648659005712,
          2.458406797083612,
          -1.3131019236285015,
          -3.0526127666718343,
          -0.9845091461889043,
          -1.4801923039150795,
          -1.935511260752904,
          3.4023591983133974,
          1.5171099416634386,
          0.28988107688237363,
          1.4722557249351063,
          -1.831450798799096,
          -3.1481305169189056,
          -1.4247729259823363,
          1.6480083878284288,
          -1.089760031384304,
          7.676836394095378,
          -2.9845723296936675,
          -2.4934763840827934,
          3.39329948907567,
          8.054629552077596,
          -2.9399620059140097,
          -2.2036609572177945,
          3.4358606565301772,
          1.093562901691627,
          2.1664769944902305,
          -2.57707922860018,
          -0.24289085162163968,
          6.204649490803099,
          3.1769546844841026,
          -1.1694370861789785,
          -3.0889395230426118,
          -3.1923968623190944,
          3.4164884957806185,
          -3.1923968623190944,
          -0.4785555154877133,
          -2.372986696368533,
          -1.0721807078911698,
          -2.9295128209726626,
          -2.9832962533699248,
          -2.8612540534476554,
          1.7304033628007705,
          0.4498691591788474,
          -2.026563149933119,
          -2.870980666425701,
          -0.016197449398909373,
          -0.8331943289327558,
          -2.365682863682181,
          -0.2914604936092848,
          3.5372094443854643,
          -2.915813600719795,
          -3.251349223799709,
          0.5906578381335585,
          -3.055359063971376,
          -3.04016848651639,
          2.5105699321506045,
          6.1157872507286095,
          1.4528442075042796,
          -0.5736959952728277,
          3.7559915117786837,
          3.533553115604154,
          -2.9357762303590125,
          -2.3084552512599243,
          1.2416576594322724,
          -1.252757441128426,
          -2.2191316320749648,
          -0.63164191726293,
          -1.9970235250933934,
          -2.273984603276414,
          5.2303172856801385,
          -0.5045383637749062,
          -2.4791513132606835,
          7.261458076728358,
          -3.246871829256877,
          1.06846512293159,
          -2.3303542450233334,
          -2.5166476831224918,
          2.466090726554358,
          -0.653652151810319,
          1.991563069330754,
          3.872198731303933,
          1.9521378486771173,
          -3.258811548037761,
          10.836477448946779,
          -1.5670295729646455,
          -1.1035381568980616,
          8.40596922881773,
          -1.4183176339138193,
          -1.1522351106051065,
          -2.107706234416038,
          -1.6547718101992324,
          0.12683808828256635,
          -3.139921960257048,
          3.868950664902099,
          -2.7483369105680078,
          5.505633108444832,
          -1.271728146118506,
          -0.25677545933296636,
          19.347507828640563,
          -2.4196489240903576,
          0.08828725726579734,
          -3.149327034022774,
          15.737416440707205,
          3.2439301266961786,
          -1.6225913648990509,
          -3.112311360576254,
          -3.258811548037761,
          -1.2832728912752787,
          -1.3066241999660728,
          -1.3634617811321765,
          -1.2424061245077658,
          -2.8372027909125324,
          2.905608824055347,
          -2.7224964181297824,
          -3.119113522543089,
          -2.600999686494535,
          -0.1449376850839004,
          -3.1923968623190944,
          0.24339248552077936,
          0.5272990784140918,
          -2.8767285563513427,
          -3.256572850766345,
          -3.109326430881033,
          -2.9327001487473647,
          2.4093388522418433,
          0.48993449558731017,
          -1.5317911560439494,
          -2.7532985864324733,
          -0.5383037245380962,
          -1.510511301455664,
          -0.7113530917949027,
          -0.6164111402901842,
          -0.744535126291434,
          -3.2535879210711243,
          -2.2932412729167555,
          -3.1923968623190944,
          1.3733403462800848,
          -1.9084120203890786,
          9.865714938077515,
          0.39074295300939776,
          -2.4148806463365733,
          -3.2543341534949297,
          -2.791342004550072,
          -0.5582991004481535,
          -0.24485133330724035,
          3.1730380087562158,
          -0.5139229650389322,
          -1.4762101368625693,
          -2.3536922884355334,
          0.8975745007203256,
          0.7556501887495389,
          -0.5607715165830126,
          -2.4614777311297984,
          1.4930482908835563,
          -1.0313419413415288,
          6.488963733099137,
          -1.3075630808184655,
          4.928248287301234,
          -2.7639755981905023,
          -2.4934763840827934,
          0.38058600708633306,
          3.359789139525369,
          2.5173291807376543,
          -0.4734535388987434,
          -1.2320011382734632,
          -2.3969482978887138,
          -3.2423944347140456,
          -3.173502419328284,
          -0.36917497900347335,
          -1.338918306078484,
          0.6483476884622866,
          -1.055136917398585,
          -1.6883169432000626,
          4.734762415514906,
          -2.712725354159638,
          1.769046697520425,
          -2.3918622930383684,
          -2.912828671024574,
          0.28767586885698926,
          1.974386662933578,
          -2.0036177993550734,
          -2.912828671024574,
          -1.7727130061385834,
          0.8206913560540553,
          -3.1923968623190944,
          0.3565298128709512,
          -1.1950919936414761,
          -3.1809647435663364,
          4.153152483961805,
          -2.041186371917922,
          2.485793682665668,
          -1.89408215169502,
          4.905564251453629,
          -1.3391564305898533,
          -2.9491554273953517,
          -1.8542653060526393,
          -1.9466876520670198,
          -1.188061600576413,
          2.8698079063807,
          -2.3797292327729718,
          2.846053200478503,
          17.09162401911711,
          -0.9635217885360753,
          -2.391054017942225,
          -2.9545780477246018,
          -1.934340001493753,
          -1.1154186614610044,
          -2.912828671024574,
          -0.6546864503952916,
          -1.4000994760693268,
          -1.0569666354376273,
          -2.225916642583465,
          0.8487171237694943,
          -1.2042103550664163,
          -1.0829632151201356,
          0.19224543803883826,
          0.6999673566538457,
          -1.929914043740812,
          1.5941649468846502,
          -1.9123584198651564,
          4.1283907689475345,
          -3.167532559937842,
          1.1263894874737292,
          -0.9475198255590116,
          -1.6132546326201744,
          -3.258811548037761,
          2.2777717534052417,
          -0.036183665915564794,
          -0.3206497116864503,
          -0.6549496447795987,
          5.60247673588156,
          -2.197391895240472,
          -0.49707722001605176,
          -2.764259552858586,
          -1.0264153390298694,
          -3.2528416886473193,
          8.228391315101359,
          1.7173341095653936,
          1.404031956512638,
          -3.258811548037761,
          -3.1690114743077356,
          1.7859355792632692,
          6.36552218668405,
          1.14157727604148,
          3.642415464541098,
          -2.658297195037093,
          -3.1698573273618456,
          0.40725390873441925,
          -0.8480848803284874,
          -3.162178614599925,
          2.9366427505543715
         ],
         "xaxis": "x",
         "y": [
          -2.6207403167005405,
          -0.11125467782788975,
          -0.710526567931431,
          -1.084766161663439,
          0.027777275563552906,
          -2.793858293663523,
          1.218924848067871,
          0.758050737484522,
          -2.684258979445345,
          1.3468285741898598,
          -0.7267267422911519,
          -0.5143547301698105,
          0.610633547935382,
          0.888191087674525,
          -2.385163792606526,
          -1.022156043482825,
          -4.333934230422569,
          2.101874552029433,
          -0.26023042794975776,
          -0.08280840584129079,
          0.41293500110281584,
          -5.3122066436400495,
          -0.4828816300144395,
          -0.22627235228455878,
          -2.0264442290149196,
          1.655535127114395,
          -2.8925139472555683,
          0.32890079546985684,
          2.645442325375222,
          -2.7117015131658575,
          -0.4252631119032704,
          -1.247024974391709,
          -3.8349233095426363,
          -0.9945311687376336,
          -0.0309612750849406,
          1.0861584340742156,
          0.7585113817320243,
          -0.6483243393681796,
          1.736682786795079,
          -2.098573619988487,
          1.0615880817566228,
          0.32632806269141046,
          0.44140358971071997,
          -2.1761427351207905,
          1.0068953462532666,
          1.7336481258299832,
          1.2312049591373135,
          -2.301476244069876,
          -1.3317521706055684,
          1.2017867328145955,
          -1.9921233189262644,
          -3.2839573091650616,
          -0.6510217117404379,
          -1.6281430592359143,
          0.6672421856020367,
          -1.5453024661308625,
          -1.302831226908351,
          15.456360566593263,
          -0.08929967509235834,
          0.5358435614237789,
          1.8079169181299009,
          -0.7636191358421167,
          1.1543883315035102,
          -1.1910512729707177,
          -1.5557012167562259,
          1.817793274289343,
          -1.0676401584154647,
          1.1042610322333801,
          0.8848582225144764,
          1.8142018720495459,
          0.8029432654819865,
          0.07408352353421029,
          -0.639611757027022,
          -0.110996691990532,
          1.742373827253603,
          -0.5792507997697416,
          1.7102389753778369,
          1.8222825270890894,
          -0.5747186116460946,
          -0.3536722987085678,
          1.1699848580916907,
          0.5715551920177411,
          -0.9029349019932069,
          -0.7379177796472302,
          -0.45816095052047096,
          -0.9309052458939869,
          1.8133040214895968,
          -3.4072019508306064,
          0.15705695260749902,
          2.1367302846280607,
          2.0396789449964277,
          1.0861584340742156,
          -1.0537582797602996,
          0.5877455115803115,
          -1.0386156794342654,
          -0.2348647793930152,
          -4.015479794893037,
          -0.15243644591521574,
          -3.12304847106142,
          -2.8790584875669514,
          -5.271702340339154,
          -1.2661473843850184,
          1.8079169181299009,
          -5.462138572791285,
          -5.0712394972498185,
          -0.5081036899602432,
          1.0861584340742156,
          0.0280836236502056,
          1.4569707153332718,
          1.742373827253603,
          1.3416505202805018,
          1.721673821043951,
          1.7916167900943425,
          0.5164710898026799,
          -1.5941009654191753,
          1.977132086532024,
          -1.3983285428908472,
          -0.28885547489136754,
          0.7992627206798357,
          1.1952089378172903,
          -1.92188995254373,
          1.7474912037826211,
          1.8222825270890894,
          1.2580489077802635,
          -1.426732737096814,
          -1.1313659073185585,
          0.21978441516694236,
          -1.3258265635774455,
          0.12129921321025512,
          -0.280143385881516,
          0.47875790641520244,
          -2.3002870597900915,
          -1.9883144757551525,
          0.062319427091865,
          1.8222825270890894,
          0.35955660193002115,
          -0.5476714717612519,
          0.06616288347763216,
          -0.3870896225755879,
          -1.6033750942312035,
          -1.8028453026815168,
          3.828915584630654,
          1.4582216992924473,
          -0.31528303807424907,
          2.0609090178485876,
          -2.122848164554447,
          -2.327883486989897,
          0.758050737484522,
          -0.9520139380468237,
          -2.134398336425182,
          -1.6748342867401285,
          0.6195093662474818,
          -1.9967417942879777,
          -0.3508527210464343,
          0.37855040004017004,
          1.3719900378053111,
          -0.6977005289521474,
          1.647131634848125,
          0.7772184513363433,
          0.7338617012206082,
          0.47489851285387996,
          1.4423878027737436,
          -1.0321353151814532,
          -0.20724952345111813,
          -0.8752611207317678,
          0.48070808469946236,
          1.2584561171452144,
          1.0271107500170276,
          1.4546694058616274,
          -1.3271700045395125,
          -0.7589329904749853,
          1.354011378669454,
          0.9221045857793688,
          0.7973295594256046,
          -1.9035411776027489,
          0.3857711059219116,
          -1.1201225140293496,
          1.0861584340742156,
          0.7203053585773905,
          -1.651917556002003,
          1.025486418936162,
          -1.9581139017776237,
          -2.8086001631613158,
          3.8589880395070444,
          -0.7723950789230314,
          1.8150997226094951,
          2.226477770247426,
          0.8848899302914223,
          0.09016328702579406,
          1.4040196283396222,
          1.563491789329374,
          1.820486825969191,
          1.7401417590113422,
          0.009697708418655544,
          1.7702071946120308,
          1.0284044905763121,
          -0.6075852240640942,
          -1.440668260398361,
          1.5411465412725087,
          -0.03541359822844746,
          1.0861584340742156,
          1.042448456154832,
          -3.208484830477599,
          -0.9988542535453645,
          -1.7602600528692258,
          1.4577513803011661,
          -1.4872393627279263,
          -3.1596652612203453,
          1.4142661306639093,
          0.492656718730211,
          1.4052786178031607,
          0.19716530362785462,
          -3.1306695800845445,
          -2.4928831858280915,
          -1.04688717216248,
          1.6760023546662322,
          -2.139449362799195,
          1.3659494808746817,
          4.934183619098815,
          0.5287430138719453,
          1.1943401469244064,
          0.10197712448820545,
          -3.0254321345824096,
          1.3721462540122222,
          -3.4917050956535847,
          0.6839340801877144,
          -1.2775892838445373,
          -1.113384515310342,
          1.0722324707713031,
          0.27888577162313677,
          0.625448677050518,
          -1.119633170203763,
          -0.8014661267386792,
          -2.382340549585231,
          1.0437649950142056,
          -0.9510495851487879,
          1.2451928336757985,
          1.8222825270890894,
          -2.4210854087128433,
          -1.620599457235058,
          1.8213846765291404,
          -0.6424242480340823,
          1.4557245144776259,
          0.8229632260562934,
          -0.5184060799443854,
          -2.4687270762678404,
          -1.2341648057631407,
          -0.730050319757959,
          2.085864425106925,
          -4.205251452664872,
          0.9221045857793688,
          -1.1462355669900626,
          0.24331798024808174,
          1.1696207559892897,
          -5.0023373462631735,
          -1.530829191666503,
          -0.4750210069913378,
          0.9841852931784948,
          -0.5946791870421414,
          -2.7895058564730557,
          1.8195889754092418,
          1.0861584340742156,
          -0.9630657251936775,
          -0.1680054722200839,
          1.50609969195461,
          -3.7478959325667116,
          1.742373827253603,
          4.583614661365899,
          0.03065930848709715,
          -0.8380267516067984,
          -2.763246611181241,
          10.772487247633325,
          0.5939968891896752,
          1.742373827253603,
          1.5505694280484281,
          1.8034276653301544,
          -0.8051680288949562,
          -2.196090964608328,
          1.7621265395724872,
          -1.0798246730326786,
          0.5729518384551038,
          -1.5298703096612019,
          -0.8927407682239529,
          0.024373216702753043,
          -0.04468072158941353,
          -1.239645695637951,
          0.1454670362070633,
          1.7159563982108939,
          0.05758912806040453,
          1.0166500182562241,
          -0.7993691133578431,
          0.25572698487991424,
          -2.1643315127126797,
          1.8222825270890894,
          -0.348622670885478,
          1.805223366450053,
          1.3531135281095048,
          -3.1337424984546685,
          0.17288086382810178,
          1.8097126192497994,
          1.6156039255916426,
          -0.518505974301526,
          -0.21926640076802142,
          -0.9949244841327746,
          -0.5378208894839054,
          0.7050868989048377,
          1.1812576566991957,
          0.46408826998128727,
          -2.0649086714139258,
          -1.4188870138727994,
          -4.830522501971342,
          0.39483493403275066,
          -3.4992679986181043,
          1.742373827253603,
          1.0809619911614325,
          -1.0195215786979337,
          -0.38476734851441796,
          0.24560213271327674,
          -2.154134065958834,
          -0.16026093461005056,
          -0.8482657740392374,
          1.5773952656852877,
          0.826479466629676,
          -0.3935982596978728,
          1.742373827253603,
          -2.4351895635837146,
          -2.0161120014202853,
          -2.423958688903826,
          -2.093064125556824,
          0.33533222115155265,
          1.2807083183646206,
          -0.4398826794327185,
          -0.03881666469923298,
          0.2870747267313732,
          0.9221045857793688,
          -3.878449091482236,
          1.8186911248492923,
          -1.2216021956094043,
          0.2384704546320644,
          -2.694275909793531,
          -1.072601935014328,
          1.136877711087652,
          -0.44551637174089176,
          -1.0424066592345531,
          1.727363171910338,
          -3.3090178782469057,
          1.2502122823690627,
          -0.8175382851424727,
          -0.11141263760238562,
          -0.3273018970616014,
          0.44275699393812473,
          1.18985089412466,
          1.011515526604436,
          1.3576027809092512,
          1.3663807352998443,
          0.5939968891896752,
          0.0931974816519723,
          -2.6481905152759087,
          -1.1155305974322212,
          0.892099240866622,
          0.7937252422921892,
          -1.9710905702046801,
          -1.8678986138334053,
          -0.13420351273146255,
          -2.332310279797719,
          -2.651539219346355,
          -0.025817993419669515,
          -1.1836519065410158,
          -0.5979357439534063,
          1.8150997226094951,
          0.11294480689708443,
          -1.9771619141055634,
          -0.3204124490808051,
          1.578319978958756,
          13.369403042922652,
          1.6294974608758657,
          1.6360352189713836,
          -0.3657075623505851,
          0.3874747187487329,
          -2.679090346055555,
          -1.7640506616314566,
          -2.8344903940142054,
          1.3642496907219646,
          -0.6690346353466557,
          1.820486825969191,
          -1.7552774717324975,
          3.8456012959917407,
          -1.8173846851252595,
          0.7438085629057796,
          2.256579452628103,
          -0.5526126179325559,
          1.2831430701576088,
          1.0765348820906466,
          0.5791503477457542,
          1.578319978958756,
          -0.6508459123587365,
          0.5045133869530927,
          -0.08401960223008079,
          4.068797666299573,
          1.361256068873197,
          1.4142661306639093,
          -1.7520971374903882,
          1.6387287706512315,
          2.3996556531437743,
          0.935296646467043,
          0.2296774362989663,
          1.718384666310845,
          -0.09705134328971357,
          1.8222825270890894,
          0.8661659896311379,
          1.6268039091960178,
          0.7219326571908226,
          -0.7222632276599067,
          -3.9324660002904688,
          1.8124061709296475,
          0.9423899028120113,
          -0.7277713454913398,
          0.7178267459202679,
          -1.8446668987657608,
          1.6797770922330257,
          -3.128665027334212,
          -0.16826594783602256,
          1.742373827253603,
          1.133854955003034,
          -0.2232002625917323,
          -3.183548751377272,
          -2.037799867037898,
          -1.6273428601683355,
          -1.5502600548670575,
          -0.22822773340949992,
          -0.8812111379817823,
          -3.2098028142268875,
          -1.6699784243707805,
          1.6073040010530064,
          3.7384121741683334,
          -1.6868001660785814,
          1.817793274289343,
          1.5586951143233037,
          -0.3398533152036527,
          -1.0449367807669627,
          1.5390673584968606,
          0.42075645963628383,
          0.1980744235354811,
          0.40300752409634977,
          -4.97503744801309,
          1.7971427114105094,
          0.8355371086868092,
          5.506647988300755,
          1.962615456834356,
          -2.128027748236633,
          0.9221045857793688,
          1.3046914835963919,
          -3.3431247497073424,
          -0.030391971699085026,
          0.1674403487579658,
          1.8222825270890894,
          -5.4071632291491305,
          -0.8350988594782462,
          0.7215959786617616,
          0.5128220010939499,
          -0.08349081041206649,
          1.0286698155456733,
          2.0963019909288163,
          -0.2635896350053757,
          0.3291615679784694,
          1.1833150843144302,
          0.053394072997944686,
          0.9649612306100254,
          -1.9338852326312885,
          -1.368006527281883,
          -0.349905490799692,
          -0.920378626494055,
          0.020523282092518524,
          1.526238424679926,
          -0.7804839543267684,
          0.9221045857793688,
          -0.732691578447983,
          -1.4589170179113946,
          1.2479681947410273,
          1.2794897821936633,
          0.812776055423587,
          0.2853271942951305,
          -3.0179572107726926,
          1.4156695895756046,
          1.1278373197640106,
          1.4142661306639093,
          0.926339810736143,
          1.400241027868158,
          -0.3830303876070572,
          -2.7601592263424592,
          0.08608378180014493,
          -0.5400147053400101,
          1.153266654133543,
          6.771542746031011,
          0.8758146935612107,
          -0.8312561292885672,
          -2.273094877472061,
          0.6898039565086458,
          4.920584695468656,
          0.2658891925999817,
          -1.3427696534915239,
          2.3990426245320244,
          0.0372163403120254,
          1.578319978958756,
          -0.889846949081494,
          -0.5677874810756448,
          -0.006350881536517392,
          0.311919859724114,
          -4.042443487232261,
          -1.8969128634556494,
          -1.065323709902839,
          2.611749704250397,
          1.693244850632265,
          2.2920042969401835,
          -0.38276436202349756,
          -1.7880863576702606,
          -5.645243198404446,
          1.15387498600254,
          0.9221045857793688,
          -2.246389837587409,
          0.8319207953634867,
          1.4551750142133733,
          0.5708742927074004,
          -3.229399017881769,
          0.16946649715022172,
          -2.95391840399327,
          0.6202610857638181,
          0.006079683402855977,
          4.037048829733598,
          0.6325246796091422,
          -0.8704874595892911,
          1.6261588628119414,
          1.742373827253603,
          -1.7630437326102342,
          1.742373827253603,
          1.2613696306930346,
          0.7743440349655005,
          -0.4075965713840597,
          1.2523314849472065,
          1.130592757168007,
          1.321762976639239,
          -0.7305163510005407,
          -0.3392059630192628,
          0.6857136217249369,
          1.3662726149722542,
          -1.165381620724457,
          -1.1597515955570845,
          0.7575271353587689,
          -0.5767898270490825,
          0.5559727400184834,
          1.4178575329037066,
          1.8133040214895968,
          -1.78824500139379,
          1.5857555876142235,
          1.2130503933195553,
          0.23208660494991176,
          -2.73627395431168,
          0.052265478614617576,
          -1.529850566126071,
          2.181731033383549,
          0.06561407895944127,
          1.2599547153912825,
          0.6631311302468205,
          0.8906175855356225,
          1.731626796123094,
          0.432623836777491,
          -1.97691904191859,
          0.34130863963572194,
          0.43086868607655804,
          -1.7158553456899104,
          -1.0937251340868743,
          0.869754095042805,
          3.6094732360028474,
          1.8079169181299009,
          -2.7283446818410604,
          0.923034644007433,
          0.7058296679338332,
          0.01701590315564299,
          1.3617528895058308,
          1.7009327659590783,
          -4.5297313354579805,
          -4.165477001925162,
          1.8222825270890894,
          2.2061956474208597,
          -0.6320754289578582,
          -0.7017748120719332,
          5.438119791055543,
          -0.7926879541539933,
          -1.4681441266982047,
          0.10898957224714677,
          -0.062218503989712,
          -1.760359959388103,
          1.6833684944728229,
          -1.6120584151555584,
          1.2237974180593225,
          2.3714537426595896,
          -0.08286521655719192,
          -1.500960656231095,
          5.436321239564918,
          0.7973334058240831,
          1.7554461700500874,
          1.3824712149008394,
          3.1520506663491186,
          1.3790302842579427,
          -0.3802040421370476,
          1.6501480237546993,
          1.8222825270890894,
          -0.7540791625221122,
          0.24856395728247072,
          0.15213482477805254,
          -0.33646568966211676,
          1.5850003575093876,
          -4.477559853314378,
          1.4361033324837313,
          1.2831430701576088,
          0.9958573504578355,
          -2.2366574953068943,
          1.742373827253603,
          -1.376115535944334,
          -2.460044936898318,
          1.313771516359602,
          1.8195889754092418,
          1.6465566215149021,
          1.2722462395225136,
          1.814605992173138,
          0.5814931137618502,
          -1.0733321173572645,
          1.0119840365927277,
          -0.861244313689408,
          -0.2801029019633627,
          -0.04414138400045134,
          -2.136161940982949,
          -0.3285275139260143,
          1.8159975731694447,
          1.1561840326234087,
          1.742373827253603,
          1.1578100590877896,
          -0.30248027925148196,
          -0.5803402629948228,
          -1.7766938576301448,
          1.1165795599265416,
          1.816895423729394,
          1.2502630352475035,
          -0.2309759794186218,
          1.4469845350553274,
          0.8441632045971174,
          -1.5824118670381382,
          -0.7426122703969601,
          0.758050737484522,
          3.1235101164232835,
          0.9814858602114629,
          -1.2584203810851677,
          1.0916843813519737,
          -2.2046858173648918,
          -1.2818660430812456,
          -0.5278448122743726,
          -0.28565879875526545,
          -0.469069890120251,
          1.1808894268636347,
          0.9221045857793688,
          -0.9284267159973716,
          -0.8451131595838742,
          -3.3425734997393515,
          -2.0883809081680407,
          -0.2912324121647703,
          0.6659205643115391,
          1.8025298147702051,
          1.7237717696705408,
          -0.5810906296548266,
          -0.015063825427917388,
          -0.22268171398840603,
          -0.8601236367410856,
          -0.3779810185976371,
          0.5499151270670256,
          0.8741413391037005,
          0.31821573113015644,
          0.8078707423485108,
          1.4142661306639093,
          -1.477986396239383,
          -2.063766520697872,
          -0.15566681508338,
          1.4142661306639093,
          -0.24445983577550012,
          -2.8448024746011615,
          1.742373827253603,
          -3.2636394626593614,
          -1.0922009137795197,
          1.732750275270034,
          -3.9935545625019357,
          0.2865920618088069,
          -2.9173199212598364,
          -0.34786580462405886,
          1.6860736887632426,
          -0.6281934293245618,
          1.4621050145170948,
          0.17260223842312222,
          -0.018472445656666402,
          -1.0677511202676084,
          -3.417517782155919,
          0.5324041597446274,
          -1.5019257797938528,
          -3.0906502150218307,
          -0.7454829347355474,
          0.4520715216715473,
          1.2784883482261098,
          0.2658891925999817,
          2.637088949057398,
          1.4142661306639093,
          -0.5570166963532392,
          -0.8331447238142268,
          -1.2467216064768536,
          0.31458351235816523,
          -0.4317919915892308,
          -1.367347766789837,
          -0.049728555540722266,
          -1.4277629468488078,
          -3.428383963866455,
          -0.4180499786679433,
          0.07299233058852943,
          -0.810543014176055,
          4.35032180353196,
          1.7165889651909465,
          2.1659670909970683,
          -1.487625549213595,
          0.09526137420371163,
          1.8222825270890894,
          0.01411376674415012,
          -2.1888729981929966,
          1.829731701514797,
          2.0805511034644764,
          1.3526294429203445,
          0.032513940043829126,
          -1.7766451466033413,
          1.0253246898698607,
          -1.415713526096304,
          1.8150997226094951,
          1.6157526829423299,
          -2.1962691652391904,
          -2.5235917181066667,
          1.8222825270890894,
          1.7178622058219128,
          -2.8543174061477776,
          -2.8942999295290224,
          -3.2700287958785332,
          -5.686723610784193,
          0.8242610132177127,
          1.3441969082341605,
          -1.7768383889116135,
          -0.056317252454021666,
          1.356704930349302,
          -0.8127625244864034
         ],
         "yaxis": "y"
        }
       ],
       "layout": {
        "coloraxis": {
         "colorbar": {
          "title": {
           "text": "cluster"
          }
         },
         "colorscale": [
          [
           0,
           "#0d0887"
          ],
          [
           0.1111111111111111,
           "#46039f"
          ],
          [
           0.2222222222222222,
           "#7201a8"
          ],
          [
           0.3333333333333333,
           "#9c179e"
          ],
          [
           0.4444444444444444,
           "#bd3786"
          ],
          [
           0.5555555555555556,
           "#d8576b"
          ],
          [
           0.6666666666666666,
           "#ed7953"
          ],
          [
           0.7777777777777778,
           "#fb9f3a"
          ],
          [
           0.8888888888888888,
           "#fdca26"
          ],
          [
           1,
           "#f0f921"
          ]
         ]
        },
        "height": 600,
        "legend": {
         "title": {
          "text": "Cluster"
         },
         "tracegroupgap": 0
        },
        "template": {
         "data": {
          "bar": [
           {
            "error_x": {
             "color": "#2a3f5f"
            },
            "error_y": {
             "color": "#2a3f5f"
            },
            "marker": {
             "line": {
              "color": "white",
              "width": 0.5
             },
             "pattern": {
              "fillmode": "overlay",
              "size": 10,
              "solidity": 0.2
             }
            },
            "type": "bar"
           }
          ],
          "barpolar": [
           {
            "marker": {
             "line": {
              "color": "white",
              "width": 0.5
             },
             "pattern": {
              "fillmode": "overlay",
              "size": 10,
              "solidity": 0.2
             }
            },
            "type": "barpolar"
           }
          ],
          "carpet": [
           {
            "aaxis": {
             "endlinecolor": "#2a3f5f",
             "gridcolor": "#C8D4E3",
             "linecolor": "#C8D4E3",
             "minorgridcolor": "#C8D4E3",
             "startlinecolor": "#2a3f5f"
            },
            "baxis": {
             "endlinecolor": "#2a3f5f",
             "gridcolor": "#C8D4E3",
             "linecolor": "#C8D4E3",
             "minorgridcolor": "#C8D4E3",
             "startlinecolor": "#2a3f5f"
            },
            "type": "carpet"
           }
          ],
          "choropleth": [
           {
            "colorbar": {
             "outlinewidth": 0,
             "ticks": ""
            },
            "type": "choropleth"
           }
          ],
          "contour": [
           {
            "colorbar": {
             "outlinewidth": 0,
             "ticks": ""
            },
            "colorscale": [
             [
              0,
              "#0d0887"
             ],
             [
              0.1111111111111111,
              "#46039f"
             ],
             [
              0.2222222222222222,
              "#7201a8"
             ],
             [
              0.3333333333333333,
              "#9c179e"
             ],
             [
              0.4444444444444444,
              "#bd3786"
             ],
             [
              0.5555555555555556,
              "#d8576b"
             ],
             [
              0.6666666666666666,
              "#ed7953"
             ],
             [
              0.7777777777777778,
              "#fb9f3a"
             ],
             [
              0.8888888888888888,
              "#fdca26"
             ],
             [
              1,
              "#f0f921"
             ]
            ],
            "type": "contour"
           }
          ],
          "contourcarpet": [
           {
            "colorbar": {
             "outlinewidth": 0,
             "ticks": ""
            },
            "type": "contourcarpet"
           }
          ],
          "heatmap": [
           {
            "colorbar": {
             "outlinewidth": 0,
             "ticks": ""
            },
            "colorscale": [
             [
              0,
              "#0d0887"
             ],
             [
              0.1111111111111111,
              "#46039f"
             ],
             [
              0.2222222222222222,
              "#7201a8"
             ],
             [
              0.3333333333333333,
              "#9c179e"
             ],
             [
              0.4444444444444444,
              "#bd3786"
             ],
             [
              0.5555555555555556,
              "#d8576b"
             ],
             [
              0.6666666666666666,
              "#ed7953"
             ],
             [
              0.7777777777777778,
              "#fb9f3a"
             ],
             [
              0.8888888888888888,
              "#fdca26"
             ],
             [
              1,
              "#f0f921"
             ]
            ],
            "type": "heatmap"
           }
          ],
          "heatmapgl": [
           {
            "colorbar": {
             "outlinewidth": 0,
             "ticks": ""
            },
            "colorscale": [
             [
              0,
              "#0d0887"
             ],
             [
              0.1111111111111111,
              "#46039f"
             ],
             [
              0.2222222222222222,
              "#7201a8"
             ],
             [
              0.3333333333333333,
              "#9c179e"
             ],
             [
              0.4444444444444444,
              "#bd3786"
             ],
             [
              0.5555555555555556,
              "#d8576b"
             ],
             [
              0.6666666666666666,
              "#ed7953"
             ],
             [
              0.7777777777777778,
              "#fb9f3a"
             ],
             [
              0.8888888888888888,
              "#fdca26"
             ],
             [
              1,
              "#f0f921"
             ]
            ],
            "type": "heatmapgl"
           }
          ],
          "histogram": [
           {
            "marker": {
             "pattern": {
              "fillmode": "overlay",
              "size": 10,
              "solidity": 0.2
             }
            },
            "type": "histogram"
           }
          ],
          "histogram2d": [
           {
            "colorbar": {
             "outlinewidth": 0,
             "ticks": ""
            },
            "colorscale": [
             [
              0,
              "#0d0887"
             ],
             [
              0.1111111111111111,
              "#46039f"
             ],
             [
              0.2222222222222222,
              "#7201a8"
             ],
             [
              0.3333333333333333,
              "#9c179e"
             ],
             [
              0.4444444444444444,
              "#bd3786"
             ],
             [
              0.5555555555555556,
              "#d8576b"
             ],
             [
              0.6666666666666666,
              "#ed7953"
             ],
             [
              0.7777777777777778,
              "#fb9f3a"
             ],
             [
              0.8888888888888888,
              "#fdca26"
             ],
             [
              1,
              "#f0f921"
             ]
            ],
            "type": "histogram2d"
           }
          ],
          "histogram2dcontour": [
           {
            "colorbar": {
             "outlinewidth": 0,
             "ticks": ""
            },
            "colorscale": [
             [
              0,
              "#0d0887"
             ],
             [
              0.1111111111111111,
              "#46039f"
             ],
             [
              0.2222222222222222,
              "#7201a8"
             ],
             [
              0.3333333333333333,
              "#9c179e"
             ],
             [
              0.4444444444444444,
              "#bd3786"
             ],
             [
              0.5555555555555556,
              "#d8576b"
             ],
             [
              0.6666666666666666,
              "#ed7953"
             ],
             [
              0.7777777777777778,
              "#fb9f3a"
             ],
             [
              0.8888888888888888,
              "#fdca26"
             ],
             [
              1,
              "#f0f921"
             ]
            ],
            "type": "histogram2dcontour"
           }
          ],
          "mesh3d": [
           {
            "colorbar": {
             "outlinewidth": 0,
             "ticks": ""
            },
            "type": "mesh3d"
           }
          ],
          "parcoords": [
           {
            "line": {
             "colorbar": {
              "outlinewidth": 0,
              "ticks": ""
             }
            },
            "type": "parcoords"
           }
          ],
          "pie": [
           {
            "automargin": true,
            "type": "pie"
           }
          ],
          "scatter": [
           {
            "fillpattern": {
             "fillmode": "overlay",
             "size": 10,
             "solidity": 0.2
            },
            "type": "scatter"
           }
          ],
          "scatter3d": [
           {
            "line": {
             "colorbar": {
              "outlinewidth": 0,
              "ticks": ""
             }
            },
            "marker": {
             "colorbar": {
              "outlinewidth": 0,
              "ticks": ""
             }
            },
            "type": "scatter3d"
           }
          ],
          "scattercarpet": [
           {
            "marker": {
             "colorbar": {
              "outlinewidth": 0,
              "ticks": ""
             }
            },
            "type": "scattercarpet"
           }
          ],
          "scattergeo": [
           {
            "marker": {
             "colorbar": {
              "outlinewidth": 0,
              "ticks": ""
             }
            },
            "type": "scattergeo"
           }
          ],
          "scattergl": [
           {
            "marker": {
             "colorbar": {
              "outlinewidth": 0,
              "ticks": ""
             }
            },
            "type": "scattergl"
           }
          ],
          "scattermapbox": [
           {
            "marker": {
             "colorbar": {
              "outlinewidth": 0,
              "ticks": ""
             }
            },
            "type": "scattermapbox"
           }
          ],
          "scatterpolar": [
           {
            "marker": {
             "colorbar": {
              "outlinewidth": 0,
              "ticks": ""
             }
            },
            "type": "scatterpolar"
           }
          ],
          "scatterpolargl": [
           {
            "marker": {
             "colorbar": {
              "outlinewidth": 0,
              "ticks": ""
             }
            },
            "type": "scatterpolargl"
           }
          ],
          "scatterternary": [
           {
            "marker": {
             "colorbar": {
              "outlinewidth": 0,
              "ticks": ""
             }
            },
            "type": "scatterternary"
           }
          ],
          "surface": [
           {
            "colorbar": {
             "outlinewidth": 0,
             "ticks": ""
            },
            "colorscale": [
             [
              0,
              "#0d0887"
             ],
             [
              0.1111111111111111,
              "#46039f"
             ],
             [
              0.2222222222222222,
              "#7201a8"
             ],
             [
              0.3333333333333333,
              "#9c179e"
             ],
             [
              0.4444444444444444,
              "#bd3786"
             ],
             [
              0.5555555555555556,
              "#d8576b"
             ],
             [
              0.6666666666666666,
              "#ed7953"
             ],
             [
              0.7777777777777778,
              "#fb9f3a"
             ],
             [
              0.8888888888888888,
              "#fdca26"
             ],
             [
              1,
              "#f0f921"
             ]
            ],
            "type": "surface"
           }
          ],
          "table": [
           {
            "cells": {
             "fill": {
              "color": "#EBF0F8"
             },
             "line": {
              "color": "white"
             }
            },
            "header": {
             "fill": {
              "color": "#C8D4E3"
             },
             "line": {
              "color": "white"
             }
            },
            "type": "table"
           }
          ]
         },
         "layout": {
          "annotationdefaults": {
           "arrowcolor": "#2a3f5f",
           "arrowhead": 0,
           "arrowwidth": 1
          },
          "autotypenumbers": "strict",
          "coloraxis": {
           "colorbar": {
            "outlinewidth": 0,
            "ticks": ""
           }
          },
          "colorscale": {
           "diverging": [
            [
             0,
             "#8e0152"
            ],
            [
             0.1,
             "#c51b7d"
            ],
            [
             0.2,
             "#de77ae"
            ],
            [
             0.3,
             "#f1b6da"
            ],
            [
             0.4,
             "#fde0ef"
            ],
            [
             0.5,
             "#f7f7f7"
            ],
            [
             0.6,
             "#e6f5d0"
            ],
            [
             0.7,
             "#b8e186"
            ],
            [
             0.8,
             "#7fbc41"
            ],
            [
             0.9,
             "#4d9221"
            ],
            [
             1,
             "#276419"
            ]
           ],
           "sequential": [
            [
             0,
             "#0d0887"
            ],
            [
             0.1111111111111111,
             "#46039f"
            ],
            [
             0.2222222222222222,
             "#7201a8"
            ],
            [
             0.3333333333333333,
             "#9c179e"
            ],
            [
             0.4444444444444444,
             "#bd3786"
            ],
            [
             0.5555555555555556,
             "#d8576b"
            ],
            [
             0.6666666666666666,
             "#ed7953"
            ],
            [
             0.7777777777777778,
             "#fb9f3a"
            ],
            [
             0.8888888888888888,
             "#fdca26"
            ],
            [
             1,
             "#f0f921"
            ]
           ],
           "sequentialminus": [
            [
             0,
             "#0d0887"
            ],
            [
             0.1111111111111111,
             "#46039f"
            ],
            [
             0.2222222222222222,
             "#7201a8"
            ],
            [
             0.3333333333333333,
             "#9c179e"
            ],
            [
             0.4444444444444444,
             "#bd3786"
            ],
            [
             0.5555555555555556,
             "#d8576b"
            ],
            [
             0.6666666666666666,
             "#ed7953"
            ],
            [
             0.7777777777777778,
             "#fb9f3a"
            ],
            [
             0.8888888888888888,
             "#fdca26"
            ],
            [
             1,
             "#f0f921"
            ]
           ]
          },
          "colorway": [
           "#636efa",
           "#EF553B",
           "#00cc96",
           "#ab63fa",
           "#FFA15A",
           "#19d3f3",
           "#FF6692",
           "#B6E880",
           "#FF97FF",
           "#FECB52"
          ],
          "font": {
           "color": "#2a3f5f"
          },
          "geo": {
           "bgcolor": "white",
           "lakecolor": "white",
           "landcolor": "white",
           "showlakes": true,
           "showland": true,
           "subunitcolor": "#C8D4E3"
          },
          "hoverlabel": {
           "align": "left"
          },
          "hovermode": "closest",
          "mapbox": {
           "style": "light"
          },
          "paper_bgcolor": "white",
          "plot_bgcolor": "white",
          "polar": {
           "angularaxis": {
            "gridcolor": "#EBF0F8",
            "linecolor": "#EBF0F8",
            "ticks": ""
           },
           "bgcolor": "white",
           "radialaxis": {
            "gridcolor": "#EBF0F8",
            "linecolor": "#EBF0F8",
            "ticks": ""
           }
          },
          "scene": {
           "xaxis": {
            "backgroundcolor": "white",
            "gridcolor": "#DFE8F3",
            "gridwidth": 2,
            "linecolor": "#EBF0F8",
            "showbackground": true,
            "ticks": "",
            "zerolinecolor": "#EBF0F8"
           },
           "yaxis": {
            "backgroundcolor": "white",
            "gridcolor": "#DFE8F3",
            "gridwidth": 2,
            "linecolor": "#EBF0F8",
            "showbackground": true,
            "ticks": "",
            "zerolinecolor": "#EBF0F8"
           },
           "zaxis": {
            "backgroundcolor": "white",
            "gridcolor": "#DFE8F3",
            "gridwidth": 2,
            "linecolor": "#EBF0F8",
            "showbackground": true,
            "ticks": "",
            "zerolinecolor": "#EBF0F8"
           }
          },
          "shapedefaults": {
           "line": {
            "color": "#2a3f5f"
           }
          },
          "ternary": {
           "aaxis": {
            "gridcolor": "#DFE8F3",
            "linecolor": "#A2B1C6",
            "ticks": ""
           },
           "baxis": {
            "gridcolor": "#DFE8F3",
            "linecolor": "#A2B1C6",
            "ticks": ""
           },
           "bgcolor": "white",
           "caxis": {
            "gridcolor": "#DFE8F3",
            "linecolor": "#A2B1C6",
            "ticks": ""
           }
          },
          "title": {
           "x": 0.05
          },
          "xaxis": {
           "automargin": true,
           "gridcolor": "#EBF0F8",
           "linecolor": "#EBF0F8",
           "ticks": "",
           "title": {
            "standoff": 15
           },
           "zerolinecolor": "#EBF0F8",
           "zerolinewidth": 2
          },
          "yaxis": {
           "automargin": true,
           "gridcolor": "#EBF0F8",
           "linecolor": "#EBF0F8",
           "ticks": "",
           "title": {
            "standoff": 15
           },
           "zerolinecolor": "#EBF0F8",
           "zerolinewidth": 2
          }
         }
        },
        "title": {
         "text": "🎯 Carte des profils offensifs (PCA 2D + Clusters)"
        },
        "width": 800,
        "xaxis": {
         "anchor": "y",
         "domain": [
          0,
          1
         ],
         "title": {
          "text": "PC1"
         }
        },
        "yaxis": {
         "anchor": "x",
         "domain": [
          0,
          1
         ],
         "title": {
          "text": "PC2"
         }
        }
       }
      }
     },
     "metadata": {},
     "output_type": "display_data"
    }
   ],
   "source": [
    "# --- PCA + Plotly Visualization des clusters offensifs\n",
    "\n",
    "from sklearn.decomposition import PCA\n",
    "import plotly.express as px\n",
    "\n",
    "# Appliquer PCA sur les features normalisées (X_scaled)\n",
    "pca = PCA(n_components=2)\n",
    "X_pca = pca.fit_transform(X_scaled)\n",
    "\n",
    "# Stocker dans un DataFrame pour Plotly\n",
    "pca_df = pd.DataFrame({\n",
    "    \"PC1\": X_pca[:, 0],\n",
    "    \"PC2\": X_pca[:, 1],\n",
    "    \"cluster\": clusters,\n",
    "    \"player_name\": df_clusters[\"player_name\"],\n",
    "    \"club\": df_clusters[\"club\"]\n",
    "})\n",
    "\n",
    "# Visualisation interactive\n",
    "fig = px.scatter(\n",
    "    pca_df,\n",
    "    x=\"PC1\",\n",
    "    y=\"PC2\",\n",
    "    color=\"cluster\",\n",
    "    hover_data=[\"player_name\", \"club\"],\n",
    "    title=\"🎯 Carte des profils offensifs (PCA 2D + Clusters)\",\n",
    "    opacity=0.8\n",
    ")\n",
    "\n",
    "fig.update_layout(\n",
    "    template=\"plotly_white\",\n",
    "    legend_title=\"Cluster\",\n",
    "    width=800,\n",
    "    height=600\n",
    ")\n",
    "\n",
    "fig.show()\n"
   ]
  },
  {
   "cell_type": "code",
   "execution_count": 9,
   "id": "a15eacc4",
   "metadata": {},
   "outputs": [
    {
     "name": "stdout",
     "output_type": "stream",
     "text": [
      "Cluster 0 → Label attribué : 🧨 Profil agressif / Indiscipliné | (Top features : ['minutes_played_disciplinary', 'match_played_disciplinary', 'fouls_committed_disciplinary', 'red_disciplinary', 'match_played_attempts'])\n",
      "Cluster 1 → Label attribué : 🎩 Créateur / Passeur | (Top features : ['on_target_attempts', 'goals_key_stats', 'goals_goals', 'inside_area_goals', 'total_attempts_attempts'])\n",
      "Cluster 2 → Label attribué : 🎩 Créateur / Passeur | (Top features : ['serial_goals', 'match_played_goals', 'match_played_attempts', 'goals_goals', 'goals_key_stats'])\n",
      "Cluster 3 → Label attribué : 🧨 Profil agressif / Indiscipliné | (Top features : ['match_played_disciplinary', 'match_played_attempts', 'minutes_played_disciplinary', 'match_played_key_stats', 'fouls_committed_disciplinary'])\n"
     ]
    },
    {
     "data": {
      "text/html": [
       "<div>\n",
       "<style scoped>\n",
       "    .dataframe tbody tr th:only-of-type {\n",
       "        vertical-align: middle;\n",
       "    }\n",
       "\n",
       "    .dataframe tbody tr th {\n",
       "        vertical-align: top;\n",
       "    }\n",
       "\n",
       "    .dataframe thead th {\n",
       "        text-align: right;\n",
       "    }\n",
       "</style>\n",
       "<table border=\"1\" class=\"dataframe\">\n",
       "  <thead>\n",
       "    <tr style=\"text-align: right;\">\n",
       "      <th></th>\n",
       "      <th>player_name</th>\n",
       "      <th>club</th>\n",
       "      <th>cluster_offensive</th>\n",
       "      <th>cluster_label</th>\n",
       "    </tr>\n",
       "  </thead>\n",
       "  <tbody>\n",
       "    <tr>\n",
       "      <th>0</th>\n",
       "      <td>Aaronson</td>\n",
       "      <td>Salzburg</td>\n",
       "      <td>0</td>\n",
       "      <td>🧨 Profil agressif / Indiscipliné</td>\n",
       "    </tr>\n",
       "    <tr>\n",
       "      <th>1</th>\n",
       "      <td>Abubakari</td>\n",
       "      <td>Malmö</td>\n",
       "      <td>3</td>\n",
       "      <td>🧨 Profil agressif / Indiscipliné</td>\n",
       "    </tr>\n",
       "    <tr>\n",
       "      <th>2</th>\n",
       "      <td>Acuña</td>\n",
       "      <td>Sevilla</td>\n",
       "      <td>3</td>\n",
       "      <td>🧨 Profil agressif / Indiscipliné</td>\n",
       "    </tr>\n",
       "    <tr>\n",
       "      <th>3</th>\n",
       "      <td>Adams</td>\n",
       "      <td>Leipzig</td>\n",
       "      <td>0</td>\n",
       "      <td>🧨 Profil agressif / Indiscipliné</td>\n",
       "    </tr>\n",
       "    <tr>\n",
       "      <th>4</th>\n",
       "      <td>Adamu</td>\n",
       "      <td>Salzburg</td>\n",
       "      <td>2</td>\n",
       "      <td>🎩 Créateur / Passeur</td>\n",
       "    </tr>\n",
       "  </tbody>\n",
       "</table>\n",
       "</div>"
      ],
      "text/plain": [
       "  player_name      club  cluster_offensive                     cluster_label\n",
       "0    Aaronson  Salzburg                  0  🧨 Profil agressif / Indiscipliné\n",
       "1   Abubakari     Malmö                  3  🧨 Profil agressif / Indiscipliné\n",
       "2       Acuña   Sevilla                  3  🧨 Profil agressif / Indiscipliné\n",
       "3       Adams   Leipzig                  0  🧨 Profil agressif / Indiscipliné\n",
       "4       Adamu  Salzburg                  2              🎩 Créateur / Passeur"
      ]
     },
     "execution_count": 9,
     "metadata": {},
     "output_type": "execute_result"
    }
   ],
   "source": [
    "# --- GENERATION DE LABELS DE CLUSTERS (STYLE FOOT)\n",
    "\n",
    "# Récupération des centroides déjà calculés\n",
    "centroids = kmeans.cluster_centers_\n",
    "feature_names = list(numeric_df.columns)\n",
    "\n",
    "# Détection automatique des profils (simple logique basée sur top features)\n",
    "cluster_labels = {}\n",
    "\n",
    "for i in range(K):\n",
    "    centroid_values = centroids[i]\n",
    "    top_indices = np.argsort(np.abs(centroid_values))[::-1][:5]  # top 5 features dominantes\n",
    "    top_features = [feature_names[idx] for idx in top_indices]\n",
    "\n",
    "    # Logique simple pour nommer les clusters — améliorée après inspection\n",
    "    label = \"Profil générique\"  # Valeur par défaut\n",
    "\n",
    "    # Heuristiques offensives typiques\n",
    "    if any(\"goal\" in f.lower() or \"shot\" in f.lower() for f in top_features):\n",
    "        label = \"🎯 Finisseur haut volume\"\n",
    "    if any(\"key\" in f.lower() or \"assist\" in f.lower() for f in top_features):\n",
    "        label = \"🎩 Créateur / Passeur\"\n",
    "    if any(\"discipline\" in f.lower() or \"foul\" in f.lower() for f in top_features):\n",
    "        label = \"🧨 Profil agressif / Indiscipliné\"\n",
    "    if any(\"press\" in f.lower() or \"duel\" in f.lower() for f in top_features):\n",
    "        label = \"⚡ Intensité / Volume sans finition\"\n",
    "\n",
    "    print(f\"Cluster {i} → Label attribué : {label} | (Top features : {top_features})\")\n",
    "    cluster_labels[i] = label\n",
    "\n",
    "# Ajouter les labels au DataFrame final\n",
    "df_clusters[\"cluster_label\"] = df_clusters[\"cluster_offensive\"].map(cluster_labels)\n",
    "\n",
    "# Aperçu\n",
    "df_clusters[[\"player_name\", \"club\", \"cluster_offensive\", \"cluster_label\"]].head()"
   ]
  },
  {
   "cell_type": "code",
   "execution_count": 12,
   "id": "3fb1f227",
   "metadata": {},
   "outputs": [],
   "source": [
    "# --- Recalage du clustering après feature engineering\n",
    "from sklearn.preprocessing import StandardScaler\n",
    "from sklearn.cluster import KMeans\n",
    "\n",
    "# On reprend les features finales\n",
    "X = numeric_df.copy()\n",
    "scaler = StandardScaler()\n",
    "X_scaled = scaler.fit_transform(X)\n",
    "\n",
    "# Refit KMeans sur la version finale des features\n",
    "K = 4\n",
    "kmeans = KMeans(n_clusters=K, random_state=42, n_init=\"auto\")\n",
    "clusters = kmeans.fit_predict(X_scaled)\n",
    "\n",
    "centroids = kmeans.cluster_centers_\n",
    "feature_names = list(numeric_df.columns)\n",
    "\n",
    "# Ajouter au dataframe\n",
    "df_clusters = df.copy()\n",
    "df_clusters[\"cluster_offensive\"] = clusters"
   ]
  },
  {
   "cell_type": "code",
   "execution_count": 13,
   "id": "16b4dccd",
   "metadata": {},
   "outputs": [
    {
     "name": "stdout",
     "output_type": "stream",
     "text": [
      "Scores par cluster et par famille :\n"
     ]
    },
    {
     "data": {
      "text/html": [
       "<div>\n",
       "<style scoped>\n",
       "    .dataframe tbody tr th:only-of-type {\n",
       "        vertical-align: middle;\n",
       "    }\n",
       "\n",
       "    .dataframe tbody tr th {\n",
       "        vertical-align: top;\n",
       "    }\n",
       "\n",
       "    .dataframe thead th {\n",
       "        text-align: right;\n",
       "    }\n",
       "</style>\n",
       "<table border=\"1\" class=\"dataframe\">\n",
       "  <thead>\n",
       "    <tr style=\"text-align: right;\">\n",
       "      <th></th>\n",
       "      <th>🎯 Finisseur (tirs/buts)</th>\n",
       "      <th>🎩 Créateur / Passeur</th>\n",
       "      <th>🧨 Agressif / Indiscipliné</th>\n",
       "      <th>⚡ Volume / Pressing</th>\n",
       "    </tr>\n",
       "  </thead>\n",
       "  <tbody>\n",
       "    <tr>\n",
       "      <th>cluster_0</th>\n",
       "      <td>1.530882</td>\n",
       "      <td>2.438292</td>\n",
       "      <td>2.456170</td>\n",
       "      <td>2.691167</td>\n",
       "    </tr>\n",
       "    <tr>\n",
       "      <th>cluster_1</th>\n",
       "      <td>7.339507</td>\n",
       "      <td>5.282153</td>\n",
       "      <td>4.999931</td>\n",
       "      <td>8.541367</td>\n",
       "    </tr>\n",
       "    <tr>\n",
       "      <th>cluster_2</th>\n",
       "      <td>8.385814</td>\n",
       "      <td>9.347081</td>\n",
       "      <td>9.357597</td>\n",
       "      <td>12.232063</td>\n",
       "    </tr>\n",
       "    <tr>\n",
       "      <th>cluster_3</th>\n",
       "      <td>13.561371</td>\n",
       "      <td>9.472607</td>\n",
       "      <td>7.774725</td>\n",
       "      <td>10.669880</td>\n",
       "    </tr>\n",
       "  </tbody>\n",
       "</table>\n",
       "</div>"
      ],
      "text/plain": [
       "           🎯 Finisseur (tirs/buts)  🎩 Créateur / Passeur  \\\n",
       "cluster_0                 1.530882              2.438292   \n",
       "cluster_1                 7.339507              5.282153   \n",
       "cluster_2                 8.385814              9.347081   \n",
       "cluster_3                13.561371              9.472607   \n",
       "\n",
       "           🧨 Agressif / Indiscipliné  ⚡ Volume / Pressing  \n",
       "cluster_0                   2.456170             2.691167  \n",
       "cluster_1                   4.999931             8.541367  \n",
       "cluster_2                   9.357597            12.232063  \n",
       "cluster_3                   7.774725            10.669880  "
      ]
     },
     "metadata": {},
     "output_type": "display_data"
    },
    {
     "name": "stdout",
     "output_type": "stream",
     "text": [
      "\n",
      "Attribution des labels :\n",
      "Cluster 0 → ⚡ Volume / Pressing\n",
      "Cluster 1 → 🎯 Finisseur (tirs/buts)\n",
      "Cluster 2 → 🧨 Agressif / Indiscipliné\n",
      "Cluster 3 → 🎩 Créateur / Passeur\n",
      "\n",
      "Répartition par label :\n",
      "cluster_label\n",
      "⚡ Volume / Pressing          354\n",
      "🎯 Finisseur (tirs/buts)      228\n",
      "🎩 Créateur / Passeur         146\n",
      "🧨 Agressif / Indiscipliné     23\n",
      "Name: count, dtype: int64\n"
     ]
    }
   ],
   "source": [
    "# --- NAMING CLUSTERS ROBUSTE (labels uniques et pertinents)\n",
    "import re\n",
    "import numpy as np\n",
    "import pandas as pd\n",
    "\n",
    "centroids = kmeans.cluster_centers_\n",
    "feature_names = list(numeric_df.columns)\n",
    "\n",
    "# 1) Définir des familles de features par mots-clés (en minuscules)\n",
    "buckets = {\n",
    "    \"🎯 Finisseur (tirs/buts)\": [r\"goal\", r\"shot\", r\"on_target\", r\"xg\", r\"finishing\"],\n",
    "    \"🎩 Créateur / Passeur\":    [r\"assist\", r\"key\", r\"chance\", r\"xA\", r\"create\", r\"pass\"],\n",
    "    \"🧨 Agressif / Indiscipliné\":[r\"yellow\", r\"red\", r\"foul\", r\"discipline\", r\"card\"],\n",
    "    \"⚡ Volume / Pressing\":     [r\"attempt\", r\"press\", r\"duel\", r\"touch\", r\"carry\", r\"sprint\", r\"drib\"]\n",
    "}\n",
    "\n",
    "# Normaliser les patterns (tout en lower)\n",
    "bucket_patterns = {label: [p.lower() for p in pats] for label, pats in buckets.items()}\n",
    "\n",
    "# 2) Associer chaque feature à (0..n) buckets par regex\n",
    "feature_to_buckets = {f: [] for f in feature_names}\n",
    "for f in feature_names:\n",
    "    fl = f.lower()\n",
    "    for label, pats in bucket_patterns.items():\n",
    "        if any(re.search(p, fl) for p in pats):\n",
    "            feature_to_buckets[f].append(label)\n",
    "\n",
    "# 3) Calculer un score par bucket et par cluster (somme des |centroïdes| des features du bucket)\n",
    "bucket_scores = []\n",
    "for i in range(centroids.shape[0]):\n",
    "    c = centroids[i]\n",
    "    scores = {label: 0.0 for label in buckets.keys()}\n",
    "    for j, fname in enumerate(feature_names):\n",
    "        if feature_to_buckets[fname]:\n",
    "            for lbl in feature_to_buckets[fname]:\n",
    "                scores[lbl] += abs(c[j])  # magnitude en z-score\n",
    "    bucket_scores.append(scores)\n",
    "\n",
    "bucket_scores_df = pd.DataFrame(bucket_scores, index=[f\"cluster_{i}\" for i in range(centroids.shape[0])])\n",
    "print(\"Scores par cluster et par famille :\")\n",
    "display(bucket_scores_df)\n",
    "\n",
    "# 4) Assigner un label unique par cluster (éviter les doublons)\n",
    "available_labels = list(buckets.keys())\n",
    "assigned = {}\n",
    "used = set()\n",
    "\n",
    "for i in range(centroids.shape[0]):\n",
    "    # tri des familles par score décroissant\n",
    "    ranked = sorted(bucket_scores[i].items(), key=lambda x: x[1], reverse=True)\n",
    "    label = None\n",
    "    for lbl, sc in ranked:\n",
    "        if lbl not in used and sc > 0:  # prend le meilleur non-utilisé\n",
    "            label = lbl\n",
    "            break\n",
    "    if label is None:\n",
    "        # fallback si tout est utilisé ou scores nuls\n",
    "        label = ranked[0][0] if ranked else \"Profil générique\"\n",
    "    assigned[i] = label\n",
    "    used.add(label)\n",
    "\n",
    "print(\"\\nAttribution des labels :\")\n",
    "for i in range(centroids.shape[0]):\n",
    "    print(f\"Cluster {i} → {assigned[i]}\")\n",
    "\n",
    "# 5) Ajouter au DataFrame\n",
    "df_clusters[\"cluster_label\"] = df_clusters[\"cluster_offensive\"].map(assigned)\n",
    "\n",
    "# Sanity check\n",
    "print(\"\\nRépartition par label :\")\n",
    "print(df_clusters[\"cluster_label\"].value_counts())\n"
   ]
  },
  {
   "cell_type": "code",
   "execution_count": 17,
   "id": "c4394b21",
   "metadata": {},
   "outputs": [
    {
     "name": "stdout",
     "output_type": "stream",
     "text": [
      "✅ Colonnes 'serial' et identifiants non pertinents supprimées : (751, 58)\n",
      "✅ Dataset de profiling numérique prêt :  (751, 58)\n",
      "🎯 PROFIL DES CLUSTERS — Features les plus discriminantes :\n"
     ]
    },
    {
     "data": {
      "text/html": [
       "<div>\n",
       "<style scoped>\n",
       "    .dataframe tbody tr th:only-of-type {\n",
       "        vertical-align: middle;\n",
       "    }\n",
       "\n",
       "    .dataframe tbody tr th {\n",
       "        vertical-align: top;\n",
       "    }\n",
       "\n",
       "    .dataframe thead th {\n",
       "        text-align: right;\n",
       "    }\n",
       "</style>\n",
       "<table border=\"1\" class=\"dataframe\">\n",
       "  <thead>\n",
       "    <tr style=\"text-align: right;\">\n",
       "      <th></th>\n",
       "      <th>minutes_played_disciplinary</th>\n",
       "      <th>minutes_played_key_stats</th>\n",
       "      <th>minutes_played_key_stats_per90</th>\n",
       "      <th>dribbles_attacking</th>\n",
       "      <th>total_attempts_attempts</th>\n",
       "      <th>fouls_suffered_disciplinary</th>\n",
       "      <th>fouls_committed_disciplinary</th>\n",
       "      <th>corner_taken_attacking</th>\n",
       "      <th>match_played_attempts</th>\n",
       "      <th>match_played_disciplinary</th>\n",
       "      <th>match_played_attacking</th>\n",
       "      <th>match_played_goals</th>\n",
       "    </tr>\n",
       "    <tr>\n",
       "      <th>cluster_label</th>\n",
       "      <th></th>\n",
       "      <th></th>\n",
       "      <th></th>\n",
       "      <th></th>\n",
       "      <th></th>\n",
       "      <th></th>\n",
       "      <th></th>\n",
       "      <th></th>\n",
       "      <th></th>\n",
       "      <th></th>\n",
       "      <th></th>\n",
       "      <th></th>\n",
       "    </tr>\n",
       "  </thead>\n",
       "  <tbody>\n",
       "    <tr>\n",
       "      <th>⚡ Volume / Pressing</th>\n",
       "      <td>377.25</td>\n",
       "      <td>372.38</td>\n",
       "      <td>89.49</td>\n",
       "      <td>0.17</td>\n",
       "      <td>4.02</td>\n",
       "      <td>4.34</td>\n",
       "      <td>5.10</td>\n",
       "      <td>0.01</td>\n",
       "      <td>5.42</td>\n",
       "      <td>5.64</td>\n",
       "      <td>0.48</td>\n",
       "      <td>1.54</td>\n",
       "    </tr>\n",
       "    <tr>\n",
       "      <th>🎩 Créateur / Passeur</th>\n",
       "      <td>497.43</td>\n",
       "      <td>497.43</td>\n",
       "      <td>90.00</td>\n",
       "      <td>10.00</td>\n",
       "      <td>10.47</td>\n",
       "      <td>6.92</td>\n",
       "      <td>6.12</td>\n",
       "      <td>3.99</td>\n",
       "      <td>7.16</td>\n",
       "      <td>7.26</td>\n",
       "      <td>6.95</td>\n",
       "      <td>4.55</td>\n",
       "    </tr>\n",
       "    <tr>\n",
       "      <th>🎯 Finisseur (tirs/buts)</th>\n",
       "      <td>51.38</td>\n",
       "      <td>186.89</td>\n",
       "      <td>24.08</td>\n",
       "      <td>0.27</td>\n",
       "      <td>0.51</td>\n",
       "      <td>0.39</td>\n",
       "      <td>0.70</td>\n",
       "      <td>0.00</td>\n",
       "      <td>0.58</td>\n",
       "      <td>0.92</td>\n",
       "      <td>0.21</td>\n",
       "      <td>0.14</td>\n",
       "    </tr>\n",
       "    <tr>\n",
       "      <th>🧨 Agressif / Indiscipliné</th>\n",
       "      <td>28.43</td>\n",
       "      <td>28.43</td>\n",
       "      <td>90.00</td>\n",
       "      <td>0.00</td>\n",
       "      <td>0.74</td>\n",
       "      <td>0.30</td>\n",
       "      <td>1.65</td>\n",
       "      <td>0.00</td>\n",
       "      <td>1.83</td>\n",
       "      <td>2.43</td>\n",
       "      <td>0.00</td>\n",
       "      <td>0.57</td>\n",
       "    </tr>\n",
       "  </tbody>\n",
       "</table>\n",
       "</div>"
      ],
      "text/plain": [
       "                           minutes_played_disciplinary  \\\n",
       "cluster_label                                            \n",
       "⚡ Volume / Pressing                             377.25   \n",
       "🎩 Créateur / Passeur                            497.43   \n",
       "🎯 Finisseur (tirs/buts)                          51.38   \n",
       "🧨 Agressif / Indiscipliné                        28.43   \n",
       "\n",
       "                           minutes_played_key_stats  \\\n",
       "cluster_label                                         \n",
       "⚡ Volume / Pressing                          372.38   \n",
       "🎩 Créateur / Passeur                         497.43   \n",
       "🎯 Finisseur (tirs/buts)                      186.89   \n",
       "🧨 Agressif / Indiscipliné                     28.43   \n",
       "\n",
       "                           minutes_played_key_stats_per90  dribbles_attacking  \\\n",
       "cluster_label                                                                   \n",
       "⚡ Volume / Pressing                                 89.49                0.17   \n",
       "🎩 Créateur / Passeur                                90.00               10.00   \n",
       "🎯 Finisseur (tirs/buts)                             24.08                0.27   \n",
       "🧨 Agressif / Indiscipliné                           90.00                0.00   \n",
       "\n",
       "                           total_attempts_attempts  \\\n",
       "cluster_label                                        \n",
       "⚡ Volume / Pressing                           4.02   \n",
       "🎩 Créateur / Passeur                         10.47   \n",
       "🎯 Finisseur (tirs/buts)                       0.51   \n",
       "🧨 Agressif / Indiscipliné                     0.74   \n",
       "\n",
       "                           fouls_suffered_disciplinary  \\\n",
       "cluster_label                                            \n",
       "⚡ Volume / Pressing                               4.34   \n",
       "🎩 Créateur / Passeur                              6.92   \n",
       "🎯 Finisseur (tirs/buts)                           0.39   \n",
       "🧨 Agressif / Indiscipliné                         0.30   \n",
       "\n",
       "                           fouls_committed_disciplinary  \\\n",
       "cluster_label                                             \n",
       "⚡ Volume / Pressing                                5.10   \n",
       "🎩 Créateur / Passeur                               6.12   \n",
       "🎯 Finisseur (tirs/buts)                            0.70   \n",
       "🧨 Agressif / Indiscipliné                          1.65   \n",
       "\n",
       "                           corner_taken_attacking  match_played_attempts  \\\n",
       "cluster_label                                                              \n",
       "⚡ Volume / Pressing                          0.01                   5.42   \n",
       "🎩 Créateur / Passeur                         3.99                   7.16   \n",
       "🎯 Finisseur (tirs/buts)                      0.00                   0.58   \n",
       "🧨 Agressif / Indiscipliné                    0.00                   1.83   \n",
       "\n",
       "                           match_played_disciplinary  match_played_attacking  \\\n",
       "cluster_label                                                                  \n",
       "⚡ Volume / Pressing                             5.64                    0.48   \n",
       "🎩 Créateur / Passeur                            7.26                    6.95   \n",
       "🎯 Finisseur (tirs/buts)                         0.92                    0.21   \n",
       "🧨 Agressif / Indiscipliné                       2.43                    0.00   \n",
       "\n",
       "                           match_played_goals  \n",
       "cluster_label                                  \n",
       "⚡ Volume / Pressing                      1.54  \n",
       "🎩 Créateur / Passeur                     4.55  \n",
       "🎯 Finisseur (tirs/buts)                  0.14  \n",
       "🧨 Agressif / Indiscipliné                0.57  "
      ]
     },
     "execution_count": 17,
     "metadata": {},
     "output_type": "execute_result"
    }
   ],
   "source": [
    "# --- Construction d’un DataFrame propre pour profiling\n",
    "profil_df = numeric_df.copy()\n",
    "profil_df[\"cluster_label\"] = df_clusters[\"cluster_label\"].values  # on ajoute les labels\n",
    "\n",
    "# ✅ Sélection SÉCURISÉE des colonnes numériques uniquement\n",
    "profil_numeric = profil_df.select_dtypes(include=[np.number]).copy()\n",
    "profil_numeric[\"cluster_label\"] = profil_df[\"cluster_label\"]\n",
    "\n",
    "# Supprimer toutes les colonnes issues d'identifiants non pertinents (serial, id, etc.)\n",
    "profil_numeric = profil_numeric[[col for col in profil_numeric.columns if \"serial\" not in col.lower() and \"id\" not in col.lower()]]\n",
    "print(\"✅ Colonnes 'serial' et identifiants non pertinents supprimées :\", profil_numeric.shape)\n",
    "\n",
    "\n",
    "print(\"✅ Dataset de profiling numérique prêt : \", profil_numeric.shape)\n",
    "\n",
    "# --- Calcul des moyennes par cluster\n",
    "cluster_profile_table = profil_numeric.groupby(\"cluster_label\").mean().round(2)\n",
    "\n",
    "# ✅ Calcul variance uniquement sur les colonnes numériques SANS cluster_label\n",
    "variance = profil_numeric.drop(columns=[\"cluster_label\"]).var().sort_values(ascending=False)\n",
    "\n",
    "# On sélectionne les N features les plus discriminantes\n",
    "TOP_N = 12  # tu peux ajuster à 8 / 10 / 15 selon lisibilité\n",
    "top_features = variance.index[:TOP_N]\n",
    "cluster_profile_table = cluster_profile_table[top_features]\n",
    "\n",
    "print(\"🎯 PROFIL DES CLUSTERS — Features les plus discriminantes :\")\n",
    "cluster_profile_table\n"
   ]
  }
 ],
 "metadata": {
  "kernelspec": {
   "display_name": "Python 3",
   "language": "python",
   "name": "python3"
  },
  "language_info": {
   "codemirror_mode": {
    "name": "ipython",
    "version": 3
   },
   "file_extension": ".py",
   "mimetype": "text/x-python",
   "name": "python",
   "nbconvert_exporter": "python",
   "pygments_lexer": "ipython3",
   "version": "3.12.6"
  }
 },
 "nbformat": 4,
 "nbformat_minor": 5
}
