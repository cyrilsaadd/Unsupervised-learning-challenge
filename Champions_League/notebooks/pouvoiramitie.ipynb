{
 "cells": [
  {
   "cell_type": "code",
   "execution_count": 3,
   "id": "e0608f1d",
   "metadata": {},
   "outputs": [
    {
     "name": "stdout",
     "output_type": "stream",
     "text": [
      "d:\\SCHOOL\\FundamentalsOfML\\Unsupervised-learning-challenge\\Champions_League\\notebooks\n"
     ]
    }
   ],
   "source": [
    "import os\n",
    "print(os.getcwd())"
   ]
  },
  {
   "cell_type": "code",
   "execution_count": 5,
   "id": "90672a53",
   "metadata": {},
   "outputs": [
    {
     "name": "stdout",
     "output_type": "stream",
     "text": [
      "attacking       | ✅ existe | ../data/attacking.csv\n",
      "attempts        | ✅ existe | ../data/attempts.csv\n",
      "defending       | ✅ existe | ../data/defending.csv\n",
      "disciplinary    | ✅ existe | ../data/disciplinary.csv\n",
      "distributon     | ✅ existe | ../data/distributon.csv\n",
      "goalkeeping     | ✅ existe | ../data/goalkeeping.csv\n",
      "goals           | ✅ existe | ../data/goals.csv\n",
      "key_stats       | ✅ existe | ../data/key_stats.csv\n",
      "attacking: (176, 9) colonnes -> ['serial', 'player_name', 'club', 'position', 'assists', 'corner_taken']\n",
      "attempts: (546, 9) colonnes -> ['serial', 'player_name', 'club', 'position', 'total_attempts', 'on_target']\n",
      "defending: (627, 10) colonnes -> ['serial', 'player_name', 'club', 'position', 'balls_recoverd', 'tackles']\n",
      "disciplinary: (584, 10) colonnes -> ['serial', 'player_name', 'club', 'position', 'fouls_committed', 'fouls_suffered']\n",
      "distributon: (608, 12) colonnes -> ['serial', 'player_name', 'club', 'position', 'pass_accuracy', 'pass_attempted']\n",
      "goalkeeping: (53, 10) colonnes -> ['serial', 'player_name', 'club', 'position', 'saved', 'conceded']\n",
      "goals: (183, 13) colonnes -> ['serial', 'player_name', 'club', 'position', 'goals', 'right_foot']\n",
      "key_stats: (747, 8) colonnes -> ['player_name', 'club', 'position', 'minutes_played', 'match_played', 'goals']\n"
     ]
    }
   ],
   "source": [
    "# --- Imports\n",
    "import pandas as pd\n",
    "import numpy as np\n",
    "from sklearn.preprocessing import StandardScaler\n",
    "from sklearn.cluster import KMeans\n",
    "from sklearn.decomposition import PCA\n",
    "import matplotlib.pyplot as plt\n",
    "import seaborn as sns\n",
    "\n",
    "# --- Chargement des fichiers (depuis ../data/)\n",
    "files = {\n",
    "    \"attacking\": \"../data/attacking.csv\",\n",
    "    \"attempts\": \"../data/attempts.csv\",\n",
    "    \"defending\": \"../data/defending.csv\",\n",
    "    \"disciplinary\": \"../data/disciplinary.csv\",\n",
    "    \"distributon\": \"../data/distributon.csv\",\n",
    "    \"goalkeeping\": \"../data/goalkeeping.csv\",\n",
    "    \"goals\": \"../data/goals.csv\",\n",
    "    \"key_stats\": \"../data/key_stats.csv\"\n",
    "}\n",
    "\n",
    "# --- Vérification des chemins\n",
    "import os\n",
    "for name, path in files.items():\n",
    "    print(f\"{name:<15} | {'✅ existe' if os.path.exists(path) else '❌ introuvable'} | {path}\")\n",
    "\n",
    "# --- Chargement des CSV\n",
    "dfs = {name: pd.read_csv(path) for name, path in files.items()}\n",
    "for name, df in dfs.items():\n",
    "    print(f\"{name}: {df.shape} colonnes -> {list(df.columns[:6])}\")\n"
   ]
  },
  {
   "cell_type": "code",
   "execution_count": 6,
   "id": "4628f45c",
   "metadata": {},
   "outputs": [],
   "source": [
    "def clean_df(df):\n",
    "    df = df.copy()\n",
    "    df.columns = df.columns.str.lower().str.strip().str.replace(\" \", \"_\")\n",
    "    if \"player_name\" in df.columns:\n",
    "        df[\"player_name\"] = df[\"player_name\"].str.lower().str.strip()\n",
    "    if \"club\" in df.columns:\n",
    "        df[\"club\"] = df[\"club\"].str.lower().str.strip()\n",
    "    return df\n",
    "\n",
    "dfs = {name: clean_df(df) for name, df in dfs.items()}\n"
   ]
  },
  {
   "cell_type": "code",
   "execution_count": 7,
   "id": "9b706dad",
   "metadata": {},
   "outputs": [
    {
     "name": "stdout",
     "output_type": "stream",
     "text": [
      "✅ Fusion terminée : (751, 67)\n"
     ]
    },
    {
     "data": {
      "application/vnd.microsoft.datawrangler.viewer.v0+json": {
       "columns": [
        {
         "name": "index",
         "rawType": "object",
         "type": "string"
        },
        {
         "name": "0",
         "rawType": "float64",
         "type": "float"
        }
       ],
       "ref": "abca00fd-32e4-4b6e-b50a-571a4c02f8ea",
       "rows": [
        [
         "goal_conceded",
         "0.929427430093209"
        ],
        [
         "goal_saved",
         "0.929427430093209"
        ],
        [
         "goal_position_x",
         "0.929427430093209"
        ],
        [
         "goal_cleansheets",
         "0.929427430093209"
        ],
        [
         "goal_punches_made",
         "0.929427430093209"
        ],
        [
         "goal_match_played_x",
         "0.929427430093209"
        ],
        [
         "goal_saved_penalties",
         "0.929427430093209"
        ],
        [
         "goal_serial_x",
         "0.929427430093209"
        ],
        [
         "atta_position",
         "0.7656458055925432"
        ],
        [
         "atta_serial",
         "0.7656458055925432"
        ],
        [
         "atta_assists",
         "0.7656458055925432"
        ],
        [
         "atta_dribbles",
         "0.7656458055925432"
        ],
        [
         "atta_match_played",
         "0.7656458055925432"
        ],
        [
         "atta_corner_taken",
         "0.7656458055925432"
        ],
        [
         "atta_offsides",
         "0.7656458055925432"
        ],
        [
         "goal_position_y",
         "0.7563249001331558"
        ],
        [
         "goal_goals",
         "0.7563249001331558"
        ],
        [
         "goal_inside_area",
         "0.7563249001331558"
        ],
        [
         "goal_serial_y",
         "0.7563249001331558"
        ],
        [
         "goal_outside_areas",
         "0.7563249001331558"
        ]
       ],
       "shape": {
        "columns": 1,
        "rows": 20
       }
      },
      "text/plain": [
       "goal_conceded           0.929427\n",
       "goal_saved              0.929427\n",
       "goal_position_x         0.929427\n",
       "goal_cleansheets        0.929427\n",
       "goal_punches_made       0.929427\n",
       "goal_match_played_x     0.929427\n",
       "goal_saved_penalties    0.929427\n",
       "goal_serial_x           0.929427\n",
       "atta_position           0.765646\n",
       "atta_serial             0.765646\n",
       "atta_assists            0.765646\n",
       "atta_dribbles           0.765646\n",
       "atta_match_played       0.765646\n",
       "atta_corner_taken       0.765646\n",
       "atta_offsides           0.765646\n",
       "goal_position_y         0.756325\n",
       "goal_goals              0.756325\n",
       "goal_inside_area        0.756325\n",
       "goal_serial_y           0.756325\n",
       "goal_outside_areas      0.756325\n",
       "dtype: float64"
      ]
     },
     "execution_count": 7,
     "metadata": {},
     "output_type": "execute_result"
    }
   ],
   "source": [
    "# On garde uniquement 'player_name' et 'club' comme clés\n",
    "# et on préfixe les colonnes pour éviter les collisions\n",
    "merged_df = None\n",
    "for name, df in dfs.items():\n",
    "    prefix = name[:4] + \"_\"  # ex: atta_, atte_, defe_, etc.\n",
    "    keys = [\"player_name\", \"club\"]\n",
    "    non_keys = [c for c in df.columns if c not in keys]\n",
    "    df = df[keys + non_keys]\n",
    "    df = df.rename(columns={c: prefix + c for c in non_keys})\n",
    "    merged_df = df if merged_df is None else merged_df.merge(df, on=keys, how=\"outer\")\n",
    "\n",
    "print(\"✅ Fusion terminée :\", merged_df.shape)\n",
    "merged_df.head()\n",
    "merged_df.isna().mean().sort_values(ascending=False).head(20)\n",
    "\n"
   ]
  },
  {
   "cell_type": "code",
   "execution_count": 8,
   "id": "40246d5c",
   "metadata": {},
   "outputs": [
    {
     "name": "stdout",
     "output_type": "stream",
     "text": [
      "Nombre de features numériques : 56\n"
     ]
    }
   ],
   "source": [
    "# On remplace les NaN numériques par 0\n",
    "merged_df = merged_df.fillna(0)\n",
    "\n",
    "# On garde uniquement les colonnes numériques pour le clustering\n",
    "num_df = merged_df.select_dtypes(include=np.number)\n",
    "\n",
    "print(f\"Nombre de features numériques : {num_df.shape[1]}\")\n"
   ]
  },
  {
   "cell_type": "code",
   "execution_count": 9,
   "id": "e10e763c",
   "metadata": {},
   "outputs": [
    {
     "data": {
      "image/png": "[encoded data removed]",
      "text/plain": [
       "<Figure size 640x480 with 1 Axes>"
      ]
     },
     "metadata": {},
     "output_type": "display_data"
    }
   ],
   "source": [
    "scaler = StandardScaler()\n",
    "X = scaler.fit_transform(num_df)\n",
    "\n",
    "inertias = []\n",
    "for k in range(2, 10):\n",
    "    km = KMeans(n_clusters=k, n_init='auto', random_state=42)\n",
    "    km.fit(X)\n",
    "    inertias.append(km.inertia_)\n",
    "\n",
    "plt.plot(range(2, 10), inertias, marker='o')\n",
    "plt.title(\"Méthode du coude — choix du nombre de clusters\")\n",
    "plt.xlabel(\"Nombre de clusters (k)\")\n",
    "plt.ylabel(\"Inertie intra-cluster\")\n",
    "plt.show()\n"
   ]
  },
  {
   "cell_type": "code",
   "execution_count": 10,
   "id": "eb596bda",
   "metadata": {},
   "outputs": [
    {
     "data": {
      "application/vnd.microsoft.datawrangler.viewer.v0+json": {
       "columns": [
        {
         "name": "cluster",
         "rawType": "int32",
         "type": "integer"
        },
        {
         "name": "count",
         "rawType": "int64",
         "type": "integer"
        }
       ],
       "ref": "c22a54df-6f3b-4b5c-86d7-44d5d4e3afb2",
       "rows": [
        [
         "1",
         "250"
        ],
        [
         "3",
         "177"
        ],
        [
         "0",
         "171"
        ],
        [
         "2",
         "86"
        ],
        [
         "6",
         "40"
        ],
        [
         "5",
         "20"
        ],
        [
         "4",
         "7"
        ]
       ],
       "shape": {
        "columns": 1,
        "rows": 7
       }
      },
      "text/plain": [
       "cluster\n",
       "1    250\n",
       "3    177\n",
       "0    171\n",
       "2     86\n",
       "6     40\n",
       "5     20\n",
       "4      7\n",
       "Name: count, dtype: int64"
      ]
     },
     "execution_count": 10,
     "metadata": {},
     "output_type": "execute_result"
    }
   ],
   "source": [
    "# Choisir le k trouvé via la méthode du coude\n",
    "best_k = 7  # à ajuster selon le graphe du coude\n",
    "\n",
    "kmeans = KMeans(n_clusters=best_k, n_init='auto', random_state=42)\n",
    "merged_df[\"cluster\"] = kmeans.fit_predict(X)\n",
    "\n",
    "merged_df[\"cluster\"].value_counts()\n"
   ]
  },
  {
   "cell_type": "code",
   "execution_count": 11,
   "id": "096072e3",
   "metadata": {},
   "outputs": [
    {
     "data": {
      "application/vnd.microsoft.datawrangler.viewer.v0+json": {
       "columns": [
        {
         "name": "index",
         "rawType": "object",
         "type": "string"
        },
        {
         "name": "0",
         "rawType": "float64",
         "type": "float"
        },
        {
         "name": "1",
         "rawType": "float64",
         "type": "float"
        },
        {
         "name": "2",
         "rawType": "float64",
         "type": "float"
        },
        {
         "name": "3",
         "rawType": "float64",
         "type": "float"
        },
        {
         "name": "4",
         "rawType": "float64",
         "type": "float"
        },
        {
         "name": "5",
         "rawType": "float64",
         "type": "float"
        },
        {
         "name": "6",
         "rawType": "float64",
         "type": "float"
        }
       ],
       "ref": "ffdedfd2-66b4-4edb-8e46-3a4f53ed50e4",
       "rows": [
        [
         "atta_serial",
         "15.39",
         "7.39",
         "15.53",
         "1.81",
         "30.57",
         "11.2",
         "45.15"
        ],
        [
         "atta_assists",
         "0.37",
         "0.15",
         "0.34",
         "0.03",
         "2.43",
         "3.3",
         "1.6"
        ],
        [
         "atta_corner_taken",
         "0.52",
         "0.33",
         "0.51",
         "0.0",
         "5.43",
         "11.1",
         "2.82"
        ],
        [
         "atta_offsides",
         "0.15",
         "0.04",
         "0.19",
         "0.0",
         "5.71",
         "1.35",
         "3.32"
        ],
        [
         "atta_dribbles",
         "1.54",
         "0.44",
         "1.55",
         "0.02",
         "24.0",
         "16.5",
         "14.3"
        ],
        [
         "atta_match_played",
         "2.1",
         "0.58",
         "1.57",
         "0.09",
         "10.86",
         "9.2",
         "7.88"
        ],
        [
         "atte_serial",
         "228.61",
         "252.45",
         "153.55",
         "77.65",
         "6.29",
         "99.7",
         "52.75"
        ],
        [
         "atte_total_attempts",
         "3.92",
         "2.33",
         "8.27",
         "0.46",
         "33.86",
         "12.2",
         "14.05"
        ],
        [
         "atte_on_target",
         "0.93",
         "0.63",
         "3.55",
         "0.15",
         "17.71",
         "3.95",
         "5.6"
        ],
        [
         "atte_off_target",
         "1.98",
         "1.09",
         "2.88",
         "0.17",
         "9.29",
         "4.2",
         "4.68"
        ],
        [
         "atte_blocked",
         "1.01",
         "0.61",
         "1.84",
         "0.14",
         "6.86",
         "4.05",
         "3.78"
        ],
        [
         "atte_match_played",
         "6.52",
         "3.38",
         "6.22",
         "0.39",
         "10.86",
         "9.8",
         "7.55"
        ],
        [
         "defe_serial",
         "111.47",
         "359.56",
         "351.94",
         "196.18",
         "334.29",
         "143.9",
         "290.82"
        ],
        [
         "defe_balls_recoverd",
         "33.3",
         "9.48",
         "9.65",
         "0.86",
         "11.57",
         "30.25",
         "13.82"
        ],
        [
         "defe_tackles",
         "9.52",
         "2.53",
         "3.55",
         "0.23",
         "3.0",
         "7.6",
         "4.68"
        ],
        [
         "defe_t_won",
         "4.4",
         "1.2",
         "1.26",
         "0.09",
         "0.57",
         "2.75",
         "1.58"
        ],
        [
         "defe_t_lost",
         "5.12",
         "1.34",
         "2.29",
         "0.14",
         "2.43",
         "4.85",
         "3.1"
        ],
        [
         "defe_clearance_attempted",
         "13.74",
         "3.81",
         "3.36",
         "0.43",
         "3.29",
         "7.3",
         "3.05"
        ],
        [
         "defe_match_played",
         "7.01",
         "4.0",
         "6.01",
         "0.73",
         "10.86",
         "9.8",
         "7.88"
        ],
        [
         "disc_serial",
         "149.88",
         "317.62",
         "234.23",
         "94.92",
         "205.0",
         "125.3",
         "175.38"
        ]
       ],
       "shape": {
        "columns": 7,
        "rows": 20
       }
      },
      "text/html": [
       "<div>\n",
       "<style scoped>\n",
       "    .dataframe tbody tr th:only-of-type {\n",
       "        vertical-align: middle;\n",
       "    }\n",
       "\n",
       "    .dataframe tbody tr th {\n",
       "        vertical-align: top;\n",
       "    }\n",
       "\n",
       "    .dataframe thead th {\n",
       "        text-align: right;\n",
       "    }\n",
       "</style>\n",
       "<table border=\"1\" class=\"dataframe\">\n",
       "  <thead>\n",
       "    <tr style=\"text-align: right;\">\n",
       "      <th>cluster</th>\n",
       "      <th>0</th>\n",
       "      <th>1</th>\n",
       "      <th>2</th>\n",
       "      <th>3</th>\n",
       "      <th>4</th>\n",
       "      <th>5</th>\n",
       "      <th>6</th>\n",
       "    </tr>\n",
       "  </thead>\n",
       "  <tbody>\n",
       "    <tr>\n",
       "      <th>atta_serial</th>\n",
       "      <td>15.39</td>\n",
       "      <td>7.39</td>\n",
       "      <td>15.53</td>\n",
       "      <td>1.81</td>\n",
       "      <td>30.57</td>\n",
       "      <td>11.20</td>\n",
       "      <td>45.15</td>\n",
       "    </tr>\n",
       "    <tr>\n",
       "      <th>atta_assists</th>\n",
       "      <td>0.37</td>\n",
       "      <td>0.15</td>\n",
       "      <td>0.34</td>\n",
       "      <td>0.03</td>\n",
       "      <td>2.43</td>\n",
       "      <td>3.30</td>\n",
       "      <td>1.60</td>\n",
       "    </tr>\n",
       "    <tr>\n",
       "      <th>atta_corner_taken</th>\n",
       "      <td>0.52</td>\n",
       "      <td>0.33</td>\n",
       "      <td>0.51</td>\n",
       "      <td>0.00</td>\n",
       "      <td>5.43</td>\n",
       "      <td>11.10</td>\n",
       "      <td>2.82</td>\n",
       "    </tr>\n",
       "    <tr>\n",
       "      <th>atta_offsides</th>\n",
       "      <td>0.15</td>\n",
       "      <td>0.04</td>\n",
       "      <td>0.19</td>\n",
       "      <td>0.00</td>\n",
       "      <td>5.71</td>\n",
       "      <td>1.35</td>\n",
       "      <td>3.32</td>\n",
       "    </tr>\n",
       "    <tr>\n",
       "      <th>atta_dribbles</th>\n",
       "      <td>1.54</td>\n",
       "      <td>0.44</td>\n",
       "      <td>1.55</td>\n",
       "      <td>0.02</td>\n",
       "      <td>24.00</td>\n",
       "      <td>16.50</td>\n",
       "      <td>14.30</td>\n",
       "    </tr>\n",
       "    <tr>\n",
       "      <th>atta_match_played</th>\n",
       "      <td>2.10</td>\n",
       "      <td>0.58</td>\n",
       "      <td>1.57</td>\n",
       "      <td>0.09</td>\n",
       "      <td>10.86</td>\n",
       "      <td>9.20</td>\n",
       "      <td>7.88</td>\n",
       "    </tr>\n",
       "    <tr>\n",
       "      <th>atte_serial</th>\n",
       "      <td>228.61</td>\n",
       "      <td>252.45</td>\n",
       "      <td>153.55</td>\n",
       "      <td>77.65</td>\n",
       "      <td>6.29</td>\n",
       "      <td>99.70</td>\n",
       "      <td>52.75</td>\n",
       "    </tr>\n",
       "    <tr>\n",
       "      <th>atte_total_attempts</th>\n",
       "      <td>3.92</td>\n",
       "      <td>2.33</td>\n",
       "      <td>8.27</td>\n",
       "      <td>0.46</td>\n",
       "      <td>33.86</td>\n",
       "      <td>12.20</td>\n",
       "      <td>14.05</td>\n",
       "    </tr>\n",
       "    <tr>\n",
       "      <th>atte_on_target</th>\n",
       "      <td>0.93</td>\n",
       "      <td>0.63</td>\n",
       "      <td>3.55</td>\n",
       "      <td>0.15</td>\n",
       "      <td>17.71</td>\n",
       "      <td>3.95</td>\n",
       "      <td>5.60</td>\n",
       "    </tr>\n",
       "    <tr>\n",
       "      <th>atte_off_target</th>\n",
       "      <td>1.98</td>\n",
       "      <td>1.09</td>\n",
       "      <td>2.88</td>\n",
       "      <td>0.17</td>\n",
       "      <td>9.29</td>\n",
       "      <td>4.20</td>\n",
       "      <td>4.68</td>\n",
       "    </tr>\n",
       "    <tr>\n",
       "      <th>atte_blocked</th>\n",
       "      <td>1.01</td>\n",
       "      <td>0.61</td>\n",
       "      <td>1.84</td>\n",
       "      <td>0.14</td>\n",
       "      <td>6.86</td>\n",
       "      <td>4.05</td>\n",
       "      <td>3.78</td>\n",
       "    </tr>\n",
       "    <tr>\n",
       "      <th>atte_match_played</th>\n",
       "      <td>6.52</td>\n",
       "      <td>3.38</td>\n",
       "      <td>6.22</td>\n",
       "      <td>0.39</td>\n",
       "      <td>10.86</td>\n",
       "      <td>9.80</td>\n",
       "      <td>7.55</td>\n",
       "    </tr>\n",
       "    <tr>\n",
       "      <th>defe_serial</th>\n",
       "      <td>111.47</td>\n",
       "      <td>359.56</td>\n",
       "      <td>351.94</td>\n",
       "      <td>196.18</td>\n",
       "      <td>334.29</td>\n",
       "      <td>143.90</td>\n",
       "      <td>290.82</td>\n",
       "    </tr>\n",
       "    <tr>\n",
       "      <th>defe_balls_recoverd</th>\n",
       "      <td>33.30</td>\n",
       "      <td>9.48</td>\n",
       "      <td>9.65</td>\n",
       "      <td>0.86</td>\n",
       "      <td>11.57</td>\n",
       "      <td>30.25</td>\n",
       "      <td>13.82</td>\n",
       "    </tr>\n",
       "    <tr>\n",
       "      <th>defe_tackles</th>\n",
       "      <td>9.52</td>\n",
       "      <td>2.53</td>\n",
       "      <td>3.55</td>\n",
       "      <td>0.23</td>\n",
       "      <td>3.00</td>\n",
       "      <td>7.60</td>\n",
       "      <td>4.68</td>\n",
       "    </tr>\n",
       "    <tr>\n",
       "      <th>defe_t_won</th>\n",
       "      <td>4.40</td>\n",
       "      <td>1.20</td>\n",
       "      <td>1.26</td>\n",
       "      <td>0.09</td>\n",
       "      <td>0.57</td>\n",
       "      <td>2.75</td>\n",
       "      <td>1.58</td>\n",
       "    </tr>\n",
       "    <tr>\n",
       "      <th>defe_t_lost</th>\n",
       "      <td>5.12</td>\n",
       "      <td>1.34</td>\n",
       "      <td>2.29</td>\n",
       "      <td>0.14</td>\n",
       "      <td>2.43</td>\n",
       "      <td>4.85</td>\n",
       "      <td>3.10</td>\n",
       "    </tr>\n",
       "    <tr>\n",
       "      <th>defe_clearance_attempted</th>\n",
       "      <td>13.74</td>\n",
       "      <td>3.81</td>\n",
       "      <td>3.36</td>\n",
       "      <td>0.43</td>\n",
       "      <td>3.29</td>\n",
       "      <td>7.30</td>\n",
       "      <td>3.05</td>\n",
       "    </tr>\n",
       "    <tr>\n",
       "      <th>defe_match_played</th>\n",
       "      <td>7.01</td>\n",
       "      <td>4.00</td>\n",
       "      <td>6.01</td>\n",
       "      <td>0.73</td>\n",
       "      <td>10.86</td>\n",
       "      <td>9.80</td>\n",
       "      <td>7.88</td>\n",
       "    </tr>\n",
       "    <tr>\n",
       "      <th>disc_serial</th>\n",
       "      <td>149.88</td>\n",
       "      <td>317.62</td>\n",
       "      <td>234.23</td>\n",
       "      <td>94.92</td>\n",
       "      <td>205.00</td>\n",
       "      <td>125.30</td>\n",
       "      <td>175.38</td>\n",
       "    </tr>\n",
       "  </tbody>\n",
       "</table>\n",
       "</div>"
      ],
      "text/plain": [
       "cluster                        0       1       2       3       4       5  \\\n",
       "atta_serial                15.39    7.39   15.53    1.81   30.57   11.20   \n",
       "atta_assists                0.37    0.15    0.34    0.03    2.43    3.30   \n",
       "atta_corner_taken           0.52    0.33    0.51    0.00    5.43   11.10   \n",
       "atta_offsides               0.15    0.04    0.19    0.00    5.71    1.35   \n",
       "atta_dribbles               1.54    0.44    1.55    0.02   24.00   16.50   \n",
       "atta_match_played           2.10    0.58    1.57    0.09   10.86    9.20   \n",
       "atte_serial               228.61  252.45  153.55   77.65    6.29   99.70   \n",
       "atte_total_attempts         3.92    2.33    8.27    0.46   33.86   12.20   \n",
       "atte_on_target              0.93    0.63    3.55    0.15   17.71    3.95   \n",
       "atte_off_target             1.98    1.09    2.88    0.17    9.29    4.20   \n",
       "atte_blocked                1.01    0.61    1.84    0.14    6.86    4.05   \n",
       "atte_match_played           6.52    3.38    6.22    0.39   10.86    9.80   \n",
       "defe_serial               111.47  359.56  351.94  196.18  334.29  143.90   \n",
       "defe_balls_recoverd        33.30    9.48    9.65    0.86   11.57   30.25   \n",
       "defe_tackles                9.52    2.53    3.55    0.23    3.00    7.60   \n",
       "defe_t_won                  4.40    1.20    1.26    0.09    0.57    2.75   \n",
       "defe_t_lost                 5.12    1.34    2.29    0.14    2.43    4.85   \n",
       "defe_clearance_attempted   13.74    3.81    3.36    0.43    3.29    7.30   \n",
       "defe_match_played           7.01    4.00    6.01    0.73   10.86    9.80   \n",
       "disc_serial               149.88  317.62  234.23   94.92  205.00  125.30   \n",
       "\n",
       "cluster                        6  \n",
       "atta_serial                45.15  \n",
       "atta_assists                1.60  \n",
       "atta_corner_taken           2.82  \n",
       "atta_offsides               3.32  \n",
       "atta_dribbles              14.30  \n",
       "atta_match_played           7.88  \n",
       "atte_serial                52.75  \n",
       "atte_total_attempts        14.05  \n",
       "atte_on_target              5.60  \n",
       "atte_off_target             4.68  \n",
       "atte_blocked                3.78  \n",
       "atte_match_played           7.55  \n",
       "defe_serial               290.82  \n",
       "defe_balls_recoverd        13.82  \n",
       "defe_tackles                4.68  \n",
       "defe_t_won                  1.58  \n",
       "defe_t_lost                 3.10  \n",
       "defe_clearance_attempted    3.05  \n",
       "defe_match_played           7.88  \n",
       "disc_serial               175.38  "
      ]
     },
     "metadata": {},
     "output_type": "display_data"
    }
   ],
   "source": [
    "# Moyenne des variables numériques par cluster\n",
    "cluster_profile = merged_df.groupby(\"cluster\").mean(numeric_only=True)\n",
    "display(cluster_profile.round(2).T.head(20))\n",
    "\n",
    "# Exemple d’interprétation : tu peux observer quelles stats dominent chaque cluster\n"
   ]
  },
  {
   "cell_type": "code",
   "execution_count": 12,
   "id": "0f9e957a",
   "metadata": {},
   "outputs": [
    {
     "data": {
      "image/png": "[encoded data removed]",
      "text/plain": [
       "<Figure size 800x600 with 1 Axes>"
      ]
     },
     "metadata": {},
     "output_type": "display_data"
    }
   ],
   "source": [
    "pca = PCA(n_components=2)\n",
    "coords = pca.fit_transform(X)\n",
    "merged_df[\"pca1\"], merged_df[\"pca2\"] = coords[:,0], coords[:,1]\n",
    "\n",
    "plt.figure(figsize=(8,6))\n",
    "sns.scatterplot(data=merged_df, x=\"pca1\", y=\"pca2\", hue=\"cluster\", palette=\"Set2\", alpha=0.8)\n",
    "plt.title(\"Visualisation PCA des clusters de joueurs\")\n",
    "plt.show()\n"
   ]
  },
  {
   "cell_type": "code",
   "execution_count": 13,
   "id": "7eb3c51a",
   "metadata": {},
   "outputs": [
    {
     "name": "stdout",
     "output_type": "stream",
     "text": [
      "✅ Fichier exporté : champions_league_clusters.csv\n"
     ]
    }
   ],
   "source": [
    "merged_df.to_csv(\"champions_league_clusters.csv\", index=False)\n",
    "print(\"✅ Fichier exporté : champions_league_clusters.csv\")\n"
   ]
  },
  {
   "cell_type": "code",
   "execution_count": null,
   "id": "6f7ce965",
   "metadata": {},
   "outputs": [],
   "source": []
  },
  {
   "cell_type": "code",
   "execution_count": null,
   "id": "c59cc21e",
   "metadata": {},
   "outputs": [],
   "source": []
  }
 ],
 "metadata": {
  "kernelspec": {
   "display_name": "venv (3.13.6)",
   "language": "python",
   "name": "python3"
  },
  "language_info": {
   "codemirror_mode": {
    "name": "ipython",
    "version": 3
   },
   "file_extension": ".py",
   "mimetype": "text/x-python",
   "name": "python",
   "nbconvert_exporter": "python",
   "pygments_lexer": "ipython3",
   "version": "3.13.6"
  }
 },
 "nbformat": 4,
 "nbformat_minor": 5
}
