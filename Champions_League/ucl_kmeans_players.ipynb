{
 "cells": [
  {
   "cell_type": "markdown",
   "id": "5cbfad41",
   "metadata": {},
   "source": [
    "# UEFA Champions League 2021-22 — Player Clustering (Field Players only)\n",
    "Pipeline: cleaning → correlation pruning → scaling → K-Means → interpretation"
   ]
  },
  {
   "cell_type": "code",
   "execution_count": null,
   "id": "2ac5ca67",
   "metadata": {},
   "outputs": [],
   "source": [
    "\n",
    "import pandas as pd\n",
    "import numpy as np\n",
    "from pathlib import Path\n",
    "import matplotlib.pyplot as plt\n",
    "\n",
    "from ucl_clustering_pipeline import cluster_players_pipeline, plot_metric_curve\n",
    "\n",
    "# Try to reuse an existing merged dataframe `df` if running inside your environment/notebook\n",
    "# Otherwise, attempt to recreate it with the same relative paths used in your original notebook.\n",
    "df = None\n",
    "try:\n",
    "    df  # noqa\n",
    "except NameError:\n",
    "    df = None\n",
    "\n",
    "if df is None:\n",
    "    # Fallback: try to build df from csvs (paths based on your earlier notebook)\n",
    "    data_root = Path(\"../data\")\n",
    "    csvs = {\n",
    "        \"attack_ds\": data_root / \"attacking.csv\",\n",
    "        \"attempts_ds\": data_root / \"attempts.csv\",\n",
    "        \"defend_ds\": data_root / \"defending.csv\",\n",
    "        \"disciplinary_ds\": data_root / \"disciplinary.csv\",\n",
    "        \"distribution_ds\": data_root / \"distribution.csv\",\n",
    "        \"goalkeeping_ds\": data_root / \"goalkeeping.csv\",\n",
    "        \"goals_ds\": data_root / \"goals.csv\",\n",
    "        \"key_ds\": data_root / \"key_stats.csv\",\n",
    "        \"passing_ds\": data_root / \"passing.csv\",\n",
    "        \"misc_ds\": data_root / \"miscellaneous.csv\",\n",
    "    }\n",
    "    exists = {k: p.exists() for k, p in csvs.items()}\n",
    "    print(\"CSV presence:\", exists)\n",
    "\n",
    "    if not all(exists.values()):\n",
    "        raise FileNotFoundError(\"One or more CSVs not found. Please adjust `data_root` or ensure files are present.\")\n",
    "\n",
    "    attack_ds = pd.read_csv(csvs[\"attack_ds\"])\n",
    "    attempts_ds = pd.read_csv(csvs[\"attempts_ds\"])\n",
    "    defend_ds = pd.read_csv(csvs[\"defend_ds\"])\n",
    "    disciplinary_ds = pd.read_csv(csvs[\"disciplinary_ds\"])\n",
    "    distribution_ds = pd.read_csv(csvs[\"distribution_ds\"])\n",
    "    goalkeeping_ds = pd.read_csv(csvs[\"goalkeeping_ds\"])\n",
    "    goals_ds = pd.read_csv(csvs[\"goals_ds\"])\n",
    "    key_ds = pd.read_csv(csvs[\"key_ds\"])\n",
    "    passing_ds = pd.read_csv(csvs[\"passing_ds\"])\n",
    "    misc_ds = pd.read_csv(csvs[\"misc_ds\"])\n",
    "\n",
    "    merge_keys = ['serial','player_name','club','position','match_played']\n",
    "    df = attack_ds.merge(attempts_ds, on=merge_keys, how='outer')\\\n",
    "                  .merge(defend_ds, on=merge_keys, how='outer')\\\n",
    "                  .merge(disciplinary_ds, on=merge_keys, how='outer')\\\n",
    "                  .merge(distribution_ds, on=merge_keys, how='outer')\\\n",
    "                  .merge(goalkeeping_ds, on=merge_keys, how='outer')\\\n",
    "                  .merge(goals_ds, on=merge_keys, how='outer')\\\n",
    "                  .merge(key_ds, on=merge_keys, how='outer')\\\n",
    "                  .merge(passing_ds, on=merge_keys, how='outer')\\\n",
    "                  .merge(misc_ds, on=merge_keys, how='outer')\n",
    "\n",
    "print(\"Merged shape:\", None if df is None else df.shape)\n",
    "print(\"Columns (sample):\", None if df is None else list(df.columns)[:12])\n"
   ]
  },
  {
   "cell_type": "markdown",
   "id": "f3a93ece",
   "metadata": {},
   "source": [
    "## Run pipeline (Field players only)"
   ]
  },
  {
   "cell_type": "code",
   "execution_count": null,
   "id": "da9a8bf8",
   "metadata": {},
   "outputs": [],
   "source": [
    "\n",
    "results = cluster_players_pipeline(\n",
    "    df=df,\n",
    "    id_cols=[\"player_name\", \"club\", \"position\"],\n",
    "    position_col=\"position\",\n",
    "    correlation_threshold=0.90,\n",
    "    k_min=2, k_max=10,\n",
    "    drop_cols=[\"match_played\"]  # typically not informative post-merge\n",
    ")\n",
    "\n",
    "print(\"Best k (silhouette):\", results[\"best_k\"])\n",
    "# Plot silhouette scores across k\n",
    "plot_metric_curve(results[\"silhouette_scores\"], title=\"Silhouette Score vs k\")\n",
    "\n",
    "clusters_df = results[\"clusters_df\"]\n",
    "print(\"Clusters head:\")\n",
    "print(clusters_df.head())\n",
    "\n",
    "# Save labeled players\n",
    "out_csv = Path(\"players_clusters.csv\")\n",
    "clusters_df.to_csv(out_csv, index=False)\n",
    "print(f\"Saved clusters to: {out_csv.resolve()}\")\n",
    "\n",
    "# Display top features per centroid\n",
    "print(\"\\nTop features driving each cluster (z-scores):\")\n",
    "for cid, feats in results[\"centroid_top_features\"].items():\n",
    "    print(f\"Cluster {cid}:\")\n",
    "    for fname, val in feats:\n",
    "        print(f\"  {fname:<30} {val:>8.3f}\")\n"
   ]
  },
  {
   "cell_type": "markdown",
   "id": "57236997",
   "metadata": {},
   "source": [
    "## (Optional) Inspect remaining features"
   ]
  },
  {
   "cell_type": "code",
   "execution_count": null,
   "id": "4d073e03",
   "metadata": {},
   "outputs": [],
   "source": [
    "\n",
    "kept = results[\"kept_features\"]\n",
    "print(f\"{len(kept)} features kept after correlation pruning.\")\n",
    "print(kept[:30])\n"
   ]
  },
  {
   "cell_type": "markdown",
   "id": "3e4197cd",
   "metadata": {},
   "source": [
    "## Goalkeepers set (for a separate analysis later)"
   ]
  },
  {
   "cell_type": "code",
   "execution_count": null,
   "id": "9c707993",
   "metadata": {},
   "outputs": [],
   "source": [
    "\n",
    "gk_df = results[\"goalkeepers_df\"]\n",
    "print(\"Goalkeepers rows:\", gk_df.shape[0])\n",
    "# You can run the same pipeline on gk_df if you want, by passing df=gk_df\n"
   ]
  }
 ],
 "metadata": {},
 "nbformat": 4,
 "nbformat_minor": 5
}
